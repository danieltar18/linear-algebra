{
 "cells": [
  {
   "cell_type": "markdown",
   "id": "2be3eab7",
   "metadata": {},
   "source": [
    "<font color='black' size=7>Linear Equations</font>"
   ]
  },
  {
   "cell_type": "code",
   "execution_count": 1,
   "id": "1b727b7b",
   "metadata": {},
   "outputs": [],
   "source": [
    "import numpy as np\n",
    "import scipy\n",
    "import sympy as sp\n",
    "\n",
    "from numpy import linalg\n",
    "from sympy import Eq, solve\n",
    "from sympy.solvers.solveset import linsolve\n",
    "from sympy.abc import x, y, z, w, a"
   ]
  },
  {
   "cell_type": "markdown",
   "id": "751a66b9-aed2-42e9-a5e3-7533080ac978",
   "metadata": {},
   "source": [
    "# Solving Linear Equations from easy examples to hard ones!"
   ]
  },
  {
   "cell_type": "markdown",
   "id": "47698389-8129-44d7-9b69-a2a53762d489",
   "metadata": {},
   "source": [
    "### 1. Single Variable Linear Equation:\n",
    "\n",
    "\\begin{equation}\n",
    "2x + 3 = 7.5\n",
    "\\end{equation}"
   ]
  },
  {
   "cell_type": "code",
   "execution_count": 2,
   "id": "f6e809e1-6f25-4cde-82b2-a5eeb0331891",
   "metadata": {},
   "outputs": [],
   "source": [
    "A = np.array([[2]]) #coefficient\n",
    "b = np.array([[7.5-3]]) #ordinate"
   ]
  },
  {
   "cell_type": "code",
   "execution_count": 3,
   "id": "dfb263c6-0ff7-4466-9b17-27a037aa98cf",
   "metadata": {},
   "outputs": [
    {
     "name": "stdout",
     "output_type": "stream",
     "text": [
      "Result is 2.25\n"
     ]
    }
   ],
   "source": [
    "print(f\"Result is {linalg.solve(A, b)[0][0]}\") # Returned shape is identical to b"
   ]
  },
  {
   "cell_type": "code",
   "execution_count": 4,
   "id": "fd8a1cf6-94fa-4d2c-b5a6-7d13999d02b0",
   "metadata": {},
   "outputs": [],
   "source": [
    "eq = Eq(2 * x + 3, 7.5)"
   ]
  },
  {
   "cell_type": "code",
   "execution_count": 5,
   "id": "8142acde-91fa-42a3-81be-1b750214c82f",
   "metadata": {},
   "outputs": [
    {
     "name": "stdout",
     "output_type": "stream",
     "text": [
      "Result is 2.25\n"
     ]
    }
   ],
   "source": [
    "print(f\"Result is {round(solve(eq, dict=True)[0][x], 2)}\")"
   ]
  },
  {
   "cell_type": "markdown",
   "id": "f8d353ca-efd3-4f94-b29f-2133236f90a1",
   "metadata": {},
   "source": [
    "### 2. Two Variable Linear Equation:\n",
    " \n",
    "\n",
    "\\begin{equation}\n",
    "x + y + 15.35 = -5.2\n",
    "\\end{equation}"
   ]
  },
  {
   "cell_type": "code",
   "execution_count": 6,
   "id": "144c396d-7a45-4b68-be72-e84bc9be6c2e",
   "metadata": {},
   "outputs": [],
   "source": [
    "# Infinite solutions, define x with y\n",
    "eq = Eq(x + y + 15.35, -5.2)"
   ]
  },
  {
   "cell_type": "code",
   "execution_count": 7,
   "id": "cd3b14b1-37f5-461c-8537-9af66dee5ca0",
   "metadata": {},
   "outputs": [
    {
     "name": "stdout",
     "output_type": "stream",
     "text": [
      "Result is [{x: -y - 20.55}]\n"
     ]
    }
   ],
   "source": [
    "print(f\"Result is {solve(eq, dict=True)}\")"
   ]
  },
  {
   "cell_type": "markdown",
   "id": "0d7f7b0a-719d-4df5-8804-de1230368e12",
   "metadata": {},
   "source": [
    "### 3. Two Variable System of Linear Equations:\n",
    "\n",
    "\\begin{cases}\n",
    "4x + y = 8 \\\\\n",
    "3y - 7x = 5 \n",
    "\\end{cases}"
   ]
  },
  {
   "cell_type": "code",
   "execution_count": 8,
   "id": "7c3ecb6f-759f-4cd1-8ac2-516aaa67ea02",
   "metadata": {},
   "outputs": [],
   "source": [
    "A = np.array([[4, 1], [-7, 3]]) #coefficient\n",
    "b = np.array([8, 5]) #ordinate"
   ]
  },
  {
   "cell_type": "code",
   "execution_count": 9,
   "id": "cc858dd5-6c17-4e38-828d-65aa0e58ca52",
   "metadata": {},
   "outputs": [
    {
     "name": "stdout",
     "output_type": "stream",
     "text": [
      "x = 1.0, y = 4.0\n"
     ]
    }
   ],
   "source": [
    "print(f\"x = {linalg.solve(A, b)[0]}, y = {linalg.solve(A, b)[1]}\")"
   ]
  },
  {
   "cell_type": "code",
   "execution_count": 10,
   "id": "ed448438-551a-48a6-9b26-7c6f91946495",
   "metadata": {},
   "outputs": [],
   "source": [
    "eq1 = Eq(4*x + y, 8)            \n",
    "eq2 = Eq(3*y - 7*x, 5)        \n",
    "ans = solve((eq1, eq2), (x, y))"
   ]
  },
  {
   "cell_type": "code",
   "execution_count": 11,
   "id": "6bd36e51-a4a6-4f2f-9f5d-30313ad70154",
   "metadata": {},
   "outputs": [
    {
     "data": {
      "text/plain": [
       "{x: 1, y: 4}"
      ]
     },
     "execution_count": 11,
     "metadata": {},
     "output_type": "execute_result"
    }
   ],
   "source": [
    "ans"
   ]
  },
  {
   "cell_type": "markdown",
   "id": "418dcf00-b53c-4b5a-98bf-74b6785713d2",
   "metadata": {},
   "source": [
    "### 4. Three Variable System of Linear Equations:\n",
    "\n",
    "\\begin{cases}\n",
    "x + y + z = 6 \\\\\n",
    "2x + y - z = 3 \\\\\n",
    "-x + 3y + 2z = 8\n",
    "\\end{cases}"
   ]
  },
  {
   "cell_type": "code",
   "execution_count": 12,
   "id": "55d9d963-3e50-4562-9aee-0f9ed55ff008",
   "metadata": {},
   "outputs": [],
   "source": [
    "A = np.array([[1, 1, 1], [2, 1, -1], [-1, 3, 2]]) #coefficient\n",
    "b = np.array([6, 3, 8]) #ordinate"
   ]
  },
  {
   "cell_type": "code",
   "execution_count": 13,
   "id": "d642dc42-8c9f-47b8-a52a-f8812a973c22",
   "metadata": {},
   "outputs": [
    {
     "name": "stdout",
     "output_type": "stream",
     "text": [
      "Results: [1.88888889 1.66666667 2.44444444]\n"
     ]
    }
   ],
   "source": [
    "print(f\"Results: {linalg.solve(A, b)}\")"
   ]
  },
  {
   "cell_type": "code",
   "execution_count": 14,
   "id": "156bbe28-77af-4fd2-8838-08ae87331041",
   "metadata": {},
   "outputs": [],
   "source": [
    "eq1 = Eq(x + y + z, 6)            \n",
    "eq2 = Eq(2*x + y - z, 3)        \n",
    "eq3 = Eq(-1*x + 3*y + 2*z, 8)\n",
    "ans = solve((eq1, eq2, eq3), (x, y, z))"
   ]
  },
  {
   "cell_type": "code",
   "execution_count": 15,
   "id": "cbb61799-9176-4ed1-9add-244d3989e7cf",
   "metadata": {},
   "outputs": [
    {
     "data": {
      "text/plain": [
       "{x: 17/9, y: 5/3, z: 22/9}"
      ]
     },
     "execution_count": 15,
     "metadata": {},
     "output_type": "execute_result"
    }
   ],
   "source": [
    "ans"
   ]
  },
  {
   "cell_type": "markdown",
   "id": "6ce2875d-18b3-4694-839f-f555aa0c7b69",
   "metadata": {},
   "source": [
    "### 5. Matrix Representation of a Linear System:\n",
    "\n",
    "\n",
    "$$\n",
    "\\begin{pmatrix}\n",
    "2 & 3 & -1 \\\\\n",
    "1 & -1 & 1 \\\\\n",
    "3 & 2 & -2\n",
    "\\end{pmatrix}\n",
    "\\begin{pmatrix}\n",
    "x \\\\\n",
    "y \\\\\n",
    "z\n",
    "\\end{pmatrix}\n",
    "=\n",
    "\\begin{pmatrix}\n",
    "7 \\\\\n",
    "2 \\\\\n",
    "8\n",
    "\\end{pmatrix}\n",
    "$$\n",
    "\n"
   ]
  },
  {
   "cell_type": "code",
   "execution_count": 16,
   "id": "d077a13e-a237-404f-92a7-091d6315016f",
   "metadata": {},
   "outputs": [],
   "source": [
    "A = np.array([[2, 3, -1], [1, -1, 1], [3, 2, -2]])\n",
    "b = np.array([7, 2, 8])"
   ]
  },
  {
   "cell_type": "code",
   "execution_count": 17,
   "id": "5b7b33ab-fe9f-42b5-94e1-cfb014d1bedf",
   "metadata": {},
   "outputs": [
    {
     "name": "stdout",
     "output_type": "stream",
     "text": [
      "Results: [2.4 0.9 0.5]\n"
     ]
    }
   ],
   "source": [
    "print(f\"Results: {linalg.solve(A, b)}\")"
   ]
  },
  {
   "cell_type": "code",
   "execution_count": 18,
   "id": "3da26ee2-f984-42ae-bb0f-d188fb765969",
   "metadata": {},
   "outputs": [],
   "source": [
    "eq1 = sp.Eq(2*x + 3*y - z, 7)\n",
    "eq2 = sp.Eq(x - y + z, 2)\n",
    "eq3 = sp.Eq(3*x + 2*y - 2*z, 8)"
   ]
  },
  {
   "cell_type": "code",
   "execution_count": 19,
   "id": "4a1b7a30-2979-4a75-b447-a63d33cc6507",
   "metadata": {},
   "outputs": [],
   "source": [
    "solution = sp.solve((eq1, eq2, eq3), (x, y, z))"
   ]
  },
  {
   "cell_type": "code",
   "execution_count": 20,
   "id": "45c5427b-e9f4-4aad-ac67-d7e926b358bf",
   "metadata": {},
   "outputs": [
    {
     "data": {
      "text/plain": [
       "{x: 12/5, y: 9/10, z: 1/2}"
      ]
     },
     "execution_count": 20,
     "metadata": {},
     "output_type": "execute_result"
    }
   ],
   "source": [
    "solution"
   ]
  },
  {
   "cell_type": "markdown",
   "id": "98fa98bd-d248-4f38-8117-65a1caf05a8b",
   "metadata": {},
   "source": [
    "### 6. Inconsistent System of Equations:\n",
    "\n",
    "\n",
    "$$\n",
    "\\begin{pmatrix}\n",
    "2 & 1\\\\\n",
    "4 & 2 \\\\\n",
    "3 & 1\n",
    "\\end{pmatrix}\n",
    "\\begin{pmatrix}\n",
    "x \\\\\n",
    "y\n",
    "\\end{pmatrix}\n",
    "=\n",
    "\\begin{pmatrix}\n",
    "5 \\\\\n",
    "10 \\\\\n",
    "6\n",
    "\\end{pmatrix}\n",
    "$$\n",
    "\n"
   ]
  },
  {
   "cell_type": "code",
   "execution_count": 21,
   "id": "189ff9d0-4dc2-45f5-b0de-6e331097926d",
   "metadata": {},
   "outputs": [],
   "source": [
    "eq1 = sp.Eq(2*x + y, 5)\n",
    "eq2 = sp.Eq(4*x - 2*y, 10)\n",
    "eq3 = sp.Eq(3*x + y, 6)"
   ]
  },
  {
   "cell_type": "code",
   "execution_count": 22,
   "id": "456d632a-1ae0-4b4a-b82e-0ac74b2cac92",
   "metadata": {},
   "outputs": [],
   "source": [
    "solution = sp.solve((eq1, eq2, eq3), (x, y, z))"
   ]
  },
  {
   "cell_type": "code",
   "execution_count": 23,
   "id": "ee0042a0-560b-496c-90fd-f84a170b5096",
   "metadata": {},
   "outputs": [
    {
     "data": {
      "text/plain": [
       "[]"
      ]
     },
     "execution_count": 23,
     "metadata": {},
     "output_type": "execute_result"
    }
   ],
   "source": [
    "solution"
   ]
  },
  {
   "cell_type": "code",
   "execution_count": 24,
   "id": "40950e05-9807-4e14-9cfb-c1eb6a4f89bb",
   "metadata": {},
   "outputs": [],
   "source": [
    "A = np.array([[2,1],[4,2],[3,1]])\n",
    "b = np.array([5,10,6])"
   ]
  },
  {
   "cell_type": "code",
   "execution_count": 25,
   "id": "55e2cba0-e144-4d0a-851d-7ead30542ce9",
   "metadata": {},
   "outputs": [],
   "source": [
    "# Solving with least-squares solution\n",
    "solution = np.linalg.lstsq(A, b, rcond=None)"
   ]
  },
  {
   "cell_type": "code",
   "execution_count": 26,
   "id": "2ac9b14f-3d22-42fa-aaea-eba3f3069e23",
   "metadata": {},
   "outputs": [
    {
     "name": "stdout",
     "output_type": "stream",
     "text": [
      "Least-squares Solution\n",
      "Solution x: 0.9999999999999984, y: 3.0000000000000013\n",
      "Residual: 4.437342591868191e-31\n",
      "Rank of matrix: 2\n",
      "Singular values of A matrix: [5.90394402 0.37874139]\n"
     ]
    }
   ],
   "source": [
    "print(\"Least-squares Solution\")\n",
    "print(f\"Solution x: {solution[0][0]}, y: {solution[0][1]}\"),\n",
    "print(f\"Residual: {solution[1][0]}\")\n",
    "print(f\"Rank of matrix: {solution[2]}\")\n",
    "print(f\"Singular values of A matrix: {solution[3]}\")"
   ]
  },
  {
   "cell_type": "markdown",
   "id": "f10e9c0c-18b2-4ffc-a9d4-de1fee6517ee",
   "metadata": {},
   "source": [
    "### 7. Dependent System of Linear Equations (Infinite Solutions):\n",
    "\n",
    "\n",
    "$$\n",
    "\\begin{pmatrix}\n",
    "1 & 2 & 3 \\\\\n",
    "2 & 4 & 6 \\\\\n",
    "3 & 6 & 9\n",
    "\\end{pmatrix}\n",
    "\\begin{pmatrix}\n",
    "x \\\\\n",
    "y \\\\\n",
    "z\n",
    "\\end{pmatrix}\n",
    "=\n",
    "\\begin{pmatrix}\n",
    "1 \\\\\n",
    "2 \\\\\n",
    "3\n",
    "\\end{pmatrix}\n",
    "$$\n",
    "\n"
   ]
  },
  {
   "cell_type": "code",
   "execution_count": 27,
   "id": "f3aa6b94-9868-42d7-83f4-a34c5f2b6b94",
   "metadata": {},
   "outputs": [],
   "source": [
    "A = np.array([[1, 2, 3], [2, 4, 6], [3, 6, 9]])\n",
    "b = np.array([1, 2, 3])"
   ]
  },
  {
   "cell_type": "code",
   "execution_count": 28,
   "id": "9bf1e7c2-0fe8-4dd4-9ef5-be1cc8b55b8a",
   "metadata": {},
   "outputs": [
    {
     "data": {
      "text/plain": [
       "0.0"
      ]
     },
     "execution_count": 28,
     "metadata": {},
     "output_type": "execute_result"
    }
   ],
   "source": [
    "linalg.det(A) # singular matrix -> infinite solution"
   ]
  },
  {
   "cell_type": "code",
   "execution_count": 29,
   "id": "92597d5c-654a-4f77-8609-6656400bd571",
   "metadata": {},
   "outputs": [],
   "source": [
    "eq1 = sp.Eq(1*x + 2*y + 3*z, 1)\n",
    "eq2 = sp.Eq(2*x + 4*y + 6*z, 2)\n",
    "eq3 = sp.Eq(3*x + 6*y + 9*z, 3)"
   ]
  },
  {
   "cell_type": "code",
   "execution_count": 30,
   "id": "3129946e-3640-41d3-a0ce-03c07aef6a4c",
   "metadata": {},
   "outputs": [],
   "source": [
    "solution = sp.solve((eq1, eq2, eq3), (x, y, z))"
   ]
  },
  {
   "cell_type": "code",
   "execution_count": 31,
   "id": "5128ac87-36c1-4067-b63f-1b5a41bd7d59",
   "metadata": {},
   "outputs": [
    {
     "data": {
      "text/plain": [
       "{x: -2*y - 3*z + 1}"
      ]
     },
     "execution_count": 31,
     "metadata": {},
     "output_type": "execute_result"
    }
   ],
   "source": [
    "solution"
   ]
  },
  {
   "cell_type": "markdown",
   "id": "db4cb309-ba8b-4d0d-befd-4f17abae8fa7",
   "metadata": {},
   "source": [
    "### 8. Four Variable System of Linear Equations:\n",
    "\n",
    "\n",
    "$$\n",
    "\\begin{pmatrix}\n",
    "1 & 2 & 3 & 1\\\\\n",
    "2 & 3 & 1 & -1\\\\\n",
    "4 & 1 & 2 & 2 \\\\\n",
    "3 & -1 & 1 & 1\n",
    "\\end{pmatrix}\n",
    "\\begin{pmatrix}\n",
    "x \\\\\n",
    "y \\\\\n",
    "z \\\\\n",
    "w\n",
    "\\end{pmatrix}\n",
    "=\n",
    "\\begin{pmatrix}\n",
    "10 \\\\\n",
    "5 \\\\\n",
    "15 \\\\\n",
    "7\n",
    "\\end{pmatrix}\n",
    "$$\n",
    "\n"
   ]
  },
  {
   "cell_type": "code",
   "execution_count": 32,
   "id": "b77d8ff0-1a6c-4aeb-b12c-94de509c27b5",
   "metadata": {},
   "outputs": [],
   "source": [
    "A = np.array([[1, 2, 3, 1], [2, 3, 1, -1], [4, 1, 2, 2], [3, -1, 1, 1]])\n",
    "b = np.array([10, 5, 15, 7])"
   ]
  },
  {
   "cell_type": "code",
   "execution_count": 33,
   "id": "582319fd-4c55-4535-bde1-c2911ce1fe8a",
   "metadata": {},
   "outputs": [
    {
     "name": "stdout",
     "output_type": "stream",
     "text": [
      "Results: [1.47368421 1.31578947 1.         2.89473684]\n"
     ]
    }
   ],
   "source": [
    "print(f\"Results: {linalg.solve(A, b)}\")"
   ]
  },
  {
   "cell_type": "code",
   "execution_count": 34,
   "id": "6b68ba7b-4dac-4eae-b6b4-0da9d36a5a00",
   "metadata": {},
   "outputs": [],
   "source": [
    "eq1 = sp.Eq(x + 2*y + 3*z + w, 10)\n",
    "eq2 = sp.Eq(2*x + 3*y + z - w, 5)\n",
    "eq3 = sp.Eq(4*x + y + 2*z + 2*w, 15)\n",
    "eq4 = sp.Eq(3*x - y + z + w, 7)"
   ]
  },
  {
   "cell_type": "code",
   "execution_count": 35,
   "id": "64181a6b-e780-4006-bdc5-2af67c2be535",
   "metadata": {},
   "outputs": [],
   "source": [
    "solution = sp.solve((eq1, eq2, eq3, eq4), (x, y, z, w))"
   ]
  },
  {
   "cell_type": "code",
   "execution_count": 36,
   "id": "d11ac1f3-ea28-4911-8269-17d7d4f50403",
   "metadata": {},
   "outputs": [
    {
     "data": {
      "text/plain": [
       "{w: 55/19, x: 28/19, y: 25/19, z: 1}"
      ]
     },
     "execution_count": 36,
     "metadata": {},
     "output_type": "execute_result"
    }
   ],
   "source": [
    "solution"
   ]
  },
  {
   "cell_type": "markdown",
   "id": "1388b4d9-cabd-4ccc-b3e1-f24cddd75296",
   "metadata": {},
   "source": [
    "### 9. Higher Dimensional System of Linear Equations:\n",
    "\n",
    "\n",
    "$$\n",
    "\\begin{pmatrix}\n",
    "2 & 3 & 1 & 5 & 4\\\\\n",
    "4 & 1 & 3 & 2 & 1\\\\\n",
    "3 & 4 & 2 & 1 & 3 \\\\\n",
    "1 & 2 & 4 & 3 & 5 \\\\\n",
    "5 & 1 & 1 & 4 & 2 \n",
    "\\end{pmatrix}\n",
    "\\begin{pmatrix}\n",
    "x1 \\\\\n",
    "x2 \\\\\n",
    "x3 \\\\\n",
    "x4 \\\\\n",
    "x5\n",
    "\\end{pmatrix}\n",
    "=\n",
    "\\begin{pmatrix}\n",
    "10\\\\\n",
    "20 \\\\\n",
    "15 \\\\\n",
    "25 \\\\\n",
    "30\n",
    "\\end{pmatrix}\n",
    "$$\n",
    "\n"
   ]
  },
  {
   "cell_type": "code",
   "execution_count": 37,
   "id": "9db3f2db-5d25-4c18-8ce0-8fbb939fe920",
   "metadata": {},
   "outputs": [],
   "source": [
    "A = np.array([\n",
    "[2, 3, 1, 5, 4],\n",
    "[4, 1, 3, 2, 1],\n",
    "[3, 4, 2, 1, 3],\n",
    "[1, 2, 4, 3, 5],\n",
    "[5, 1, 1, 4, 2]\n",
    "])\n",
    "b = np.array([10, 20, 15, 25, 30])"
   ]
  },
  {
   "cell_type": "code",
   "execution_count": 38,
   "id": "a80396f1-84e8-482b-b1fb-67e369431fa9",
   "metadata": {},
   "outputs": [
    {
     "data": {
      "text/plain": [
       "array([[2, 3, 1, 5, 4],\n",
       "       [4, 1, 3, 2, 1],\n",
       "       [3, 4, 2, 1, 3],\n",
       "       [1, 2, 4, 3, 5],\n",
       "       [5, 1, 1, 4, 2]])"
      ]
     },
     "execution_count": 38,
     "metadata": {},
     "output_type": "execute_result"
    }
   ],
   "source": [
    "A"
   ]
  },
  {
   "cell_type": "code",
   "execution_count": 39,
   "id": "7c675be7-cde3-4059-b028-630804a6bd32",
   "metadata": {},
   "outputs": [
    {
     "name": "stdout",
     "output_type": "stream",
     "text": [
      "Results: [ 6.88073394 -7.08715596 -0.71100917 -3.80733945  9.31192661]\n"
     ]
    }
   ],
   "source": [
    "print(f\"Results: {linalg.solve(A, b)}\")"
   ]
  },
  {
   "cell_type": "code",
   "execution_count": 40,
   "id": "62dca7b6-60b3-4761-9497-471a91f4414c",
   "metadata": {},
   "outputs": [],
   "source": [
    "eq1 = sp.Eq(2*x + 3*y + z + 5*w + 4*a, 10)\n",
    "eq2 = sp.Eq(4*x + y + 3*z + 2*w + a, 20)\n",
    "eq3 = sp.Eq(3*x + 4*y + 2*z + w + 3*a, 15)\n",
    "eq4 = sp.Eq(x + 2*y + 4*z + 3*w + 5*a, 25)\n",
    "eq5 = sp.Eq(5*x + y + z + 4*w + 2*a, 30)"
   ]
  },
  {
   "cell_type": "code",
   "execution_count": 41,
   "id": "76683427-fdbb-43c5-bbac-b90fcc64cba8",
   "metadata": {},
   "outputs": [],
   "source": [
    "solution = sp.solve((eq1, eq2, eq3, eq4, eq5), (x, y, z, w, a))"
   ]
  },
  {
   "cell_type": "code",
   "execution_count": 42,
   "id": "8e9595a4-177c-4bce-8037-8da18f9368e1",
   "metadata": {},
   "outputs": [
    {
     "data": {
      "text/plain": [
       "{a: 1015/109, w: -415/109, x: 750/109, y: -1545/218, z: -155/218}"
      ]
     },
     "execution_count": 42,
     "metadata": {},
     "output_type": "execute_result"
    }
   ],
   "source": [
    "solution"
   ]
  },
  {
   "cell_type": "code",
   "execution_count": 43,
   "id": "824608ea-3c23-469a-8948-42e966dfcb8a",
   "metadata": {},
   "outputs": [
    {
     "data": {
      "text/latex": [
       "$\\displaystyle 10$"
      ],
      "text/plain": [
       "10"
      ]
     },
     "execution_count": 43,
     "metadata": {},
     "output_type": "execute_result"
    }
   ],
   "source": [
    "# Check\n",
    "2*solution[x] + 3*solution[y] + solution[z] + 5*solution[w] + 4*solution[a]"
   ]
  }
 ],
 "metadata": {
  "kernelspec": {
   "display_name": "Python 3 (ipykernel)",
   "language": "python",
   "name": "python3"
  },
  "language_info": {
   "codemirror_mode": {
    "name": "ipython",
    "version": 3
   },
   "file_extension": ".py",
   "mimetype": "text/x-python",
   "name": "python",
   "nbconvert_exporter": "python",
   "pygments_lexer": "ipython3",
   "version": "3.10.7"
  }
 },
 "nbformat": 4,
 "nbformat_minor": 5
}
