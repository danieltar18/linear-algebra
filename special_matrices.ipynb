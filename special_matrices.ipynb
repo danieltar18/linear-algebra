{
 "cells": [
  {
   "cell_type": "code",
   "execution_count": 1,
   "id": "67caf8ad-48d6-4d63-ab26-2641bb4d1c89",
   "metadata": {},
   "outputs": [],
   "source": [
    "import numpy as np\n",
    "import scipy\n",
    "import sympy\n",
    "import tensorflow as tf\n",
    "import torch\n",
    "import random\n",
    "import jax\n",
    "import jax.numpy as jnp\n",
    "\n",
    "\n",
    "from jax import jit, grad, vmap, jacobian\n",
    "from scipy import linalg\n",
    "from sympy.vector import CoordSys3D\n",
    "from sympy.vector import Vector\n",
    "from sympy.interactive.printing import init_printing\n",
    "from sympy.matrices import Matrix, eye, zeros, ones, diag, GramSchmidt\n",
    "from sympy import Array"
   ]
  },
  {
   "cell_type": "markdown",
   "id": "121d2bda-e475-4e45-913f-341637e2f588",
   "metadata": {},
   "source": [
    "# Square Matrix"
   ]
  },
  {
   "cell_type": "code",
   "execution_count": 2,
   "id": "f2284d53-a1b3-41b3-b220-9463f61cf1a9",
   "metadata": {},
   "outputs": [
    {
     "data": {
      "text/plain": [
       "array([[276, 245, 463],\n",
       "       [300, 220, 387],\n",
       "       [270, 331, 385]])"
      ]
     },
     "execution_count": 2,
     "metadata": {},
     "output_type": "execute_result"
    }
   ],
   "source": [
    "np.random.randint(200, 500, size=(3, 3))"
   ]
  },
  {
   "cell_type": "code",
   "execution_count": 3,
   "id": "00b7aa79-85b0-4199-8ce1-a4284fa17658",
   "metadata": {},
   "outputs": [
    {
     "data": {
      "text/latex": [
       "$\\displaystyle \\left[\\begin{matrix}19 & 47 & 36\\\\30 & 33 & 43\\\\29 & 23 & 39\\end{matrix}\\right]$"
      ],
      "text/plain": [
       "Matrix([\n",
       "[19, 47, 36],\n",
       "[30, 33, 43],\n",
       "[29, 23, 39]])"
      ]
     },
     "execution_count": 3,
     "metadata": {},
     "output_type": "execute_result"
    }
   ],
   "source": [
    "Matrix(3, 3, np.random.randint(15, 50, 9))"
   ]
  },
  {
   "cell_type": "code",
   "execution_count": null,
   "id": "1a084a9e-a593-4f56-8fdf-a3d9376a81f5",
   "metadata": {},
   "outputs": [],
   "source": []
  },
  {
   "cell_type": "markdown",
   "id": "ce0852fd-f4dc-4a65-8744-9a5962e0e33a",
   "metadata": {},
   "source": [
    "# Diagonal Matrix"
   ]
  },
  {
   "cell_type": "code",
   "execution_count": 4,
   "id": "e8b3f2bd-3a81-4ac6-83f0-442ea0ae0ea8",
   "metadata": {},
   "outputs": [
    {
     "data": {
      "text/plain": [
       "array([[18,  0,  0,  0,  0,  0,  0,  0,  0,  0],\n",
       "       [ 0,  4,  0,  0,  0,  0,  0,  0,  0,  0],\n",
       "       [ 0,  0,  8,  0,  0,  0,  0,  0,  0,  0],\n",
       "       [ 0,  0,  0,  1,  0,  0,  0,  0,  0,  0],\n",
       "       [ 0,  0,  0,  0, 32,  0,  0,  0,  0,  0],\n",
       "       [ 0,  0,  0,  0,  0,  2,  0,  0,  0,  0],\n",
       "       [ 0,  0,  0,  0,  0,  0, 34,  0,  0,  0],\n",
       "       [ 0,  0,  0,  0,  0,  0,  0, 49,  0,  0],\n",
       "       [ 0,  0,  0,  0,  0,  0,  0,  0, 12,  0],\n",
       "       [ 0,  0,  0,  0,  0,  0,  0,  0,  0, 38]])"
      ]
     },
     "execution_count": 4,
     "metadata": {},
     "output_type": "execute_result"
    }
   ],
   "source": [
    "np.diag(random.sample(range(1, 50), 10))"
   ]
  },
  {
   "cell_type": "code",
   "execution_count": 5,
   "id": "87a87ded-bc6f-48b2-a069-6f6faa621548",
   "metadata": {},
   "outputs": [
    {
     "data": {
      "text/latex": [
       "$\\displaystyle \\left[\\begin{matrix}1 & 0 & 0 & 0 & 0\\\\0 & 2 & 0 & 0 & 0\\\\0 & 0 & 3 & 0 & 0\\\\0 & 0 & 0 & 4 & 0\\\\0 & 0 & 0 & 0 & 5\\end{matrix}\\right]$"
      ],
      "text/plain": [
       "Matrix([\n",
       "[1, 0, 0, 0, 0],\n",
       "[0, 2, 0, 0, 0],\n",
       "[0, 0, 3, 0, 0],\n",
       "[0, 0, 0, 4, 0],\n",
       "[0, 0, 0, 0, 5]])"
      ]
     },
     "execution_count": 5,
     "metadata": {},
     "output_type": "execute_result"
    }
   ],
   "source": [
    "sympy.diag(1, 2, 3, 4, 5)"
   ]
  },
  {
   "cell_type": "code",
   "execution_count": null,
   "id": "ef149340-b19b-44a9-871e-9b43c10c3f6d",
   "metadata": {},
   "outputs": [],
   "source": []
  },
  {
   "cell_type": "markdown",
   "id": "68ecbab7-ede3-48cd-a1f6-84b0997e4dc1",
   "metadata": {},
   "source": [
    "# Matrix with zeros"
   ]
  },
  {
   "cell_type": "code",
   "execution_count": 6,
   "id": "7f8e53d7-4e27-484c-a028-65b31d4db305",
   "metadata": {},
   "outputs": [
    {
     "data": {
      "text/plain": [
       "array([[0., 0., 0.],\n",
       "       [0., 0., 0.]])"
      ]
     },
     "execution_count": 6,
     "metadata": {},
     "output_type": "execute_result"
    }
   ],
   "source": [
    "np.zeros((2, 3))"
   ]
  },
  {
   "cell_type": "code",
   "execution_count": 7,
   "id": "78208e0d-56f9-4596-b528-4c8961ef759f",
   "metadata": {},
   "outputs": [
    {
     "data": {
      "text/latex": [
       "$\\displaystyle \\left[\\begin{matrix}0 & 0 & 0\\\\0 & 0 & 0\\end{matrix}\\right]$"
      ],
      "text/plain": [
       "Matrix([\n",
       "[0, 0, 0],\n",
       "[0, 0, 0]])"
      ]
     },
     "execution_count": 7,
     "metadata": {},
     "output_type": "execute_result"
    }
   ],
   "source": [
    "sympy.zeros(2, 3)"
   ]
  },
  {
   "cell_type": "code",
   "execution_count": null,
   "id": "7c5f9af3-f388-498a-9b3b-e86fc65880d7",
   "metadata": {},
   "outputs": [],
   "source": []
  },
  {
   "cell_type": "markdown",
   "id": "c37a10ed-0f2c-4a7c-971a-d2d6b551a919",
   "metadata": {},
   "source": [
    "# Matrix with ones"
   ]
  },
  {
   "cell_type": "code",
   "execution_count": 8,
   "id": "3b30ca84-f90c-4a4e-9c18-abb60782db03",
   "metadata": {},
   "outputs": [
    {
     "data": {
      "text/plain": [
       "array([[1., 1., 1.],\n",
       "       [1., 1., 1.],\n",
       "       [1., 1., 1.],\n",
       "       [1., 1., 1.],\n",
       "       [1., 1., 1.]])"
      ]
     },
     "execution_count": 8,
     "metadata": {},
     "output_type": "execute_result"
    }
   ],
   "source": [
    "# NP ones\n",
    "np.ones([5, 3])"
   ]
  },
  {
   "cell_type": "code",
   "execution_count": 9,
   "id": "79d6da92-7d9f-4a96-97d0-f40655e5bb6a",
   "metadata": {},
   "outputs": [
    {
     "data": {
      "text/latex": [
       "$\\displaystyle \\left[\\begin{matrix}1 & 1 & 1\\\\1 & 1 & 1\\\\1 & 1 & 1\\\\1 & 1 & 1\\\\1 & 1 & 1\\end{matrix}\\right]$"
      ],
      "text/plain": [
       "Matrix([\n",
       "[1, 1, 1],\n",
       "[1, 1, 1],\n",
       "[1, 1, 1],\n",
       "[1, 1, 1],\n",
       "[1, 1, 1]])"
      ]
     },
     "execution_count": 9,
     "metadata": {},
     "output_type": "execute_result"
    }
   ],
   "source": [
    "sympy.ones(5, 3)"
   ]
  },
  {
   "cell_type": "code",
   "execution_count": null,
   "id": "05d52d55-2716-4837-8cda-26450c482f07",
   "metadata": {},
   "outputs": [],
   "source": []
  },
  {
   "cell_type": "markdown",
   "id": "422c6f17-1966-4b6f-8dc5-516e7312c9bb",
   "metadata": {},
   "source": [
    "# Identity Matrix"
   ]
  },
  {
   "cell_type": "code",
   "execution_count": 10,
   "id": "c3710cd4-4e0a-47a2-ad81-98cd75278f65",
   "metadata": {},
   "outputs": [
    {
     "data": {
      "text/plain": [
       "array([[1., 0., 0., 0., 0., 0., 0., 0.],\n",
       "       [0., 1., 0., 0., 0., 0., 0., 0.],\n",
       "       [0., 0., 1., 0., 0., 0., 0., 0.],\n",
       "       [0., 0., 0., 1., 0., 0., 0., 0.],\n",
       "       [0., 0., 0., 0., 1., 0., 0., 0.],\n",
       "       [0., 0., 0., 0., 0., 1., 0., 0.],\n",
       "       [0., 0., 0., 0., 0., 0., 1., 0.],\n",
       "       [0., 0., 0., 0., 0., 0., 0., 1.]])"
      ]
     },
     "execution_count": 10,
     "metadata": {},
     "output_type": "execute_result"
    }
   ],
   "source": [
    "np.identity(8)"
   ]
  },
  {
   "cell_type": "code",
   "execution_count": 11,
   "id": "421efdba-8f46-4f0e-afaa-57db897fff48",
   "metadata": {},
   "outputs": [
    {
     "data": {
      "text/latex": [
       "$\\displaystyle \\left[\\begin{matrix}1 & 0 & 0 & 0\\\\0 & 1 & 0 & 0\\\\0 & 0 & 1 & 0\\\\0 & 0 & 0 & 1\\end{matrix}\\right]$"
      ],
      "text/plain": [
       "Matrix([\n",
       "[1, 0, 0, 0],\n",
       "[0, 1, 0, 0],\n",
       "[0, 0, 1, 0],\n",
       "[0, 0, 0, 1]])"
      ]
     },
     "execution_count": 11,
     "metadata": {},
     "output_type": "execute_result"
    }
   ],
   "source": [
    "sympy.eye(4)"
   ]
  },
  {
   "cell_type": "code",
   "execution_count": null,
   "id": "06a566c3-1edb-4184-bc84-9147c02a6421",
   "metadata": {},
   "outputs": [],
   "source": []
  },
  {
   "cell_type": "markdown",
   "id": "126ba060-8a78-429d-91f0-ff39b4a3afff",
   "metadata": {},
   "source": [
    "# Triangular Matrix (upper)"
   ]
  },
  {
   "cell_type": "code",
   "execution_count": 12,
   "id": "5ff0e147-cc74-4ddb-bc9c-e2f3fa0c67cd",
   "metadata": {},
   "outputs": [
    {
     "data": {
      "text/plain": [
       "array([[ 1,  2,  3],\n",
       "       [ 4,  5,  6],\n",
       "       [ 0,  8,  9],\n",
       "       [ 0,  0, 12]])"
      ]
     },
     "execution_count": 12,
     "metadata": {},
     "output_type": "execute_result"
    }
   ],
   "source": [
    "np.triu([[1,2,3],[4,5,6],[7,8,9],[10,11,12]], k=-1)"
   ]
  },
  {
   "cell_type": "code",
   "execution_count": 13,
   "id": "b09cb7b4-2f63-48a6-92f0-4ffb1e64f76d",
   "metadata": {},
   "outputs": [
    {
     "data": {
      "text/latex": [
       "$\\displaystyle \\left[\\begin{matrix}1 & 2 & 3\\\\4 & 5 & 6\\\\0 & 8 & 9\\\\0 & 0 & 12\\end{matrix}\\right]$"
      ],
      "text/plain": [
       "Matrix([\n",
       "[1, 2,  3],\n",
       "[4, 5,  6],\n",
       "[0, 8,  9],\n",
       "[0, 0, 12]])"
      ]
     },
     "execution_count": 13,
     "metadata": {},
     "output_type": "execute_result"
    }
   ],
   "source": [
    "A = Matrix([[1,2,3],[4,5,6],[7,8,9],[10,11,12]])\n",
    "A.upper_triangular(-1)"
   ]
  },
  {
   "cell_type": "code",
   "execution_count": null,
   "id": "da13df9a-a48d-4399-93d2-7f21a5b4ceb2",
   "metadata": {},
   "outputs": [],
   "source": []
  },
  {
   "cell_type": "markdown",
   "id": "5d2f826f-c72e-47f0-ab04-3984d0a61611",
   "metadata": {},
   "source": [
    "# Triangular Matrix (lower)"
   ]
  },
  {
   "cell_type": "code",
   "execution_count": 14,
   "id": "ed3c37f2-84d8-429d-a5a4-6aec2a01dac5",
   "metadata": {},
   "outputs": [
    {
     "data": {
      "text/plain": [
       "array([[ 1,  0,  0],\n",
       "       [ 4,  5,  0],\n",
       "       [ 7,  8,  9],\n",
       "       [10, 11, 12]])"
      ]
     },
     "execution_count": 14,
     "metadata": {},
     "output_type": "execute_result"
    }
   ],
   "source": [
    "np.tril([[1,2,3],[4,5,6],[7,8,9],[10,11,12]], k=0)"
   ]
  },
  {
   "cell_type": "code",
   "execution_count": 15,
   "id": "8282b1cf-a212-4aad-b7db-a045826f2480",
   "metadata": {},
   "outputs": [
    {
     "data": {
      "text/latex": [
       "$\\displaystyle \\left[\\begin{matrix}1 & 0 & 0\\\\4 & 5 & 0\\\\7 & 8 & 9\\\\10 & 11 & 12\\end{matrix}\\right]$"
      ],
      "text/plain": [
       "Matrix([\n",
       "[ 1,  0,  0],\n",
       "[ 4,  5,  0],\n",
       "[ 7,  8,  9],\n",
       "[10, 11, 12]])"
      ]
     },
     "execution_count": 15,
     "metadata": {},
     "output_type": "execute_result"
    }
   ],
   "source": [
    "A = Matrix([[1,2,3],[4,5,6],[7,8,9],[10,11,12]])\n",
    "A.lower_triangular(0)"
   ]
  },
  {
   "cell_type": "code",
   "execution_count": null,
   "id": "a2e61d8b-78f6-4c8f-84bd-5372067b272f",
   "metadata": {},
   "outputs": [],
   "source": []
  },
  {
   "cell_type": "code",
   "execution_count": null,
   "id": "e197ba3a-8451-481e-9c6e-cecfc6c292a4",
   "metadata": {},
   "outputs": [],
   "source": []
  }
 ],
 "metadata": {
  "kernelspec": {
   "display_name": "Python 3 (ipykernel)",
   "language": "python",
   "name": "python3"
  },
  "language_info": {
   "codemirror_mode": {
    "name": "ipython",
    "version": 3
   },
   "file_extension": ".py",
   "mimetype": "text/x-python",
   "name": "python",
   "nbconvert_exporter": "python",
   "pygments_lexer": "ipython3",
   "version": "3.10.7"
  }
 },
 "nbformat": 4,
 "nbformat_minor": 5
}
