{
 "cells": [
  {
   "cell_type": "code",
   "execution_count": 1,
   "id": "b6771aac",
   "metadata": {},
   "outputs": [],
   "source": [
    "import numpy as np\n",
    "import scipy\n",
    "import sympy\n",
    "import tensorflow as tf\n",
    "import torch\n",
    "\n",
    "from scipy import linalg\n",
    "from sympy.vector import CoordSys3D\n",
    "from sympy.vector import Vector\n",
    "from sympy.interactive.printing import init_printing\n",
    "from sympy.matrices import Matrix, eye, zeros, ones, diag, GramSchmidt\n",
    "from sympy import Array"
   ]
  },
  {
   "cell_type": "markdown",
   "id": "a3d20126-28ac-4bbf-b696-d416a29792fa",
   "metadata": {},
   "source": [
    "# Scalars\n",
    "\n",
    "*Usin Numpy Library and sized scalars!:)*\n",
    "\n",
    "https://numpy.org/doc/stable/reference/arrays.scalars.html"
   ]
  },
  {
   "cell_type": "code",
   "execution_count": 2,
   "id": "8717d3c7-cb17-4cee-b625-4ba89289eeba",
   "metadata": {},
   "outputs": [
    {
     "name": "stdout",
     "output_type": "stream",
     "text": [
      "5\n",
      "-252\n",
      "250235\n",
      "234124321412\n"
     ]
    }
   ],
   "source": [
    "# Integers\n",
    "print(np.int8(5))\n",
    "print(np.int16(-252))\n",
    "print(np.int32(250235))\n",
    "print(np.int64(234124321412))"
   ]
  },
  {
   "cell_type": "code",
   "execution_count": 3,
   "id": "5915e9cb-334a-400f-92b8-66b51167282b",
   "metadata": {},
   "outputs": [
    {
     "name": "stdout",
     "output_type": "stream",
     "text": [
      "5\n",
      "252\n",
      "250235\n",
      "234124321412\n"
     ]
    }
   ],
   "source": [
    "# Unsigned Integers\n",
    "print(np.uint8(5))\n",
    "print(np.uint16(252))\n",
    "print(np.uint32(250235))\n",
    "print(np.uint64(234124321412))"
   ]
  },
  {
   "cell_type": "code",
   "execution_count": 4,
   "id": "fc285f6f-bf16-48ba-8f32-1962afcf7559",
   "metadata": {},
   "outputs": [
    {
     "name": "stdout",
     "output_type": "stream",
     "text": [
      "5.23\n",
      "252.32\n",
      "250235.5213\n",
      "234124321412.12354\n"
     ]
    }
   ],
   "source": [
    "# Float\n",
    "print(np.float16(5.23))\n",
    "print(np.float32(252.32))\n",
    "print(np.float64(250235.5213))\n",
    "print(np.longdouble(234124321412.123534))"
   ]
  },
  {
   "cell_type": "code",
   "execution_count": 5,
   "id": "e01cb1f1-44ba-4298-9785-251ea19da0f1",
   "metadata": {},
   "outputs": [
    {
     "name": "stdout",
     "output_type": "stream",
     "text": [
      "(5.23+0j)\n",
      "(252.32+0j)\n"
     ]
    }
   ],
   "source": [
    "# Complex\n",
    "print(np.complex64(5.23))\n",
    "print(np.complex128(252.32))"
   ]
  },
  {
   "cell_type": "code",
   "execution_count": null,
   "id": "4f899991-39db-42b1-a477-6906a03167a8",
   "metadata": {},
   "outputs": [],
   "source": []
  },
  {
   "cell_type": "code",
   "execution_count": null,
   "id": "525cc623-40aa-4375-8b74-9401b8ea17b4",
   "metadata": {},
   "outputs": [],
   "source": []
  },
  {
   "cell_type": "markdown",
   "id": "fd7570b2-ae4b-4ea4-a41d-bda6defb8e58",
   "metadata": {},
   "source": [
    "# Vectors"
   ]
  },
  {
   "cell_type": "markdown",
   "id": "75db9600-40aa-4143-b1f6-7d19cbd220bc",
   "metadata": {},
   "source": [
    "## Numpy\n",
    "https://numpy.org/doc/stable/reference/generated/numpy.array.html"
   ]
  },
  {
   "cell_type": "code",
   "execution_count": 6,
   "id": "b42ddfec",
   "metadata": {},
   "outputs": [],
   "source": [
    "# Define a vector\n",
    "v1 = np.array([5, 4, 2, 2])\n",
    "v2 = np.array([1, 1, 3, 3])\n",
    "v3 = np.array([[np.random.randint(0, 100)] for _ in range(5)]) # vertical vector"
   ]
  },
  {
   "cell_type": "code",
   "execution_count": 7,
   "id": "8a2f6615-be93-4a80-9974-c10ec245349d",
   "metadata": {},
   "outputs": [
    {
     "name": "stdout",
     "output_type": "stream",
     "text": [
      "v1 vector: [5 4 2 2]\n",
      "v2 vector: [1 1 3 3]\n",
      "\n",
      "v3 vector: \n",
      "[[22]\n",
      " [16]\n",
      " [45]\n",
      " [ 1]\n",
      " [24]]\n"
     ]
    }
   ],
   "source": [
    "print(f\"v1 vector: {v1}\")\n",
    "print(f\"v2 vector: {v2}\")\n",
    "print()\n",
    "print(f\"v3 vector: \\n{v3}\")"
   ]
  },
  {
   "cell_type": "code",
   "execution_count": 8,
   "id": "d5e206df",
   "metadata": {},
   "outputs": [
    {
     "name": "stdout",
     "output_type": "stream",
     "text": [
      "Sum of a scalar and vector: [5 4 2 2] + 15 = [20 19 17 17]\n",
      "Subtraction of a scalar and vector: 25 - [1 1 3 3] = [24 24 22 22]\n",
      "Sum of two vectors: [5 4 2 2] + [1 1 3 3] = [6 5 5 5]\n",
      "Subtraction of two vectors: [5 4 2 2] - [1 1 3 3] = [ 4  3 -1 -1]\n"
     ]
    }
   ],
   "source": [
    "# Sum and Subtraction\n",
    "print(f\"Sum of a scalar and vector: {v1} + 15 = {v1 + 15}\")\n",
    "print(f\"Subtraction of a scalar and vector: 25 - {v2} = {25 - v2}\")\n",
    "\n",
    "print(f\"Sum of two vectors: {v1} + {v2} = {v1 + v2}\")\n",
    "print(f\"Subtraction of two vectors: {v1} - {v2} = {v1 - v2}\")"
   ]
  },
  {
   "cell_type": "code",
   "execution_count": 9,
   "id": "4944a6c9-7102-4ea2-9c3d-1e84557efbf3",
   "metadata": {},
   "outputs": [
    {
     "name": "stdout",
     "output_type": "stream",
     "text": [
      "Multiplication with a scalar: v1 * 5 = [25 20 10 10]\n",
      "Division by a scalar: v2 / 5 = [0.2 0.2 0.6 0.6]\n",
      "Multiplication of two vectors: v1 * v2 = [5 4 6 6]\n",
      "Division of two vectors: v1 / v3 = [0.2  0.25 1.5  1.5 ]\n"
     ]
    }
   ],
   "source": [
    "# Multiplication and Division\n",
    "print(f\"Multiplication with a scalar: v1 * 5 = {v1 * 5}\")\n",
    "print(f\"Division by a scalar: v2 / 5 = {v2 / 5}\")\n",
    "\n",
    "print(f\"Multiplication of two vectors: v1 * v2 = {v1 * v2}\")\n",
    "print(f\"Division of two vectors: v1 / v3 = {v2 / v1}\")"
   ]
  },
  {
   "cell_type": "code",
   "execution_count": 10,
   "id": "bf823196-af2a-4ef3-9ba9-7911020cb002",
   "metadata": {},
   "outputs": [
    {
     "data": {
      "text/plain": [
       "array([5, 4])"
      ]
     },
     "execution_count": 10,
     "metadata": {},
     "output_type": "execute_result"
    }
   ],
   "source": [
    "# Slicing\n",
    "v1[0:2]"
   ]
  },
  {
   "cell_type": "code",
   "execution_count": null,
   "id": "3676cf3f-534e-4403-a83c-501da044d499",
   "metadata": {},
   "outputs": [],
   "source": []
  },
  {
   "cell_type": "markdown",
   "id": "e03c81b7-1d9f-456c-b1be-af7bf56a265a",
   "metadata": {},
   "source": [
    "### Sympy\n",
    "https://docs.sympy.org/latest/modules/vector/index.html"
   ]
  },
  {
   "cell_type": "code",
   "execution_count": 11,
   "id": "dd194ef1-fc10-48e2-8ecc-2c9e585c6b6a",
   "metadata": {},
   "outputs": [],
   "source": [
    "N = CoordSys3D('N')"
   ]
  },
  {
   "cell_type": "code",
   "execution_count": 12,
   "id": "cbe4578f-56ac-44c8-971a-23c03b1ea9df",
   "metadata": {},
   "outputs": [
    {
     "name": "stdout",
     "output_type": "stream",
     "text": [
      "<class 'sympy.vector.vector.BaseVector'>\n",
      "<class 'sympy.vector.vector.BaseVector'>\n",
      "<class 'sympy.vector.vector.BaseVector'>\n"
     ]
    }
   ],
   "source": [
    "# Base vectors of the Cartesian Coordinate System\n",
    "print(type(N.i))\n",
    "print(type(N.j))\n",
    "print(type(N.k))"
   ]
  },
  {
   "cell_type": "code",
   "execution_count": 13,
   "id": "d35f2dad-69dc-438d-90a6-490575394582",
   "metadata": {},
   "outputs": [],
   "source": [
    "# Define a vector with basevectors\n",
    "v1 = 2 * N.i + 5 * N.j\n",
    "v2 = -3 * N.i - 2 * N.j\n",
    "\n",
    "w1 = 4 * N.i + 2 * N.j - 3 * N.k\n",
    "w2 = -5 * N.i - 2 * N.j + 9 * N.k"
   ]
  },
  {
   "cell_type": "code",
   "execution_count": 14,
   "id": "715b9fbf-4ae2-4b83-9644-4bf985a25de9",
   "metadata": {},
   "outputs": [
    {
     "data": {
      "text/latex": [
       "$\\displaystyle \\left(2\\right)\\mathbf{\\hat{i}_{N}} + \\left(5\\right)\\mathbf{\\hat{j}_{N}}$"
      ],
      "text/plain": [
       "2*N.i + 5*N.j"
      ]
     },
     "execution_count": 14,
     "metadata": {},
     "output_type": "execute_result"
    }
   ],
   "source": [
    "v1"
   ]
  },
  {
   "cell_type": "code",
   "execution_count": 15,
   "id": "92998564-f43c-4952-9cd4-ece4998588d1",
   "metadata": {},
   "outputs": [
    {
     "data": {
      "text/latex": [
       "$\\displaystyle \\left(-5\\right)\\mathbf{\\hat{i}_{N}} + \\left(-2\\right)\\mathbf{\\hat{j}_{N}} + \\left(9\\right)\\mathbf{\\hat{k}_{N}}$"
      ],
      "text/plain": [
       "(-5)*N.i + (-2)*N.j + 9*N.k"
      ]
     },
     "execution_count": 15,
     "metadata": {},
     "output_type": "execute_result"
    }
   ],
   "source": [
    "w2"
   ]
  },
  {
   "cell_type": "code",
   "execution_count": 16,
   "id": "4c30cc90-164c-42f1-bf4e-5369d8b1ecdb",
   "metadata": {},
   "outputs": [
    {
     "name": "stdout",
     "output_type": "stream",
     "text": [
      "Sum of two vectors: 2*N.i + 5*N.j + (-3)*N.i + (-2)*N.j = (-1)*N.i + 3*N.j\n",
      "Subtraction of two vectors: 2*N.i + 5*N.j - (-3)*N.i + (-2)*N.j = 5*N.i + 7*N.j\n",
      "\n",
      "Sum of two vectors: 4*N.i + 2*N.j + (-3)*N.k + (-5)*N.i + (-2)*N.j + 9*N.k = (-1)*N.i + 6*N.k\n",
      "Subtraction of two vectors: 4*N.i + 2*N.j + (-3)*N.k - (-5)*N.i + (-2)*N.j + 9*N.k = 9*N.i + 4*N.j + (-12)*N.k\n"
     ]
    }
   ],
   "source": [
    "# Sum and Subtraction - Mathematically scalars and vectors are different entities\n",
    "print(f\"Sum of two vectors: {v1} + {v2} = {v1 + v2}\")\n",
    "print(f\"Subtraction of two vectors: {v1} - {v2} = {v1 - v2}\")\n",
    "print()\n",
    "print(f\"Sum of two vectors: {w1} + {w2} = {w1 + w2}\")\n",
    "print(f\"Subtraction of two vectors: {w1} - {w2} = {w1 - w2}\")"
   ]
  },
  {
   "cell_type": "code",
   "execution_count": 17,
   "id": "40cd2e94-c9c0-4b3e-8379-2fa3862ccb33",
   "metadata": {},
   "outputs": [
    {
     "data": {
      "text/latex": [
       "$\\displaystyle \\mathbf{\\hat{0}}$"
      ],
      "text/plain": [
       "0"
      ]
     },
     "execution_count": 17,
     "metadata": {},
     "output_type": "execute_result"
    }
   ],
   "source": [
    "# Zero vector\n",
    "Vector.zero"
   ]
  },
  {
   "cell_type": "code",
   "execution_count": null,
   "id": "005ba5ec-3cf6-4379-8247-8c27df9849e0",
   "metadata": {},
   "outputs": [],
   "source": []
  },
  {
   "cell_type": "code",
   "execution_count": null,
   "id": "f8dc084e-371e-4fd6-9148-0d8e9622ef00",
   "metadata": {},
   "outputs": [],
   "source": []
  },
  {
   "cell_type": "markdown",
   "id": "dc882776",
   "metadata": {},
   "source": [
    "# Matrices"
   ]
  },
  {
   "cell_type": "markdown",
   "id": "4fd35c41-cc7c-4f8b-8b18-cd7130f07acb",
   "metadata": {},
   "source": [
    "## Numpy\n",
    "https://numpy.org/doc/stable/reference/generated/numpy.matrix.html"
   ]
  },
  {
   "cell_type": "code",
   "execution_count": 18,
   "id": "dc90da9b",
   "metadata": {},
   "outputs": [
    {
     "data": {
      "text/plain": [
       "matrix([[ 2,  5,  6],\n",
       "        [ 5,  7,  8],\n",
       "        [12, 15, 22]])"
      ]
     },
     "execution_count": 18,
     "metadata": {},
     "output_type": "execute_result"
    }
   ],
   "source": [
    "## Creating custom int\n",
    "np.matrix([[2, 5, 6], [5, 7, 8], [12, 15, 22]], dtype=\"int\")"
   ]
  },
  {
   "cell_type": "code",
   "execution_count": 19,
   "id": "32da0865",
   "metadata": {},
   "outputs": [
    {
     "data": {
      "text/plain": [
       "matrix([[ 2.,  5.,  6.],\n",
       "        [ 5.,  7.,  8.],\n",
       "        [12., 15., 22.]])"
      ]
     },
     "execution_count": 19,
     "metadata": {},
     "output_type": "execute_result"
    }
   ],
   "source": [
    "## Creating custom float\n",
    "np.matrix([[2, 5, 6], [5, 7, 8], [12, 15, 22]], dtype=\"float\")"
   ]
  },
  {
   "cell_type": "code",
   "execution_count": 20,
   "id": "47311625",
   "metadata": {},
   "outputs": [
    {
     "data": {
      "text/plain": [
       "array([[12, 11,  7],\n",
       "       [ 1,  1,  9],\n",
       "       [14,  7, 12]])"
      ]
     },
     "execution_count": 20,
     "metadata": {},
     "output_type": "execute_result"
    }
   ],
   "source": [
    "## Creating random matrix/array int\n",
    "np.random.randint(1, 15, size=(3, 3))"
   ]
  },
  {
   "cell_type": "code",
   "execution_count": 21,
   "id": "d961bb01",
   "metadata": {},
   "outputs": [
    {
     "data": {
      "text/plain": [
       "array([[0.22867641, 0.59072529, 0.33917177],\n",
       "       [0.40379988, 0.43977906, 0.75042528],\n",
       "       [0.7212117 , 0.11790871, 0.30995   ]])"
      ]
     },
     "execution_count": 21,
     "metadata": {},
     "output_type": "execute_result"
    }
   ],
   "source": [
    "## Creating random matrix/array flaot\n",
    "np.random.rand(3, 3)"
   ]
  },
  {
   "cell_type": "code",
   "execution_count": 22,
   "id": "908bc407",
   "metadata": {},
   "outputs": [],
   "source": [
    "# Define Matrices\n",
    "A = np.matrix([[12, 25, 3], [24, 100, 1]])\n",
    "B =  np.matrix([[12, 25, 3], [24, 100, 1], [56, 120, 9]])\n",
    "C = np.matrix([[3, 2, 1], [1, 2, 3]])"
   ]
  },
  {
   "cell_type": "code",
   "execution_count": 23,
   "id": "d7fe00cd-be76-462b-879a-a81ae9d4a65a",
   "metadata": {},
   "outputs": [
    {
     "name": "stdout",
     "output_type": "stream",
     "text": [
      "A matrix first element of first row: 12\n",
      "B second row, last 2 column value: [[100   1]]\n",
      "B last row: [[ 56 120   9]]\n"
     ]
    }
   ],
   "source": [
    "# Slicing a matrix\n",
    "print(f\"A matrix first element of first row: {A[0, 0]}\")\n",
    "print(f\"B second row, last 2 column value: {B[1, 1:3]}\")\n",
    "print(f\"B last row: {B[-1, :]}\")"
   ]
  },
  {
   "cell_type": "code",
   "execution_count": 24,
   "id": "0f496407-160e-485f-8ab3-d0ef8cad3887",
   "metadata": {},
   "outputs": [
    {
     "name": "stdout",
     "output_type": "stream",
     "text": [
      "Matrix A: \n",
      "[[ 12  25   3]\n",
      " [ 24 100   1]]\n",
      "\n",
      "Scaler-Matrix Sum: 15 + A = \n",
      "[[ 27  40  18]\n",
      " [ 39 115  16]]\n",
      "Scaler-Matrix Subtraction: A - 3 = \n",
      "[[ 9 22  0]\n",
      " [21 97 -2]]\n",
      "\n",
      "Scaler-Matrix Multiplication: 5 * A = \n",
      "[[ 60 125  15]\n",
      " [120 500   5]]\n",
      "Scaler-Matrix Division: A / 5 = \n",
      "[[ 2.4  5.   0.6]\n",
      " [ 4.8 20.   0.2]]\n"
     ]
    }
   ],
   "source": [
    "print(f\"Matrix A: \\n{A}\")\n",
    "print()\n",
    "print(f\"Scaler-Matrix Sum: 15 + A = \\n{15 + A}\")\n",
    "print(f\"Scaler-Matrix Subtraction: A - 3 = \\n{A - 3}\")\n",
    "print()\n",
    "print(f\"Scaler-Matrix Multiplication: 5 * A = \\n{5 * A}\")\n",
    "print(f\"Scaler-Matrix Division: A / 5 = \\n{A / 5}\")"
   ]
  },
  {
   "cell_type": "code",
   "execution_count": 25,
   "id": "e6c81051-4b27-4901-a463-9740b2c46fb4",
   "metadata": {},
   "outputs": [
    {
     "name": "stdout",
     "output_type": "stream",
     "text": [
      "Matrix A: \n",
      "[[ 12  25   3]\n",
      " [ 24 100   1]]\n",
      "Matrix B: \n",
      "[[ 12  25   3]\n",
      " [ 24 100   1]\n",
      " [ 56 120   9]]\n",
      "Matrix C: \n",
      "[[3 2 1]\n",
      " [1 2 3]]\n",
      "\n",
      "--(element-wise) Operations--\n",
      "\n",
      "Sum of A and C: A + C = \n",
      "[[ 15  27   4]\n",
      " [ 25 102   4]]\n",
      "Subtraction of A and C: A - C = \n",
      "[[ 9 23  2]\n",
      " [23 98 -2]]\n",
      "\n",
      "Matrix-Matrix Multiplication: A * B = \n",
      "[[  912  3160    88]\n",
      " [ 2744 10720   181]]\n",
      "Matrix-Matrix Division: A / C = \n",
      "[[ 4.         12.5         3.        ]\n",
      " [24.         50.          0.33333333]]\n"
     ]
    }
   ],
   "source": [
    "print(f\"Matrix A: \\n{A}\")\n",
    "print(f\"Matrix B: \\n{B}\")\n",
    "print(f\"Matrix C: \\n{C}\")\n",
    "print()\n",
    "print(\"--(element-wise) Operations--\")\n",
    "print()\n",
    "\n",
    "print(f\"Sum of A and C: A + C = \\n{A + C}\")\n",
    "print(f\"Subtraction of A and C: A - C = \\n{A - C}\")\n",
    "print()\n",
    "print(f\"Matrix-Matrix Multiplication: A * B = \\n{A * B}\")\n",
    "print(f\"Matrix-Matrix Division: A / C = \\n{A / C}\")"
   ]
  },
  {
   "cell_type": "code",
   "execution_count": 26,
   "id": "ccf7cf3e-2a70-41c0-a831-76f88a3f2b7a",
   "metadata": {},
   "outputs": [
    {
     "data": {
      "text/plain": [
       "matrix([[  912,  3160,    88],\n",
       "        [ 2744, 10720,   181]])"
      ]
     },
     "execution_count": 26,
     "metadata": {},
     "output_type": "execute_result"
    }
   ],
   "source": [
    "# Matrix multiplication\n",
    "np.matmul(A, B)\n",
    "A @ B"
   ]
  },
  {
   "cell_type": "code",
   "execution_count": 27,
   "id": "5ccb823d-301e-4b84-8294-3589fd378d80",
   "metadata": {},
   "outputs": [
    {
     "data": {
      "text/plain": [
       "matrix([[12],\n",
       "        [24]])"
      ]
     },
     "execution_count": 27,
     "metadata": {},
     "output_type": "execute_result"
    }
   ],
   "source": [
    "# Slicing first column for example\n",
    "A[:, 0]"
   ]
  },
  {
   "cell_type": "code",
   "execution_count": null,
   "id": "b3b78ed6-5abe-4490-b231-23cb9259a474",
   "metadata": {},
   "outputs": [],
   "source": []
  },
  {
   "cell_type": "markdown",
   "id": "da96ff2e-5197-4c45-8a96-b33077080379",
   "metadata": {},
   "source": [
    "## Sympy\n",
    "https://docs.sympy.org/latest/modules/matrices/matrices.html"
   ]
  },
  {
   "cell_type": "code",
   "execution_count": 28,
   "id": "22e533a6-b40d-4890-9995-0f7fc5648c6f",
   "metadata": {},
   "outputs": [],
   "source": [
    "init_printing(use_unicode=False, wrap_line=False)"
   ]
  },
  {
   "cell_type": "code",
   "execution_count": 29,
   "id": "4b8befd0-c730-4dbc-a4b0-67aba51318f7",
   "metadata": {},
   "outputs": [],
   "source": [
    "# Define Matrices\n",
    "A = Matrix([[12, 25, 3], [24, 100, 1]])\n",
    "B =  Matrix(3, 3, np.random.randint(0, 15, 9))\n",
    "C = Matrix(2, 3, lambda i,j: 2 + (i-j))\n",
    "D = Matrix(3, 3, np.random.randint(15, 50, 9))"
   ]
  },
  {
   "cell_type": "code",
   "execution_count": 30,
   "id": "4533f87b-37f0-42ef-9e02-15c308173418",
   "metadata": {},
   "outputs": [
    {
     "data": {
      "text/latex": [
       "$\\displaystyle \\left[\\begin{matrix}0 & 1 & 9\\\\12 & 13 & 7\\\\4 & 5 & 2\\end{matrix}\\right]$"
      ],
      "text/plain": [
       "[0   1   9]\n",
       "[         ]\n",
       "[12  13  7]\n",
       "[         ]\n",
       "[4   5   2]"
      ]
     },
     "execution_count": 30,
     "metadata": {},
     "output_type": "execute_result"
    }
   ],
   "source": [
    "B"
   ]
  },
  {
   "cell_type": "code",
   "execution_count": 31,
   "id": "e3fc28e0-a21a-444e-9839-2e30d89da8c1",
   "metadata": {},
   "outputs": [
    {
     "data": {
      "image/png": "[encoded data removed]",
      "text/latex": [
       "$\\displaystyle 13$"
      ],
      "text/plain": [
       "13"
      ]
     },
     "execution_count": 31,
     "metadata": {},
     "output_type": "execute_result"
    }
   ],
   "source": [
    "# Slicing B matrix\n",
    "B[1, 1]"
   ]
  },
  {
   "cell_type": "code",
   "execution_count": 32,
   "id": "af6f67ea-ffd2-4cd2-b98e-8caeb45eb6c9",
   "metadata": {},
   "outputs": [
    {
     "data": {
      "text/latex": [
       "$\\displaystyle \\left[\\begin{matrix}14 & 26 & 3\\\\27 & 102 & 2\\end{matrix}\\right]$"
      ],
      "text/plain": [
       "[14  26   3]\n",
       "[          ]\n",
       "[27  102  2]"
      ]
     },
     "execution_count": 32,
     "metadata": {},
     "output_type": "execute_result"
    }
   ],
   "source": [
    "# Sum (element-wise)\n",
    "A + C "
   ]
  },
  {
   "cell_type": "code",
   "execution_count": 33,
   "id": "639bc35e-38e3-4e11-aa2a-017f33e36438",
   "metadata": {},
   "outputs": [
    {
     "data": {
      "text/latex": [
       "$\\displaystyle \\left[\\begin{matrix}10 & 24 & 3\\\\21 & 98 & 0\\end{matrix}\\right]$"
      ],
      "text/plain": [
       "[10  24  3]\n",
       "[         ]\n",
       "[21  98  0]"
      ]
     },
     "execution_count": 33,
     "metadata": {},
     "output_type": "execute_result"
    }
   ],
   "source": [
    "# Subtraction (element-wise)\n",
    "A - C"
   ]
  },
  {
   "cell_type": "code",
   "execution_count": 34,
   "id": "17520b36-898c-4c3f-b2de-93e64f9bba88",
   "metadata": {},
   "outputs": [
    {
     "data": {
      "text/latex": [
       "$\\displaystyle \\left[\\begin{matrix}312 & 352 & 289\\\\1204 & 1329 & 918\\end{matrix}\\right]$"
      ],
      "text/plain": [
       "[312   352   289]\n",
       "[               ]\n",
       "[1204  1329  918]"
      ]
     },
     "execution_count": 34,
     "metadata": {},
     "output_type": "execute_result"
    }
   ],
   "source": [
    "# Multiplication (element-wise)\n",
    "A * B"
   ]
  },
  {
   "cell_type": "code",
   "execution_count": 35,
   "id": "9fadd400-bd21-4f3b-affe-4513310bcb74",
   "metadata": {},
   "outputs": [
    {
     "data": {
      "text/latex": [
       "$\\displaystyle \\left[\\begin{matrix}\\frac{101}{450} & - \\frac{227}{450} & \\frac{19}{75}\\\\\\frac{53}{225} & - \\frac{187}{450} & \\frac{14}{75}\\end{matrix}\\right]$"
      ],
      "text/plain": [
       "[101  -227   19]\n",
       "[---  -----  --]\n",
       "[450   450   75]\n",
       "[              ]\n",
       "[ 53  -187   14]\n",
       "[---  -----  --]\n",
       "[225   450   75]"
      ]
     },
     "execution_count": 35,
     "metadata": {},
     "output_type": "execute_result"
    }
   ],
   "source": [
    "# Division (element-wise)\n",
    "C * D.inv()"
   ]
  },
  {
   "cell_type": "code",
   "execution_count": 36,
   "id": "6b738939-1c0d-494b-b425-3af8939632dc",
   "metadata": {},
   "outputs": [
    {
     "data": {
      "text/latex": [
       "$\\displaystyle \\left[\\begin{matrix}312 & 352 & 289\\\\1204 & 1329 & 918\\end{matrix}\\right]$"
      ],
      "text/plain": [
       "[312   352   289]\n",
       "[               ]\n",
       "[1204  1329  918]"
      ]
     },
     "execution_count": 36,
     "metadata": {},
     "output_type": "execute_result"
    }
   ],
   "source": [
    "# Matrix Multiplication\n",
    "A @ B"
   ]
  },
  {
   "cell_type": "code",
   "execution_count": null,
   "id": "5fa72144-48e7-470d-baee-4a6e3ea4fc2b",
   "metadata": {},
   "outputs": [],
   "source": []
  },
  {
   "cell_type": "code",
   "execution_count": null,
   "id": "10914e43-9c0b-432a-b8d4-7b379445a5a4",
   "metadata": {},
   "outputs": [],
   "source": []
  },
  {
   "cell_type": "markdown",
   "id": "ffca66ca-2879-4d0b-8e21-15773ec2f050",
   "metadata": {},
   "source": [
    "# Tensors"
   ]
  },
  {
   "cell_type": "markdown",
   "id": "3a5f6614-11bd-4867-b700-3e056b88ae68",
   "metadata": {},
   "source": [
    "## Numpy\n",
    "https://numpy.org/doc/stable/reference/generated/numpy.array.html"
   ]
  },
  {
   "cell_type": "code",
   "execution_count": 37,
   "id": "be4107f0-8354-4dd4-ba01-8d00a927340e",
   "metadata": {},
   "outputs": [],
   "source": [
    "# Define Tensor (Tensor is like a collection of scalars, vectors, matrices in >2 dimension)\n",
    "X = np.array([[[25, 12, 23], [3, 4, 5]], [[6, 7, 8], [213, 1, 2]]])\n",
    "Y = np.array([[[1, 2], [3, 4]], [[5, 6], [7, 8]]])\n",
    "Z = np.array([[[1, 2, 3], [5, 6, 5]], [[2, 5, 2], [15, 75, 12]]])"
   ]
  },
  {
   "cell_type": "code",
   "execution_count": 38,
   "id": "23f567dd-4888-45ac-b4f6-05bf27a61f2c",
   "metadata": {},
   "outputs": [
    {
     "name": "stdout",
     "output_type": "stream",
     "text": [
      "[[[ 25  12  23]\n",
      "  [  3   4   5]]\n",
      "\n",
      " [[  6   7   8]\n",
      "  [213   1   2]]]\n",
      "<class 'numpy.ndarray'>\n"
     ]
    }
   ],
   "source": [
    "print(X)\n",
    "print(type(X))"
   ]
  },
  {
   "cell_type": "code",
   "execution_count": 39,
   "id": "8438caa8-5a76-40d3-8f2f-7fc401759480",
   "metadata": {},
   "outputs": [
    {
     "name": "stdout",
     "output_type": "stream",
     "text": [
      "Sum of Two Tensors: X + Z = \n",
      "[[[ 26  14  26]\n",
      "  [  8  10  10]]\n",
      "\n",
      " [[  8  12  10]\n",
      "  [228  76  14]]]\n",
      "\n",
      "Subtraction of Two Tensors: X - Z = \n",
      "[[[ 24  10  20]\n",
      "  [ -2  -2   0]]\n",
      "\n",
      " [[  4   2   6]\n",
      "  [198 -74 -10]]]\n"
     ]
    }
   ],
   "source": [
    "print(f\"Sum of Two Tensors: X + Z = \\n{X + Z}\") # elementwise operation\n",
    "print()\n",
    "print(f\"Subtraction of Two Tensors: X - Z = \\n{X - Z}\") # elementwise operation"
   ]
  },
  {
   "cell_type": "code",
   "execution_count": 40,
   "id": "f84ed0ab-5088-4da3-98fe-209b0c967ffc",
   "metadata": {},
   "outputs": [
    {
     "name": "stdout",
     "output_type": "stream",
     "text": [
      "Multiplication of Two Tensors: X * Z = \n",
      "[[[  25   24   69]\n",
      "  [  15   24   25]]\n",
      "\n",
      " [[  12   35   16]\n",
      "  [3195   75   24]]]\n",
      "\n",
      "Division of Two Tensors: X / Z = \n",
      "[[[2.50000000e+01 6.00000000e+00 7.66666667e+00]\n",
      "  [6.00000000e-01 6.66666667e-01 1.00000000e+00]]\n",
      "\n",
      " [[3.00000000e+00 1.40000000e+00 4.00000000e+00]\n",
      "  [1.42000000e+01 1.33333333e-02 1.66666667e-01]]]\n"
     ]
    }
   ],
   "source": [
    "print(f\"Multiplication of Two Tensors: X * Z = \\n{X * Z}\") # elementwise operation\n",
    "print()\n",
    "print(f\"Division of Two Tensors: X / Z = \\n{X / Z}\") # elementwise operation"
   ]
  },
  {
   "cell_type": "code",
   "execution_count": null,
   "id": "93df73fc-3979-4b92-bf98-af17162ab6a0",
   "metadata": {},
   "outputs": [],
   "source": []
  },
  {
   "cell_type": "markdown",
   "id": "e34f50d5-9ea7-4f1a-a36f-7584333442fb",
   "metadata": {},
   "source": [
    "## Sympy\n",
    "https://docs.sympy.org/latest/modules/tensor/index.html"
   ]
  },
  {
   "cell_type": "code",
   "execution_count": 41,
   "id": "c51e5c76-0413-47c5-8967-3c748e5e4484",
   "metadata": {},
   "outputs": [],
   "source": [
    "# Define Tensor\n",
    "A = Array([[[1, 2], [3, 4]], [[5, 6], [8, 9]], [[10, 11], [12, 13]]])\n",
    "B = Array([[[14, 15], [1, 4]], [[5, 2], [6, 3]], [[1, 11], [5, 13]]])"
   ]
  },
  {
   "cell_type": "code",
   "execution_count": 42,
   "id": "50b75a46-e6a5-49a2-9ffe-4854bcee8c6d",
   "metadata": {},
   "outputs": [
    {
     "data": {
      "text/latex": [
       "$\\displaystyle \\left[\\begin{matrix}\\left[\\begin{matrix}1 & 2\\\\3 & 4\\end{matrix}\\right] & \\left[\\begin{matrix}5 & 6\\\\8 & 9\\end{matrix}\\right] & \\left[\\begin{matrix}10 & 11\\\\12 & 13\\end{matrix}\\right]\\end{matrix}\\right]$"
      ],
      "text/plain": [
       "[[1  2]  [5  6]  [10  11]]\n",
       "[[    ]  [    ]  [      ]]\n",
       "[[3  4]  [8  9]  [12  13]]"
      ]
     },
     "execution_count": 42,
     "metadata": {},
     "output_type": "execute_result"
    }
   ],
   "source": [
    "A"
   ]
  },
  {
   "cell_type": "code",
   "execution_count": 43,
   "id": "0b89152c-415b-413c-bf21-b37ca78fac0d",
   "metadata": {},
   "outputs": [
    {
     "data": {
      "text/latex": [
       "$\\displaystyle \\left[\\begin{matrix}\\left[\\begin{matrix}14 & 15\\\\1 & 4\\end{matrix}\\right] & \\left[\\begin{matrix}5 & 2\\\\6 & 3\\end{matrix}\\right] & \\left[\\begin{matrix}1 & 11\\\\5 & 13\\end{matrix}\\right]\\end{matrix}\\right]$"
      ],
      "text/plain": [
       "[[14  15]  [5  2]  [1  11]]\n",
       "[[      ]  [    ]  [     ]]\n",
       "[[1   4 ]  [6  3]  [5  13]]"
      ]
     },
     "execution_count": 43,
     "metadata": {},
     "output_type": "execute_result"
    }
   ],
   "source": [
    "B"
   ]
  },
  {
   "cell_type": "code",
   "execution_count": 44,
   "id": "84156cd2-98b1-40ee-94df-a02b3e2c33ef",
   "metadata": {},
   "outputs": [
    {
     "data": {
      "text/latex": [
       "$\\displaystyle \\left[\\begin{matrix}\\left[\\begin{matrix}15 & 17\\\\4 & 8\\end{matrix}\\right] & \\left[\\begin{matrix}10 & 8\\\\14 & 12\\end{matrix}\\right] & \\left[\\begin{matrix}11 & 22\\\\17 & 26\\end{matrix}\\right]\\end{matrix}\\right]$"
      ],
      "text/plain": [
       "[[15  17]  [10  8 ]  [11  22]]\n",
       "[[      ]  [      ]  [      ]]\n",
       "[[4   8 ]  [14  12]  [17  26]]"
      ]
     },
     "execution_count": 44,
     "metadata": {},
     "output_type": "execute_result"
    }
   ],
   "source": [
    "# Sum of tensors\n",
    "A+B"
   ]
  },
  {
   "cell_type": "code",
   "execution_count": 45,
   "id": "789f3622-5cca-4ace-aa90-70c26a5dec90",
   "metadata": {},
   "outputs": [
    {
     "data": {
      "text/latex": [
       "$\\displaystyle \\left[\\begin{matrix}\\left[\\begin{matrix}13 & 13\\\\-2 & 0\\end{matrix}\\right] & \\left[\\begin{matrix}0 & -4\\\\-2 & -6\\end{matrix}\\right] & \\left[\\begin{matrix}-9 & 0\\\\-7 & 0\\end{matrix}\\right]\\end{matrix}\\right]$"
      ],
      "text/plain": [
       "[[13  13]  [0   -4]  [-9  0]]\n",
       "[[      ]  [      ]  [     ]]\n",
       "[[-2  0 ]  [-2  -6]  [-7  0]]"
      ]
     },
     "execution_count": 45,
     "metadata": {},
     "output_type": "execute_result"
    }
   ],
   "source": [
    "# Subtraction of tensors\n",
    "B-A"
   ]
  },
  {
   "cell_type": "code",
   "execution_count": 46,
   "id": "fcf9151a-5b2a-42ce-bc1d-d6ca2b37a2ff",
   "metadata": {},
   "outputs": [
    {
     "data": {
      "text/latex": [
       "$\\displaystyle \\left[\\begin{matrix}\\left[\\begin{matrix}3 & 6\\\\9 & 12\\end{matrix}\\right] & \\left[\\begin{matrix}15 & 18\\\\24 & 27\\end{matrix}\\right] & \\left[\\begin{matrix}30 & 33\\\\36 & 39\\end{matrix}\\right]\\end{matrix}\\right]$"
      ],
      "text/plain": [
       "[[3  6 ]  [15  18]  [30  33]]\n",
       "[[     ]  [      ]  [      ]]\n",
       "[[9  12]  [24  27]  [36  39]]"
      ]
     },
     "execution_count": 46,
     "metadata": {},
     "output_type": "execute_result"
    }
   ],
   "source": [
    "A * 3"
   ]
  },
  {
   "cell_type": "code",
   "execution_count": 47,
   "id": "03febc7f-8cb3-47d9-bdeb-e87fa84ed18c",
   "metadata": {},
   "outputs": [
    {
     "data": {
      "text/latex": [
       "$\\displaystyle \\left[\\begin{matrix}\\left[\\begin{matrix}7 & \\frac{15}{2}\\\\\\frac{1}{2} & 2\\end{matrix}\\right] & \\left[\\begin{matrix}\\frac{5}{2} & 1\\\\3 & \\frac{3}{2}\\end{matrix}\\right] & \\left[\\begin{matrix}\\frac{1}{2} & \\frac{11}{2}\\\\\\frac{5}{2} & \\frac{13}{2}\\end{matrix}\\right]\\end{matrix}\\right]$"
      ],
      "text/plain": [
       "[[ 7   15/2]  [5/2   1 ]  [1/2  11/2]]\n",
       "[[         ]  [        ]  [         ]]\n",
       "[[1/2   2  ]  [ 3   3/2]  [5/2  13/2]]"
      ]
     },
     "execution_count": 47,
     "metadata": {},
     "output_type": "execute_result"
    }
   ],
   "source": [
    "B / 2"
   ]
  },
  {
   "cell_type": "code",
   "execution_count": null,
   "id": "2fc2bf5a-c734-4874-a03f-72e1cb5a7931",
   "metadata": {},
   "outputs": [],
   "source": []
  },
  {
   "cell_type": "markdown",
   "id": "14ee1071-88b0-4b83-b6a5-e6d46d1cb708",
   "metadata": {},
   "source": [
    "## TensorFlow\n",
    "https://www.tensorflow.org/guide/tensor"
   ]
  },
  {
   "cell_type": "code",
   "execution_count": 48,
   "id": "d2aa514e-37a1-4607-9da5-9d7d332d727c",
   "metadata": {},
   "outputs": [
    {
     "data": {
      "text/plain": [
       "<tf.Tensor: shape=(), dtype=int32, numpy=5>"
      ]
     },
     "execution_count": 48,
     "metadata": {},
     "output_type": "execute_result"
    }
   ],
   "source": [
    "# Define Scalar\n",
    "tf.constant(5)"
   ]
  },
  {
   "cell_type": "code",
   "execution_count": 49,
   "id": "92b34886-8937-4c95-81c8-ffed64448a24",
   "metadata": {},
   "outputs": [
    {
     "data": {
      "text/plain": [
       "<tf.Tensor: shape=(5,), dtype=float32, numpy=array([ 5. ,  6. ,  8. , 10. , 15.5], dtype=float32)>"
      ]
     },
     "execution_count": 49,
     "metadata": {},
     "output_type": "execute_result"
    }
   ],
   "source": [
    "# Define Vector\n",
    "tf.constant([5, 6, 8, 10, 15.5])"
   ]
  },
  {
   "cell_type": "code",
   "execution_count": 50,
   "id": "614926c1-61e6-48bc-9652-85cf2a4cdb91",
   "metadata": {},
   "outputs": [
    {
     "data": {
      "text/plain": [
       "<tf.Tensor: shape=(3, 2), dtype=float16, numpy=\n",
       "array([[1., 2.],\n",
       "       [3., 4.],\n",
       "       [5., 6.]], dtype=float16)>"
      ]
     },
     "execution_count": 50,
     "metadata": {},
     "output_type": "execute_result"
    }
   ],
   "source": [
    "# Define Matrix\n",
    "tf.constant([[1, 2], [3, 4], [5, 6]], dtype=tf.float16)"
   ]
  },
  {
   "cell_type": "code",
   "execution_count": 51,
   "id": "7679b199-4450-4a4c-831a-c342a0a66cee",
   "metadata": {},
   "outputs": [],
   "source": [
    "# Define Tensor\n",
    "tensor_1 = tf.constant([\n",
    "  [[0, 1, 2],\n",
    "   [5, 6, 7]],\n",
    "    \n",
    "  [[10, 11, 12],\n",
    "   [15, 16, 17]],\n",
    "    \n",
    "  [[20, 21, 22],\n",
    "   [25, 26, 27]],])\n",
    "\n",
    "tensor_2 = tf.constant([\n",
    "  [[5, 3, 4],\n",
    "   [7, 8, 9]],\n",
    "    \n",
    "  [[15, 13, 14],\n",
    "   [17, 18, 19]],\n",
    "    \n",
    "  [[25, 23, 24],\n",
    "   [27, 28, 29]],])\n",
    "\n",
    "tensor_3 = tf.ones([3, 2, 3])\n",
    "tensor_4 = tf.random.uniform([3, 2, 3])"
   ]
  },
  {
   "cell_type": "code",
   "execution_count": 52,
   "id": "f76bf94f-12a0-4233-82eb-d90829d290af",
   "metadata": {},
   "outputs": [
    {
     "data": {
      "text/plain": [
       "<tf.Tensor: shape=(3, 2, 3), dtype=int32, numpy=\n",
       "array([[[ 0,  1,  2],\n",
       "        [ 5,  6,  7]],\n",
       "\n",
       "       [[10, 11, 12],\n",
       "        [15, 16, 17]],\n",
       "\n",
       "       [[20, 21, 22],\n",
       "        [25, 26, 27]]])>"
      ]
     },
     "execution_count": 52,
     "metadata": {},
     "output_type": "execute_result"
    }
   ],
   "source": [
    "tensor_1"
   ]
  },
  {
   "cell_type": "code",
   "execution_count": 53,
   "id": "b4cc7935-bf69-44f5-be65-aab5a92beb30",
   "metadata": {},
   "outputs": [
    {
     "name": "stdout",
     "output_type": "stream",
     "text": [
      "Sum of Tensors: tensor_1 + tensor_2 = \n",
      "[[[ 5  4  6]\n",
      "  [12 14 16]]\n",
      "\n",
      " [[25 24 26]\n",
      "  [32 34 36]]\n",
      "\n",
      " [[45 44 46]\n",
      "  [52 54 56]]]\n"
     ]
    }
   ],
   "source": [
    "# Sum of Tensors (element-wise)\n",
    "print(f\"Sum of Tensors: tensor_1 + tensor_2 = \\n{tf.add(tensor_1, tensor_2)}\")"
   ]
  },
  {
   "cell_type": "code",
   "execution_count": 54,
   "id": "b7d81970-6964-44d6-aa6f-f164f37acc99",
   "metadata": {},
   "outputs": [
    {
     "name": "stdout",
     "output_type": "stream",
     "text": [
      "Subtraction of Tensors: tensor_1 + (-tensor_2) = \n",
      "[[[-5 -2 -2]\n",
      "  [-2 -2 -2]]\n",
      "\n",
      " [[-5 -2 -2]\n",
      "  [-2 -2 -2]]\n",
      "\n",
      " [[-5 -2 -2]\n",
      "  [-2 -2 -2]]]\n"
     ]
    }
   ],
   "source": [
    "# Subtraction of Tensors (element-wise)\n",
    "print(f\"Subtraction of Tensors: tensor_1 + (-tensor_2) = \\n{tf.add(tensor_1, -tensor_2)}\")"
   ]
  },
  {
   "cell_type": "code",
   "execution_count": 55,
   "id": "aabf976d-636b-4a46-b8aa-d26019b8795a",
   "metadata": {},
   "outputs": [
    {
     "name": "stdout",
     "output_type": "stream",
     "text": [
      "Tensors elementwise multiplication: tensor_1 * tensor_2 = \n",
      "[[[  0   3   8]\n",
      "  [ 35  48  63]]\n",
      "\n",
      " [[150 143 168]\n",
      "  [255 288 323]]\n",
      "\n",
      " [[500 483 528]\n",
      "  [675 728 783]]]\n"
     ]
    }
   ],
   "source": [
    "# Multiplication of Tensors (element-wise)\n",
    "print(f\"Tensors elementwise multiplication: tensor_1 * tensor_2 = \\n{tf.multiply(tensor_1, tensor_2)}\")"
   ]
  },
  {
   "cell_type": "code",
   "execution_count": 56,
   "id": "e31668a3-0cee-4b1b-8cb8-501b2833c379",
   "metadata": {},
   "outputs": [
    {
     "name": "stdout",
     "output_type": "stream",
     "text": [
      "Division of Tensors: tensor_1 / tensor_2 = \n",
      "[[[0.         0.33333333 0.5       ]\n",
      "  [0.71428571 0.75       0.77777778]]\n",
      "\n",
      " [[0.66666667 0.84615385 0.85714286]\n",
      "  [0.88235294 0.88888889 0.89473684]]\n",
      "\n",
      " [[0.8        0.91304348 0.91666667]\n",
      "  [0.92592593 0.92857143 0.93103448]]]\n"
     ]
    }
   ],
   "source": [
    "# Division of Tensors (element-wise)\n",
    "print(f\"Division of Tensors: tensor_1 / tensor_2 = \\n{tf.divide(tensor_1, tensor_2)}\")"
   ]
  },
  {
   "cell_type": "code",
   "execution_count": 57,
   "id": "8394c7e1-e42f-411c-a6bd-8d4f943ebd8e",
   "metadata": {},
   "outputs": [],
   "source": [
    "tensor_matrix1 = tf.random.uniform([2, 3])\n",
    "tensor_matrix2 = tf.random.uniform([3, 2])"
   ]
  },
  {
   "cell_type": "code",
   "execution_count": 58,
   "id": "2b6dccf9-057b-4346-a723-b0d9cfad766a",
   "metadata": {},
   "outputs": [
    {
     "name": "stdout",
     "output_type": "stream",
     "text": [
      "Matrix multiplication: Matrix1 @ Matrix2 = \n",
      "[[0.5376053  0.6236181 ]\n",
      " [0.12327376 0.14907436]]\n"
     ]
    }
   ],
   "source": [
    "print(f\"Matrix multiplication: Matrix1 @ Matrix2 = \\n{tf.matmul(tensor_matrix1, tensor_matrix2)}\")"
   ]
  },
  {
   "cell_type": "code",
   "execution_count": 59,
   "id": "9aec7856-aa54-479e-9ae8-0fd78168ab4c",
   "metadata": {},
   "outputs": [
    {
     "data": {
      "text/plain": [
       "<tf.Tensor: shape=(2, 2), dtype=float32, numpy=\n",
       "array([[0.5376053 , 0.6236181 ],\n",
       "       [0.12327376, 0.14907436]], dtype=float32)>"
      ]
     },
     "execution_count": 59,
     "metadata": {},
     "output_type": "execute_result"
    }
   ],
   "source": [
    "tensor_matrix1 @ tensor_matrix2"
   ]
  },
  {
   "cell_type": "code",
   "execution_count": 60,
   "id": "39893e03-c731-4dd4-9343-bb3c7b48061f",
   "metadata": {},
   "outputs": [
    {
     "data": {
      "text/plain": [
       "array([[[ 0,  1,  2],\n",
       "        [ 5,  6,  7]],\n",
       "\n",
       "       [[10, 11, 12],\n",
       "        [15, 16, 17]],\n",
       "\n",
       "       [[20, 21, 22],\n",
       "        [25, 26, 27]]])"
      ]
     },
     "execution_count": 60,
     "metadata": {},
     "output_type": "execute_result"
    }
   ],
   "source": [
    "# Easily convert to numpy array\n",
    "tensor_1.numpy()"
   ]
  },
  {
   "cell_type": "code",
   "execution_count": null,
   "id": "b23c94a4-8b94-4c65-8e11-850b0d6f7441",
   "metadata": {},
   "outputs": [],
   "source": []
  },
  {
   "cell_type": "markdown",
   "id": "d2bb20f1-6034-4433-a619-95b326aefbfe",
   "metadata": {},
   "source": [
    "## PyTorch\n",
    "https://pytorch.org/docs/stable/tensors.html"
   ]
  },
  {
   "cell_type": "code",
   "execution_count": 61,
   "id": "ff557233-6de3-4b77-bb0f-6c0ac3828cb4",
   "metadata": {},
   "outputs": [
    {
     "data": {
      "text/plain": [
       "True"
      ]
     },
     "execution_count": 61,
     "metadata": {},
     "output_type": "execute_result"
    }
   ],
   "source": [
    "torch.cuda.is_available()"
   ]
  },
  {
   "cell_type": "code",
   "execution_count": 62,
   "id": "cbb2561f-057d-4270-8d96-63d1b8f1fba7",
   "metadata": {},
   "outputs": [],
   "source": [
    "tensor_1 = torch.tensor([[[1, 2], [3, 4]], [[5, 6], [7, 8]]])\n",
    "tensor_2 = torch.tensor([[[25, 2], [62, 13]], [[24, 42], [4, 1]]])\n",
    "tensor_zeros = torch.zeros([2, 4], dtype=torch.int16)\n",
    "tensor_random = torch.rand([2, 5, 6])"
   ]
  },
  {
   "cell_type": "code",
   "execution_count": 63,
   "id": "36656d48-bb9e-4835-943f-baa10dfe44de",
   "metadata": {},
   "outputs": [
    {
     "name": "stdout",
     "output_type": "stream",
     "text": [
      "tensor([[[1, 2],\n",
      "         [3, 4]],\n",
      "\n",
      "        [[5, 6],\n",
      "         [7, 8]]])\n"
     ]
    }
   ],
   "source": [
    "print(tensor_1)"
   ]
  },
  {
   "cell_type": "code",
   "execution_count": 64,
   "id": "7bb0c0f5-93a9-44c4-8711-9ef2a72b4438",
   "metadata": {},
   "outputs": [
    {
     "data": {
      "text/plain": [
       "torch.Tensor"
      ]
     },
     "execution_count": 64,
     "metadata": {},
     "output_type": "execute_result"
    }
   ],
   "source": [
    "type(tensor_1)"
   ]
  },
  {
   "cell_type": "code",
   "execution_count": 65,
   "id": "fae452f2-194f-4dce-a2c0-339e8742fc81",
   "metadata": {},
   "outputs": [
    {
     "data": {
      "text/plain": [
       "tensor([[1., 1., 1., 1.],\n",
       "        [1., 1., 1., 1.]], device='cuda:0', dtype=torch.float64)"
      ]
     },
     "execution_count": 65,
     "metadata": {},
     "output_type": "execute_result"
    }
   ],
   "source": [
    "cuda0 = torch.device('cuda:0')\n",
    "torch.ones([2, 4], dtype=torch.float64, device=cuda0)"
   ]
  },
  {
   "cell_type": "code",
   "execution_count": 66,
   "id": "9ebc190a-4b15-468d-9bf5-bda05c1079ae",
   "metadata": {},
   "outputs": [
    {
     "name": "stdout",
     "output_type": "stream",
     "text": [
      "Sum of Tensors: tensor_1 + tensor_2 = \n",
      "tensor([[[26,  4],\n",
      "         [65, 17]],\n",
      "\n",
      "        [[29, 48],\n",
      "         [11,  9]]])\n"
     ]
    }
   ],
   "source": [
    "# Sum of Tensors (element-wise)\n",
    "print(f\"Sum of Tensors: tensor_1 + tensor_2 = \\n{tensor_1 + tensor_2}\")"
   ]
  },
  {
   "cell_type": "code",
   "execution_count": 67,
   "id": "96a154f9-a100-4325-8e92-73b3f23a1112",
   "metadata": {},
   "outputs": [
    {
     "name": "stdout",
     "output_type": "stream",
     "text": [
      "Subtraction of Tensors: tensor_1 + (-tensor_2) = \n",
      "tensor([[[-24,   0],\n",
      "         [-59,  -9]],\n",
      "\n",
      "        [[-19, -36],\n",
      "         [  3,   7]]])\n"
     ]
    }
   ],
   "source": [
    "# Subtraction of Tensors (element-wise)\n",
    "print(f\"Subtraction of Tensors: tensor_1 + (-tensor_2) = \\n{tensor_1 - tensor_2}\")"
   ]
  },
  {
   "cell_type": "code",
   "execution_count": 68,
   "id": "c7c9fe98-1b2f-43de-9518-7dd9655d5244",
   "metadata": {},
   "outputs": [
    {
     "name": "stdout",
     "output_type": "stream",
     "text": [
      "Tensors elementwise multiplication: tensor_1 * tensor_2 = \n",
      "tensor([[[ 25,   4],\n",
      "         [186,  52]],\n",
      "\n",
      "        [[120, 252],\n",
      "         [ 28,   8]]])\n"
     ]
    }
   ],
   "source": [
    "# Multiplication of Tensors (element-wise)\n",
    "print(f\"Tensors elementwise multiplication: tensor_1 * tensor_2 = \\n{tensor_1 * tensor_2}\")"
   ]
  },
  {
   "cell_type": "code",
   "execution_count": 69,
   "id": "b7028a5f-9a4b-426b-941d-7021efe6b36d",
   "metadata": {},
   "outputs": [
    {
     "name": "stdout",
     "output_type": "stream",
     "text": [
      "Division of Tensors: tensor_1 / tensor_2 = \n",
      "tensor([[[0.0400, 1.0000],\n",
      "         [0.0484, 0.3077]],\n",
      "\n",
      "        [[0.2083, 0.1429],\n",
      "         [1.7500, 8.0000]]])\n"
     ]
    }
   ],
   "source": [
    "# Division of Tensors (element-wise)\n",
    "print(f\"Division of Tensors: tensor_1 / tensor_2 = \\n{tensor_1 / tensor_2}\")"
   ]
  },
  {
   "cell_type": "code",
   "execution_count": null,
   "id": "1f1fd3e9-02c2-4b98-b724-c43181c9b835",
   "metadata": {},
   "outputs": [],
   "source": []
  },
  {
   "cell_type": "code",
   "execution_count": null,
   "id": "d1281b08",
   "metadata": {},
   "outputs": [],
   "source": []
  }
 ],
 "metadata": {
  "kernelspec": {
   "display_name": "Python 3 (ipykernel)",
   "language": "python",
   "name": "python3"
  },
  "language_info": {
   "codemirror_mode": {
    "name": "ipython",
    "version": 3
   },
   "file_extension": ".py",
   "mimetype": "text/x-python",
   "name": "python",
   "nbconvert_exporter": "python",
   "pygments_lexer": "ipython3",
   "version": "3.10.7"
  }
 },
 "nbformat": 4,
 "nbformat_minor": 5
}
