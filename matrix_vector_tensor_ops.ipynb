{
 "cells": [
  {
   "cell_type": "markdown",
   "id": "3cb26ff3-7b0f-46df-b387-83344afb3132",
   "metadata": {},
   "source": [
    "# Special Vector/Matrix/Tensor Operations, Attributes and Built-in Methods"
   ]
  },
  {
   "cell_type": "code",
   "execution_count": 1,
   "id": "a87a540e-fd96-449a-97ca-f26147cca716",
   "metadata": {},
   "outputs": [],
   "source": [
    "import numpy as np\n",
    "import scipy\n",
    "import sympy\n",
    "import tensorflow as tf\n",
    "import torch\n",
    "import random\n",
    "\n",
    "from scipy import linalg\n",
    "from sympy.vector import CoordSys3D\n",
    "from sympy.vector import Vector\n",
    "from sympy.interactive.printing import init_printing\n",
    "from sympy.matrices import Matrix, eye, zeros, ones, diag, GramSchmidt\n",
    "from sympy import Array"
   ]
  },
  {
   "cell_type": "markdown",
   "id": "fd337796-b506-45c3-b2b3-5a83571eb467",
   "metadata": {},
   "source": [
    "# Vector Operations"
   ]
  },
  {
   "cell_type": "markdown",
   "id": "13c47cdf-917e-4d0f-b6b3-2e3d293e1877",
   "metadata": {},
   "source": [
    "## Numpy"
   ]
  },
  {
   "cell_type": "code",
   "execution_count": 2,
   "id": "cb299aa1-75c6-462c-b6d0-205f82f59056",
   "metadata": {},
   "outputs": [],
   "source": [
    "v1 = np.array([5, 4, 2, 2])\n",
    "v2 = np.array([1, 1, 3, 3])\n",
    "v3 = np.array([[np.random.randint(0, 100) for _ in range(3)]]) # vertical vector\n",
    "v4 = np.array([[np.random.randint(-50, 0) for _ in range(3)]]) # vertical vector"
   ]
  },
  {
   "cell_type": "code",
   "execution_count": 3,
   "id": "13de84af-e2a2-4a28-86e8-736b0a3636cf",
   "metadata": {},
   "outputs": [
    {
     "name": "stdout",
     "output_type": "stream",
     "text": [
      "Dot product v1 and v2 = 21\n"
     ]
    }
   ],
   "source": [
    "# Dot Product of vectors\n",
    "print(f\"Dot product v1 and v2 = {v1.dot(v2)}\")"
   ]
  },
  {
   "cell_type": "code",
   "execution_count": 4,
   "id": "e0837dd0-ee1e-45ec-b04e-e37d4056c994",
   "metadata": {},
   "outputs": [
    {
     "name": "stdout",
     "output_type": "stream",
     "text": [
      "Cross Product v3-v4: [[   0 -424  424]]\n"
     ]
    }
   ],
   "source": [
    "#Cross Product\n",
    "print(f\"Cross Product v3-v4: {np.cross(v3, v4)}\")"
   ]
  },
  {
   "cell_type": "code",
   "execution_count": 5,
   "id": "c301f6ef-f01c-48f9-bd50-d429a2169cec",
   "metadata": {},
   "outputs": [
    {
     "name": "stdout",
     "output_type": "stream",
     "text": [
      "Magnitude of the vector v4: 24.041630560342615\n"
     ]
    }
   ],
   "source": [
    "#Magnitude/Length of the vector\n",
    "print(f\"Magnitude of the vector v4: {np.linalg.norm(v4)}\")"
   ]
  },
  {
   "cell_type": "code",
   "execution_count": null,
   "id": "f32d6bb0-6157-4d12-9252-8347853ea953",
   "metadata": {},
   "outputs": [],
   "source": []
  },
  {
   "cell_type": "markdown",
   "id": "a9256d63-943d-44b3-8e5f-0de6766f8ae4",
   "metadata": {},
   "source": [
    "## Sympy"
   ]
  },
  {
   "cell_type": "code",
   "execution_count": 6,
   "id": "ab1f6806-59b5-43f9-bfe7-ecc64a43ed5d",
   "metadata": {},
   "outputs": [],
   "source": [
    "N = CoordSys3D('N')"
   ]
  },
  {
   "cell_type": "code",
   "execution_count": 7,
   "id": "3855d42a-d1af-46cb-922a-58ea90609c9d",
   "metadata": {},
   "outputs": [],
   "source": [
    "# Define a vector with basevectors\n",
    "v1 = 2 * N.i + 5 * N.j\n",
    "v2 = -3 * N.i - 2 * N.j\n",
    "\n",
    "w1 = 4 * N.i + 2 * N.j - 3 * N.k\n",
    "w2 = -5 * N.i - 2 * N.j + 9 * N.k"
   ]
  },
  {
   "cell_type": "code",
   "execution_count": 8,
   "id": "f9395c26-8c49-4f40-a870-136209ba2d46",
   "metadata": {},
   "outputs": [
    {
     "name": "stdout",
     "output_type": "stream",
     "text": [
      "Dot Product v1 and v2: -16\n"
     ]
    }
   ],
   "source": [
    "# Dot Product of vectors\n",
    "print(f\"Dot Product v1 and v2: {v1.dot(v2)}\")"
   ]
  },
  {
   "cell_type": "code",
   "execution_count": 9,
   "id": "64c62e81-d2c7-490c-9ada-bfd7b87bab45",
   "metadata": {},
   "outputs": [
    {
     "name": "stdout",
     "output_type": "stream",
     "text": [
      "Cross Product of w1 and w2: 12*N.i + (-21)*N.j + 2*N.k\n"
     ]
    }
   ],
   "source": [
    "# Cross Product of vectors\n",
    "print(f\"Cross Product of w1 and w2: {w1.cross(w2)}\")"
   ]
  },
  {
   "cell_type": "code",
   "execution_count": 10,
   "id": "6994ab24-4fdd-441c-a21d-500b96efb0a1",
   "metadata": {},
   "outputs": [
    {
     "name": "stdout",
     "output_type": "stream",
     "text": [
      "Magnitude/Length of a vector: sqrt(29)\n",
      "Normalization: (2*sqrt(29)/29)*N.i + (5*sqrt(29)/29)*N.j\n"
     ]
    }
   ],
   "source": [
    "# Magnitude and normalization to have a 1 magnitude\n",
    "print(f\"Magnitude/Length of a vector: {v1.magnitude()}\")\n",
    "print(f\"Normalization: {v1.normalize()}\")"
   ]
  },
  {
   "cell_type": "code",
   "execution_count": null,
   "id": "1c8c5304-74cb-4b98-a535-98f2a82b76b9",
   "metadata": {},
   "outputs": [],
   "source": []
  },
  {
   "cell_type": "markdown",
   "id": "691d204b-5d1c-4f39-900d-3dda67e7342b",
   "metadata": {},
   "source": [
    "# Matrix Operations"
   ]
  },
  {
   "cell_type": "markdown",
   "id": "1b384b52-abb3-46d8-bcfb-630cc5752c15",
   "metadata": {},
   "source": [
    "## Numpy"
   ]
  },
  {
   "cell_type": "code",
   "execution_count": 11,
   "id": "a67c88f0-f48c-4a13-9979-7991d92ab6ab",
   "metadata": {},
   "outputs": [],
   "source": [
    "A_array = np.random.randint(5, 30, size=(3, 3))\n",
    "A_matrix = np.matrix([[2, 5, 6], [5, 7, 8], [12, 15, 22]], dtype=\"int\")\n",
    "B = np.random.randint(5, 30, size=(2, 3))\n",
    "C = np.random.randint(5, 30, size=(2, 3))\n",
    "D = np.random.randint(5, 30, size=(3, 2))"
   ]
  },
  {
   "cell_type": "code",
   "execution_count": 12,
   "id": "257f4d73-f481-4c2b-8df9-cddc546e6326",
   "metadata": {},
   "outputs": [
    {
     "name": "stdout",
     "output_type": "stream",
     "text": [
      "Matrix multiplication element-wise at same shape matrices: B * C = \n",
      "[[280 180 104]\n",
      " [120  66 442]]\n"
     ]
    }
   ],
   "source": [
    "# Matrix multiplication element-wise at same shape\n",
    "print(f\"Matrix multiplication element-wise at same shape matrices: B * C = \\n{B * C}\")"
   ]
  },
  {
   "cell_type": "code",
   "execution_count": 13,
   "id": "40fe5d92-e981-4153-9c3f-99fbc6daef42",
   "metadata": {},
   "outputs": [
    {
     "data": {
      "text/plain": [
       "array([[658, 985],\n",
       "       [588, 713]])"
      ]
     },
     "execution_count": 13,
     "metadata": {},
     "output_type": "execute_result"
    }
   ],
   "source": [
    "# Matrix multiplication\n",
    "C @ D\n",
    "#or\n",
    "np.matmul(C, D)"
   ]
  },
  {
   "cell_type": "code",
   "execution_count": 14,
   "id": "07c720c4-d1d5-4e65-904e-324418da71f7",
   "metadata": {},
   "outputs": [
    {
     "data": {
      "text/plain": [
       "array([[10,  8],\n",
       "       [20,  6],\n",
       "       [13, 17]])"
      ]
     },
     "execution_count": 14,
     "metadata": {},
     "output_type": "execute_result"
    }
   ],
   "source": [
    "# Transpose of a Matrix\n",
    "C.T"
   ]
  },
  {
   "cell_type": "code",
   "execution_count": 15,
   "id": "efde440a-ff44-415f-8238-747e2ce2ef74",
   "metadata": {},
   "outputs": [
    {
     "name": "stdout",
     "output_type": "stream",
     "text": [
      "Numpy Array doesn't have inverse attribute\n",
      "Trying Linalg\n",
      "\n",
      "[[-0.60714286  0.35714286  0.03571429]\n",
      " [ 0.25        0.5        -0.25      ]\n",
      " [ 0.16071429 -0.53571429  0.19642857]]\n"
     ]
    }
   ],
   "source": [
    "# Inverse of a Matrix\n",
    "try:\n",
    "    A_array.I\n",
    "except:\n",
    "    print(\"Numpy Array doesn't have inverse attribute\")\n",
    "    print(\"Trying Linalg\\n\")\n",
    "    print(linalg.inv(A_matrix))"
   ]
  },
  {
   "cell_type": "code",
   "execution_count": 16,
   "id": "2ca8ab6d-402f-4353-8540-4a64afc112ab",
   "metadata": {},
   "outputs": [
    {
     "data": {
      "text/plain": [
       "matrix([[-0.60714286,  0.35714286,  0.03571429],\n",
       "        [ 0.25      ,  0.5       , -0.25      ],\n",
       "        [ 0.16071429, -0.53571429,  0.19642857]])"
      ]
     },
     "execution_count": 16,
     "metadata": {},
     "output_type": "execute_result"
    }
   ],
   "source": [
    "# Inverse of a Matrix (method 2)\n",
    "A_matrix.I"
   ]
  },
  {
   "cell_type": "code",
   "execution_count": 17,
   "id": "35ab5a1b-a8a8-4576-a333-057e4668c959",
   "metadata": {},
   "outputs": [
    {
     "name": "stdout",
     "output_type": "stream",
     "text": [
      "Calculating Determinant of matrix A: -56.0\n"
     ]
    }
   ],
   "source": [
    "# Calculate Determinant of a Matrix \n",
    "print(f\"Calculating Determinant of matrix A: {linalg.det(A_matrix)}\")"
   ]
  },
  {
   "cell_type": "code",
   "execution_count": 18,
   "id": "b373ba2a-3eb1-497b-b3e1-a88db3ef62c1",
   "metadata": {},
   "outputs": [],
   "source": [
    "# Eigenvalues and eigenvectors\n",
    "eigenvalues, eigenvectors = linalg.eig(A_matrix)"
   ]
  },
  {
   "cell_type": "code",
   "execution_count": 19,
   "id": "b05c182b-7bac-472d-8694-466af7df3757",
   "metadata": {},
   "outputs": [
    {
     "data": {
      "text/plain": [
       "array([31.10286906+0.j, -1.3942385 +0.j,  1.29136944+0.j])"
      ]
     },
     "execution_count": 19,
     "metadata": {},
     "output_type": "execute_result"
    }
   ],
   "source": [
    "eigenvalues"
   ]
  },
  {
   "cell_type": "code",
   "execution_count": 20,
   "id": "30b41302-cb4b-45f1-83c2-9023f86b9528",
   "metadata": {},
   "outputs": [
    {
     "data": {
      "text/plain": [
       "array([[-0.24653765, -0.91712674, -0.17621159],\n",
       "       [-0.35097351,  0.25182041, -0.74586549],\n",
       "       [-0.90334754,  0.30897414,  0.64236606]])"
      ]
     },
     "execution_count": 20,
     "metadata": {},
     "output_type": "execute_result"
    }
   ],
   "source": [
    "eigenvectors"
   ]
  },
  {
   "cell_type": "markdown",
   "id": "d93ef58d-7f6e-44c7-8dd8-0e62abe7ff10",
   "metadata": {},
   "source": [
    "### Useful built-in methods in Numpy"
   ]
  },
  {
   "cell_type": "code",
   "execution_count": 21,
   "id": "bbd7002b-0dc4-43c8-96bd-e8238c3b0489",
   "metadata": {},
   "outputs": [
    {
     "data": {
      "text/plain": [
       "array([[10, 20, 13],\n",
       "       [ 8,  6, 17]])"
      ]
     },
     "execution_count": 21,
     "metadata": {},
     "output_type": "execute_result"
    }
   ],
   "source": [
    "C"
   ]
  },
  {
   "cell_type": "code",
   "execution_count": 22,
   "id": "bd849d24-783e-4a39-b1bf-c878575053b2",
   "metadata": {},
   "outputs": [
    {
     "data": {
      "text/plain": [
       "1"
      ]
     },
     "execution_count": 22,
     "metadata": {},
     "output_type": "execute_result"
    }
   ],
   "source": [
    "# Returning max value index in a given axis\n",
    "C.argmax(axis=None) #axis=0 col-wise, axis=1 row-wise"
   ]
  },
  {
   "cell_type": "code",
   "execution_count": 23,
   "id": "4c072493-9dc8-4a65-8174-a88d1a947216",
   "metadata": {},
   "outputs": [
    {
     "data": {
      "text/plain": [
       "20"
      ]
     },
     "execution_count": 23,
     "metadata": {},
     "output_type": "execute_result"
    }
   ],
   "source": [
    "# Returning max value based on argmax index\n",
    "C.flatten()[C.argmax()]"
   ]
  },
  {
   "cell_type": "code",
   "execution_count": 24,
   "id": "547d0be6-ebef-469c-a688-4db8364404e4",
   "metadata": {},
   "outputs": [
    {
     "data": {
      "text/plain": [
       "array([4, 3, 0, 2, 5, 1], dtype=int64)"
      ]
     },
     "execution_count": 24,
     "metadata": {},
     "output_type": "execute_result"
    }
   ],
   "source": [
    "# Returns the indices that would sort this array\n",
    "C.argsort(axis=None) #axis=0 col-wise, axis=1 row-wise"
   ]
  },
  {
   "cell_type": "code",
   "execution_count": 25,
   "id": "ec52a5d5-83c7-4aad-89ef-dd66884ce90d",
   "metadata": {},
   "outputs": [
    {
     "data": {
      "text/plain": [
       "array([ 8, 20, 17])"
      ]
     },
     "execution_count": 25,
     "metadata": {},
     "output_type": "execute_result"
    }
   ],
   "source": [
    "# Return selected slices of this array along given axis\n",
    "np.choose([1, 0, 1], C)"
   ]
  },
  {
   "cell_type": "code",
   "execution_count": 26,
   "id": "8451ee08-aa53-4d9a-8504-dda113795fb6",
   "metadata": {},
   "outputs": [
    {
     "name": "stdout",
     "output_type": "stream",
     "text": [
      "10\n",
      "20\n",
      "13\n",
      "8\n",
      "6\n",
      "17\n"
     ]
    }
   ],
   "source": [
    "# Useful 1D iterator on flattened matrix\n",
    "for i in C.flat: \n",
    "    print(i)"
   ]
  },
  {
   "cell_type": "code",
   "execution_count": 27,
   "id": "7349eb4a-3410-4ee1-ab12-9e1fc24178fb",
   "metadata": {},
   "outputs": [
    {
     "data": {
      "text/plain": [
       "array([[22, 22, 22],\n",
       "       [22, 22, 22]])"
      ]
     },
     "execution_count": 27,
     "metadata": {},
     "output_type": "execute_result"
    }
   ],
   "source": [
    "# Return an array whose values are limited to given min-max\n",
    "C.clip(22, 30)"
   ]
  },
  {
   "cell_type": "code",
   "execution_count": 28,
   "id": "beaae241-0a2b-461c-a08b-1ee34bd196b5",
   "metadata": {},
   "outputs": [
    {
     "name": "stdout",
     "output_type": "stream",
     "text": [
      "C matrix max: 20\n",
      "C matrix mean: 12.333333333333334\n",
      "C matrix min: 6\n",
      "C matrix sum: 74\n",
      "C matrix std: 4.921607686744467\n"
     ]
    }
   ],
   "source": [
    "# Returning Max, Mean, Min, Sum \n",
    "print(f\"C matrix max: {C.max(axis=None)}\")\n",
    "print(f\"C matrix mean: {C.mean(axis=None)}\")\n",
    "print(f\"C matrix min: {C.min(axis=None)}\")\n",
    "print(f\"C matrix sum: {C.sum(axis=None)}\")\n",
    "print(f\"C matrix std: {C.std(axis=None)}\")"
   ]
  },
  {
   "cell_type": "code",
   "execution_count": 29,
   "id": "13736c10-abb5-4925-92be-6218296d1651",
   "metadata": {},
   "outputs": [
    {
     "data": {
      "text/plain": [
       "array([10, 30, 43, 51, 57, 74])"
      ]
     },
     "execution_count": 29,
     "metadata": {},
     "output_type": "execute_result"
    }
   ],
   "source": [
    "C.cumsum(axis=None) # cum sum along axis 1"
   ]
  },
  {
   "cell_type": "code",
   "execution_count": 30,
   "id": "33bfb0b1-8e89-47c0-b436-ac369586811e",
   "metadata": {},
   "outputs": [
    {
     "data": {
      "text/plain": [
       "(2, 3)"
      ]
     },
     "execution_count": 30,
     "metadata": {},
     "output_type": "execute_result"
    }
   ],
   "source": [
    "# Return shape of matrix\n",
    "C.shape"
   ]
  },
  {
   "cell_type": "code",
   "execution_count": 31,
   "id": "d776d5f8-9ce2-462b-99aa-f24b8ff9b391",
   "metadata": {},
   "outputs": [],
   "source": [
    "# Resize array in place\n",
    "C.resize(1, 6)"
   ]
  },
  {
   "cell_type": "code",
   "execution_count": 32,
   "id": "22a25721-0a97-4591-bb8f-c55ae7ed384c",
   "metadata": {},
   "outputs": [
    {
     "data": {
      "text/plain": [
       "[[10, 20, 13, 8, 6, 17]]"
      ]
     },
     "execution_count": 32,
     "metadata": {},
     "output_type": "execute_result"
    }
   ],
   "source": [
    "# Return the matrix as a (possibly nested) list\n",
    "C.tolist()"
   ]
  },
  {
   "cell_type": "code",
   "execution_count": 33,
   "id": "21aba835-047f-4a08-ad18-bff6085f19c8",
   "metadata": {},
   "outputs": [
    {
     "data": {
      "text/plain": [
       "matrix([[ 2,  7, 22]])"
      ]
     },
     "execution_count": 33,
     "metadata": {},
     "output_type": "execute_result"
    }
   ],
   "source": [
    "# Return diagonal of a matrix (easier to visualise at a square matrix)\n",
    "A_matrix.diagonal()"
   ]
  },
  {
   "cell_type": "code",
   "execution_count": null,
   "id": "a4622482-5cb7-464f-9997-f7a2983a26ab",
   "metadata": {},
   "outputs": [],
   "source": []
  },
  {
   "cell_type": "markdown",
   "id": "4e46ee31-fe85-47fe-94ec-67ec4572d003",
   "metadata": {},
   "source": [
    "## Sympy"
   ]
  },
  {
   "cell_type": "code",
   "execution_count": 34,
   "id": "e97bd83b-94ea-4889-b9c0-1418a4cff9fb",
   "metadata": {},
   "outputs": [],
   "source": [
    "# Define Matrices\n",
    "A = Matrix([[12, 25, 3], [24, 100, 1]])\n",
    "B =  Matrix(3, 3, np.random.randint(0, 15, 9))\n",
    "C = Matrix(4, 4, lambda i,j: 2 + (i-j))\n",
    "D = Matrix(3, 3, np.random.randint(15, 50, 9))"
   ]
  },
  {
   "cell_type": "code",
   "execution_count": 35,
   "id": "e7b4f308-6434-4dda-84c3-50572bfe91ce",
   "metadata": {},
   "outputs": [
    {
     "data": {
      "text/latex": [
       "$\\displaystyle \\left[\\begin{matrix}171 & 527 & 330\\\\607 & 1719 & 1075\\end{matrix}\\right]$"
      ],
      "text/plain": [
       "Matrix([\n",
       "[171,  527,  330],\n",
       "[607, 1719, 1075]])"
      ]
     },
     "execution_count": 35,
     "metadata": {},
     "output_type": "execute_result"
    }
   ],
   "source": [
    "# Matrix Multiplication (no element-wise at Sympy)\n",
    "A @ B\n",
    "# or A * B"
   ]
  },
  {
   "cell_type": "code",
   "execution_count": 36,
   "id": "4f8e0009-2ead-4a07-90b6-ab1c4c88ed8a",
   "metadata": {},
   "outputs": [
    {
     "data": {
      "text/latex": [
       "$\\displaystyle \\left[\\begin{matrix}12 & 24\\\\25 & 100\\\\3 & 1\\end{matrix}\\right]$"
      ],
      "text/plain": [
       "Matrix([\n",
       "[12,  24],\n",
       "[25, 100],\n",
       "[ 3,   1]])"
      ]
     },
     "execution_count": 36,
     "metadata": {},
     "output_type": "execute_result"
    }
   ],
   "source": [
    "# Take transpose of a matrix\n",
    "A.T"
   ]
  },
  {
   "cell_type": "code",
   "execution_count": 37,
   "id": "1ee78811-dc22-49bb-b9f0-30ada3c72856",
   "metadata": {},
   "outputs": [
    {
     "data": {
      "text/latex": [
       "$\\displaystyle 27211$"
      ],
      "text/plain": [
       "27211"
      ]
     },
     "execution_count": 37,
     "metadata": {},
     "output_type": "execute_result"
    }
   ],
   "source": [
    "# Compute determinant of a matrix\n",
    "D.det()"
   ]
  },
  {
   "cell_type": "code",
   "execution_count": 38,
   "id": "767f1a7e-efb2-4eb8-9ac2-902e92fc2e5a",
   "metadata": {},
   "outputs": [
    {
     "data": {
      "text/latex": [
       "$\\displaystyle \\left[\\begin{matrix}\\frac{986}{27211} & \\frac{881}{27211} & - \\frac{1364}{27211}\\\\- \\frac{1267}{27211} & \\frac{165}{27211} & \\frac{980}{27211}\\\\\\frac{356}{27211} & - \\frac{841}{27211} & \\frac{777}{27211}\\end{matrix}\\right]$"
      ],
      "text/plain": [
       "Matrix([\n",
       "[  986/27211,  881/27211, -1364/27211],\n",
       "[-1267/27211,  165/27211,   980/27211],\n",
       "[  356/27211, -841/27211,   777/27211]])"
      ]
     },
     "execution_count": 38,
     "metadata": {},
     "output_type": "execute_result"
    }
   ],
   "source": [
    "D.inv()"
   ]
  },
  {
   "cell_type": "code",
   "execution_count": 39,
   "id": "a4ab0bef-8986-4dec-8657-ae9f2ee90547",
   "metadata": {},
   "outputs": [
    {
     "data": {
      "text/plain": [
       "{4 - 2*I: 1, 4 + 2*I: 1, 0: 2}"
      ]
     },
     "execution_count": 39,
     "metadata": {},
     "output_type": "execute_result"
    }
   ],
   "source": [
    "# Eigenvalues of a matrix with algebraic-multiplicity\n",
    "C.eigenvals()"
   ]
  },
  {
   "cell_type": "code",
   "execution_count": 40,
   "id": "ab545795-7f7d-4a90-a86d-a60b006a3050",
   "metadata": {},
   "outputs": [
    {
     "data": {
      "text/plain": [
       "[(0,\n",
       "  2,\n",
       "  [Matrix([\n",
       "   [ 1],\n",
       "   [-2],\n",
       "   [ 1],\n",
       "   [ 0]]),\n",
       "   Matrix([\n",
       "   [ 2],\n",
       "   [-3],\n",
       "   [ 0],\n",
       "   [ 1]])]),\n",
       " (4 - 2*I,\n",
       "  1,\n",
       "  [Matrix([\n",
       "   [-2/13 - 3*I/13],\n",
       "   [ 3/13 - 2*I/13],\n",
       "   [   8/13 - I/13],\n",
       "   [             1]])]),\n",
       " (4 + 2*I,\n",
       "  1,\n",
       "  [Matrix([\n",
       "   [-2/13 + 3*I/13],\n",
       "   [ 3/13 + 2*I/13],\n",
       "   [   8/13 + I/13],\n",
       "   [             1]])])]"
      ]
     },
     "execution_count": 40,
     "metadata": {},
     "output_type": "execute_result"
    }
   ],
   "source": [
    "# Eigenvectors of a matrix\n",
    "C.eigenvects()"
   ]
  },
  {
   "cell_type": "markdown",
   "id": "b2f0066d-1340-4f0e-8e45-7d54accaaf71",
   "metadata": {},
   "source": [
    "### Basic Operations"
   ]
  },
  {
   "cell_type": "code",
   "execution_count": 41,
   "id": "8409e026-79c5-43e3-b258-472003ae6d7d",
   "metadata": {},
   "outputs": [
    {
     "data": {
      "text/latex": [
       "$\\displaystyle \\left[\\begin{matrix}35 & 17 & 40\\\\49 & 46 & 28\\\\37 & 42 & 47\\end{matrix}\\right]$"
      ],
      "text/plain": [
       "Matrix([\n",
       "[35, 17, 40],\n",
       "[49, 46, 28],\n",
       "[37, 42, 47]])"
      ]
     },
     "execution_count": 41,
     "metadata": {},
     "output_type": "execute_result"
    }
   ],
   "source": [
    "D"
   ]
  },
  {
   "cell_type": "code",
   "execution_count": 42,
   "id": "e0120697-1994-48bc-bf36-ef778c437830",
   "metadata": {},
   "outputs": [
    {
     "data": {
      "text/plain": [
       "(3, 3)"
      ]
     },
     "execution_count": 42,
     "metadata": {},
     "output_type": "execute_result"
    }
   ],
   "source": [
    "# Printing out matrix shape\n",
    "D.shape"
   ]
  },
  {
   "cell_type": "code",
   "execution_count": 43,
   "id": "1dd4cc8f-a214-4f84-88a2-3f358954b56b",
   "metadata": {},
   "outputs": [
    {
     "data": {
      "text/latex": [
       "$\\displaystyle \\left[\\begin{matrix}35\\\\49\\\\37\\end{matrix}\\right]$"
      ],
      "text/plain": [
       "Matrix([\n",
       "[35],\n",
       "[49],\n",
       "[37]])"
      ]
     },
     "execution_count": 43,
     "metadata": {},
     "output_type": "execute_result"
    }
   ],
   "source": [
    "# Accessing first column\n",
    "D.col(0)"
   ]
  },
  {
   "cell_type": "code",
   "execution_count": 44,
   "id": "d2c62e5d-42f9-4424-a67a-cfb02be88cad",
   "metadata": {},
   "outputs": [
    {
     "data": {
      "text/latex": [
       "$\\displaystyle \\left[\\begin{matrix}37 & 42 & 47\\end{matrix}\\right]$"
      ],
      "text/plain": [
       "Matrix([[37, 42, 47]])"
      ]
     },
     "execution_count": 44,
     "metadata": {},
     "output_type": "execute_result"
    }
   ],
   "source": [
    "# Accessing Last row\n",
    "D.row(-1)"
   ]
  },
  {
   "cell_type": "code",
   "execution_count": 45,
   "id": "4e223194-e72b-4517-9b4d-0fb1bbbc9508",
   "metadata": {},
   "outputs": [],
   "source": [
    "# Deleting row/column\n",
    "D.col_del(0)\n",
    "D.row_del(-1)"
   ]
  },
  {
   "cell_type": "code",
   "execution_count": 46,
   "id": "a53c07c7-3704-4c33-a724-37d003fac955",
   "metadata": {},
   "outputs": [
    {
     "data": {
      "text/latex": [
       "$\\displaystyle \\left[\\begin{matrix}17 & 40\\\\46 & 28\\end{matrix}\\right]$"
      ],
      "text/plain": [
       "Matrix([\n",
       "[17, 40],\n",
       "[46, 28]])"
      ]
     },
     "execution_count": 46,
     "metadata": {},
     "output_type": "execute_result"
    }
   ],
   "source": [
    "D"
   ]
  },
  {
   "cell_type": "code",
   "execution_count": null,
   "id": "f0fbdca7-557f-4b0b-82b2-60240d478f70",
   "metadata": {},
   "outputs": [],
   "source": []
  },
  {
   "cell_type": "markdown",
   "id": "9129959c-3ae2-410b-9d3e-5708443e7941",
   "metadata": {},
   "source": [
    "# Special matrices"
   ]
  },
  {
   "cell_type": "code",
   "execution_count": 47,
   "id": "3c03b6cd-6791-4660-b792-7916fb835356",
   "metadata": {},
   "outputs": [],
   "source": [
    "#quadratic, identity, diagonal"
   ]
  },
  {
   "cell_type": "markdown",
   "id": "a5867286-8d34-4291-894c-b235dc37ccca",
   "metadata": {},
   "source": [
    "### Square Matrix"
   ]
  },
  {
   "cell_type": "code",
   "execution_count": 48,
   "id": "d5989e0d-fad6-4bd0-be99-fcd730936229",
   "metadata": {},
   "outputs": [
    {
     "data": {
      "text/plain": [
       "array([[469, 300, 316],\n",
       "       [394, 414, 259],\n",
       "       [332, 467, 319]])"
      ]
     },
     "execution_count": 48,
     "metadata": {},
     "output_type": "execute_result"
    }
   ],
   "source": [
    "np.random.randint(200, 500, size=(3, 3))"
   ]
  },
  {
   "cell_type": "code",
   "execution_count": 49,
   "id": "d69e17f7-6463-4911-8d4b-bccf09fcec00",
   "metadata": {},
   "outputs": [
    {
     "data": {
      "text/latex": [
       "$\\displaystyle \\left[\\begin{matrix}27 & 15 & 28\\\\21 & 27 & 39\\\\15 & 27 & 43\\end{matrix}\\right]$"
      ],
      "text/plain": [
       "Matrix([\n",
       "[27, 15, 28],\n",
       "[21, 27, 39],\n",
       "[15, 27, 43]])"
      ]
     },
     "execution_count": 49,
     "metadata": {},
     "output_type": "execute_result"
    }
   ],
   "source": [
    "Matrix(3, 3, np.random.randint(15, 50, 9))"
   ]
  },
  {
   "cell_type": "markdown",
   "id": "51009733-c61f-4d81-8a80-60640fa659a0",
   "metadata": {},
   "source": [
    "### Diagonal Matrix"
   ]
  },
  {
   "cell_type": "code",
   "execution_count": 50,
   "id": "03224f83-5c7d-4e5a-8c3a-637f66a8a82e",
   "metadata": {},
   "outputs": [
    {
     "data": {
      "text/plain": [
       "array([[49,  0,  0,  0,  0,  0,  0,  0,  0,  0],\n",
       "       [ 0, 25,  0,  0,  0,  0,  0,  0,  0,  0],\n",
       "       [ 0,  0, 16,  0,  0,  0,  0,  0,  0,  0],\n",
       "       [ 0,  0,  0, 38,  0,  0,  0,  0,  0,  0],\n",
       "       [ 0,  0,  0,  0,  7,  0,  0,  0,  0,  0],\n",
       "       [ 0,  0,  0,  0,  0, 24,  0,  0,  0,  0],\n",
       "       [ 0,  0,  0,  0,  0,  0, 15,  0,  0,  0],\n",
       "       [ 0,  0,  0,  0,  0,  0,  0, 47,  0,  0],\n",
       "       [ 0,  0,  0,  0,  0,  0,  0,  0,  6,  0],\n",
       "       [ 0,  0,  0,  0,  0,  0,  0,  0,  0, 41]])"
      ]
     },
     "execution_count": 50,
     "metadata": {},
     "output_type": "execute_result"
    }
   ],
   "source": [
    "np.diag(random.sample(range(1, 50), 10))"
   ]
  },
  {
   "cell_type": "code",
   "execution_count": 51,
   "id": "c46d7737-933a-48ef-b471-f4ef75437209",
   "metadata": {},
   "outputs": [
    {
     "data": {
      "text/latex": [
       "$\\displaystyle \\left[\\begin{matrix}1 & 0 & 0 & 0 & 0\\\\0 & 2 & 0 & 0 & 0\\\\0 & 0 & 3 & 0 & 0\\\\0 & 0 & 0 & 4 & 0\\\\0 & 0 & 0 & 0 & 5\\end{matrix}\\right]$"
      ],
      "text/plain": [
       "Matrix([\n",
       "[1, 0, 0, 0, 0],\n",
       "[0, 2, 0, 0, 0],\n",
       "[0, 0, 3, 0, 0],\n",
       "[0, 0, 0, 4, 0],\n",
       "[0, 0, 0, 0, 5]])"
      ]
     },
     "execution_count": 51,
     "metadata": {},
     "output_type": "execute_result"
    }
   ],
   "source": [
    "sympy.diag(1, 2, 3, 4, 5)"
   ]
  },
  {
   "cell_type": "markdown",
   "id": "efa123c6-9b90-4269-ac16-c312c4b4e0c8",
   "metadata": {},
   "source": [
    "### Matrix with zeros"
   ]
  },
  {
   "cell_type": "code",
   "execution_count": 52,
   "id": "57d5ec0f-ff70-4f3e-8d30-f939260e7c9c",
   "metadata": {},
   "outputs": [
    {
     "data": {
      "text/plain": [
       "array([[0., 0., 0.],\n",
       "       [0., 0., 0.]])"
      ]
     },
     "execution_count": 52,
     "metadata": {},
     "output_type": "execute_result"
    }
   ],
   "source": [
    "np.zeros((2, 3))"
   ]
  },
  {
   "cell_type": "code",
   "execution_count": 53,
   "id": "bad165cb-d2a2-4a9c-bd42-0d14fa5dd058",
   "metadata": {},
   "outputs": [
    {
     "data": {
      "text/latex": [
       "$\\displaystyle \\left[\\begin{matrix}0 & 0 & 0\\\\0 & 0 & 0\\end{matrix}\\right]$"
      ],
      "text/plain": [
       "Matrix([\n",
       "[0, 0, 0],\n",
       "[0, 0, 0]])"
      ]
     },
     "execution_count": 53,
     "metadata": {},
     "output_type": "execute_result"
    }
   ],
   "source": [
    "sympy.zeros(2, 3)"
   ]
  },
  {
   "cell_type": "markdown",
   "id": "1e9e5278-c9bf-4fc0-a324-9882f34c3d72",
   "metadata": {},
   "source": [
    "### Matrix with ones"
   ]
  },
  {
   "cell_type": "code",
   "execution_count": 54,
   "id": "771c4412-c1f7-42a1-b581-89ecd1cdfc89",
   "metadata": {},
   "outputs": [
    {
     "data": {
      "text/plain": [
       "array([[1., 1., 1.],\n",
       "       [1., 1., 1.],\n",
       "       [1., 1., 1.],\n",
       "       [1., 1., 1.],\n",
       "       [1., 1., 1.]])"
      ]
     },
     "execution_count": 54,
     "metadata": {},
     "output_type": "execute_result"
    }
   ],
   "source": [
    "# NP ones\n",
    "np.ones([5, 3])"
   ]
  },
  {
   "cell_type": "code",
   "execution_count": 55,
   "id": "611e8b77-b6c6-48c7-b03c-0d80e1a58393",
   "metadata": {},
   "outputs": [
    {
     "data": {
      "text/latex": [
       "$\\displaystyle \\left[\\begin{matrix}1 & 1 & 1\\\\1 & 1 & 1\\\\1 & 1 & 1\\\\1 & 1 & 1\\\\1 & 1 & 1\\end{matrix}\\right]$"
      ],
      "text/plain": [
       "Matrix([\n",
       "[1, 1, 1],\n",
       "[1, 1, 1],\n",
       "[1, 1, 1],\n",
       "[1, 1, 1],\n",
       "[1, 1, 1]])"
      ]
     },
     "execution_count": 55,
     "metadata": {},
     "output_type": "execute_result"
    }
   ],
   "source": [
    "sympy.ones(5, 3)"
   ]
  },
  {
   "cell_type": "markdown",
   "id": "f8f0ad59-5deb-431a-84a1-b6ffa7dce111",
   "metadata": {},
   "source": [
    "### Identity Matrix"
   ]
  },
  {
   "cell_type": "code",
   "execution_count": 56,
   "id": "1a61e01f-e5bc-4ac2-a942-da597de5fb47",
   "metadata": {},
   "outputs": [
    {
     "data": {
      "text/plain": [
       "array([[1., 0., 0., 0., 0., 0., 0., 0.],\n",
       "       [0., 1., 0., 0., 0., 0., 0., 0.],\n",
       "       [0., 0., 1., 0., 0., 0., 0., 0.],\n",
       "       [0., 0., 0., 1., 0., 0., 0., 0.],\n",
       "       [0., 0., 0., 0., 1., 0., 0., 0.],\n",
       "       [0., 0., 0., 0., 0., 1., 0., 0.],\n",
       "       [0., 0., 0., 0., 0., 0., 1., 0.],\n",
       "       [0., 0., 0., 0., 0., 0., 0., 1.]])"
      ]
     },
     "execution_count": 56,
     "metadata": {},
     "output_type": "execute_result"
    }
   ],
   "source": [
    "np.identity(8)"
   ]
  },
  {
   "cell_type": "code",
   "execution_count": 57,
   "id": "f107389b-912c-459a-b3e7-5f5ed28051a6",
   "metadata": {},
   "outputs": [
    {
     "data": {
      "text/latex": [
       "$\\displaystyle \\left[\\begin{matrix}1 & 0 & 0 & 0\\\\0 & 1 & 0 & 0\\\\0 & 0 & 1 & 0\\\\0 & 0 & 0 & 1\\end{matrix}\\right]$"
      ],
      "text/plain": [
       "Matrix([\n",
       "[1, 0, 0, 0],\n",
       "[0, 1, 0, 0],\n",
       "[0, 0, 1, 0],\n",
       "[0, 0, 0, 1]])"
      ]
     },
     "execution_count": 57,
     "metadata": {},
     "output_type": "execute_result"
    }
   ],
   "source": [
    "sympy.eye(4)"
   ]
  },
  {
   "cell_type": "code",
   "execution_count": null,
   "id": "b90b4a99-a825-4e75-a363-1379e339160d",
   "metadata": {},
   "outputs": [],
   "source": []
  },
  {
   "cell_type": "markdown",
   "id": "f1c4b50b-f953-498c-aa55-a288fff90daf",
   "metadata": {},
   "source": [
    "# Tensor Operations"
   ]
  },
  {
   "cell_type": "markdown",
   "id": "2ce0fb01-24e1-4aa7-954a-a3d1e7831c21",
   "metadata": {},
   "source": [
    "## TensorFlow"
   ]
  },
  {
   "cell_type": "code",
   "execution_count": 58,
   "id": "a18f88a5-b8bd-4f32-b980-f50000560b37",
   "metadata": {},
   "outputs": [],
   "source": [
    "# Define Tensor\n",
    "tensor_1 = tf.constant([\n",
    "  [[0, 1, 2],\n",
    "   [5, 6, 7]],\n",
    "    \n",
    "  [[10, 11, 12],\n",
    "   [15, 16, 17]],\n",
    "    \n",
    "  [[20, 21, 22],\n",
    "   [25, 26, 27]],])\n",
    "\n",
    "tensor_2 = tf.random.uniform([3, 2, 3])"
   ]
  },
  {
   "cell_type": "code",
   "execution_count": 59,
   "id": "250b33e0-b0e7-4b7b-a6f1-7ac6d16cf45c",
   "metadata": {},
   "outputs": [
    {
     "data": {
      "text/plain": [
       "<tf.Tensor: shape=(3, 2, 3), dtype=float32, numpy=\n",
       "array([[[0.682284  , 0.7704406 , 0.19622302],\n",
       "        [0.4272715 , 0.5231029 , 0.6760553 ]],\n",
       "\n",
       "       [[0.954105  , 0.37840784, 0.4245646 ],\n",
       "        [0.14755952, 0.00603712, 0.17037284]],\n",
       "\n",
       "       [[0.74958575, 0.43807006, 0.21536422],\n",
       "        [0.8623172 , 0.31120074, 0.9008869 ]]], dtype=float32)>"
      ]
     },
     "execution_count": 59,
     "metadata": {},
     "output_type": "execute_result"
    }
   ],
   "source": [
    "tensor_2"
   ]
  },
  {
   "cell_type": "code",
   "execution_count": 60,
   "id": "a52f3857-dd74-4c43-aa13-4fa2c403297b",
   "metadata": {},
   "outputs": [
    {
     "name": "stdout",
     "output_type": "stream",
     "text": [
      "Shape: (3, 2, 3)\n"
     ]
    }
   ],
   "source": [
    "print(\"Shape:\", tensor_2.shape)"
   ]
  },
  {
   "cell_type": "code",
   "execution_count": 61,
   "id": "02dec084-0abf-49a3-9268-0e13da6f0dd7",
   "metadata": {},
   "outputs": [
    {
     "name": "stdout",
     "output_type": "stream",
     "text": [
      "Transpose:\n",
      " tf.Tensor(\n",
      "[[[0.682284   0.954105   0.74958575]\n",
      "  [0.4272715  0.14755952 0.8623172 ]]\n",
      "\n",
      " [[0.7704406  0.37840784 0.43807006]\n",
      "  [0.5231029  0.00603712 0.31120074]]\n",
      "\n",
      " [[0.19622302 0.4245646  0.21536422]\n",
      "  [0.6760553  0.17037284 0.9008869 ]]], shape=(3, 2, 3), dtype=float32)\n"
     ]
    }
   ],
   "source": [
    "# Transpose of a Tensor\n",
    "print(\"Transpose:\\n\", tf.transpose(tensor_2))"
   ]
  },
  {
   "cell_type": "code",
   "execution_count": 62,
   "id": "96ff8d20-241e-4ace-9d20-b4fc2ecee821",
   "metadata": {},
   "outputs": [
    {
     "name": "stdout",
     "output_type": "stream",
     "text": [
      "Sum: tf.Tensor(8.833849, shape=(), dtype=float32)\n",
      "\n",
      "Min: tf.Tensor(\n",
      "[[[0.4272715  0.5231029  0.19622302]]\n",
      "\n",
      " [[0.14755952 0.00603712 0.17037284]]\n",
      "\n",
      " [[0.74958575 0.31120074 0.21536422]]], shape=(3, 1, 3), dtype=float32)\n",
      "\n",
      "Max: tf.Tensor(\n",
      "[[0.954105  0.7704406 0.4245646]\n",
      " [0.8623172 0.5231029 0.9008869]], shape=(2, 3), dtype=float32)\n",
      "\n",
      "Mean: tf.Tensor(0.4907694, shape=(), dtype=float32)\n"
     ]
    }
   ],
   "source": [
    "# Sum, Min, Max, Mean\n",
    "print(\"Sum:\", tf.reduce_sum(tensor_2, axis=None, keepdims=False))\n",
    "print()\n",
    "print(\"Min:\", tf.reduce_min(tensor_2, axis=1, keepdims=True))\n",
    "print()\n",
    "print(\"Max:\", tf.reduce_max(tensor_2, axis=0, keepdims=False))\n",
    "print()\n",
    "print(\"Mean:\", tf.reduce_mean(tensor_2))"
   ]
  },
  {
   "cell_type": "markdown",
   "id": "8e3f643c-bce9-4ab6-aa4b-a61642542248",
   "metadata": {},
   "source": [
    "## PyTorch"
   ]
  },
  {
   "cell_type": "code",
   "execution_count": 63,
   "id": "df245599-47eb-45ce-bf1c-e11934f57e69",
   "metadata": {},
   "outputs": [],
   "source": [
    "tensor_1 = torch.tensor([[[1, 2], [3, 4]], [[5, 6], [7, 8]]])\n",
    "tensor_2 = torch.tensor([[[25, 2], [62, 13]], [[24, 42], [4, 1]]])\n",
    "tensor_random = torch.rand([2, 5, 6])"
   ]
  },
  {
   "cell_type": "code",
   "execution_count": 64,
   "id": "d19580ce-f764-4ccc-bc38-dec0ddc4f56a",
   "metadata": {},
   "outputs": [
    {
     "data": {
      "text/plain": [
       "tensor([[[1, 2],\n",
       "         [3, 4]],\n",
       "\n",
       "        [[5, 6],\n",
       "         [7, 8]]])"
      ]
     },
     "execution_count": 64,
     "metadata": {},
     "output_type": "execute_result"
    }
   ],
   "source": [
    "tensor_1"
   ]
  },
  {
   "cell_type": "code",
   "execution_count": 65,
   "id": "3b39ce7f-520d-4da7-81fb-77cec5db8383",
   "metadata": {},
   "outputs": [
    {
     "data": {
      "text/plain": [
       "torch.Size([2, 2, 2])"
      ]
     },
     "execution_count": 65,
     "metadata": {},
     "output_type": "execute_result"
    }
   ],
   "source": [
    "tensor_1.shape"
   ]
  },
  {
   "cell_type": "code",
   "execution_count": 66,
   "id": "0016348e-3bca-44e2-9288-891326390edc",
   "metadata": {},
   "outputs": [
    {
     "name": "stdout",
     "output_type": "stream",
     "text": [
      "Transpose:\n",
      " tf.Tensor(\n",
      "[[[25 24]\n",
      "  [62  4]]\n",
      "\n",
      " [[ 2 42]\n",
      "  [13  1]]], shape=(2, 2, 2), dtype=int64)\n"
     ]
    }
   ],
   "source": [
    "# Transpose of a Tensor\n",
    "print(\"Transpose:\\n\", tf.transpose(tensor_2))"
   ]
  },
  {
   "cell_type": "code",
   "execution_count": 67,
   "id": "e2815943-866c-40c5-8741-189d4d4475de",
   "metadata": {},
   "outputs": [
    {
     "data": {
      "text/plain": [
       "tensor([[[25,  2],\n",
       "         [62, 13]],\n",
       "\n",
       "        [[24, 42],\n",
       "         [ 4,  1]]])"
      ]
     },
     "execution_count": 67,
     "metadata": {},
     "output_type": "execute_result"
    }
   ],
   "source": [
    "tensor_2"
   ]
  },
  {
   "cell_type": "code",
   "execution_count": 68,
   "id": "a43c3dd2-5cc9-4f1e-b737-812fbdc70efb",
   "metadata": {},
   "outputs": [
    {
     "name": "stdout",
     "output_type": "stream",
     "text": [
      "Sum: tensor(173)\n",
      "\n",
      "Min: tensor([[[25,  2]],\n",
      "\n",
      "        [[ 4,  1]]])\n",
      "\n",
      "Max: torch.return_types.max(\n",
      "values=tensor([[25, 42],\n",
      "        [62, 13]]),\n",
      "indices=tensor([[0, 1],\n",
      "        [0, 0]]))\n",
      "\n",
      "Mean: tensor(21.6250)\n"
     ]
    }
   ],
   "source": [
    "# Sum, Min, Max, Mean\n",
    "print(\"Sum:\", torch.sum(tensor_2, axis=None, keepdims=False))\n",
    "print()\n",
    "print(\"Min:\", torch.min(tensor_2, axis=1, keepdims=True).values) #if only values\n",
    "print()\n",
    "print(\"Max:\", torch.max(tensor_2, axis=0, keepdims=False)) #return max values and indexes where the value(s) were found\n",
    "print()\n",
    "print(\"Mean:\", torch.mean(tensor_2, dtype=torch.float)) #cast to float before mean, since float result!"
   ]
  },
  {
   "cell_type": "code",
   "execution_count": 69,
   "id": "ac9185ab-1284-4ca8-ae97-6f7ea41ffa06",
   "metadata": {},
   "outputs": [
    {
     "data": {
      "text/plain": [
       "tensor([[[149,  28],\n",
       "         [323,  58]],\n",
       "\n",
       "        [[144, 216],\n",
       "         [200, 302]]])"
      ]
     },
     "execution_count": 69,
     "metadata": {},
     "output_type": "execute_result"
    }
   ],
   "source": [
    "# Matrix Multiplication\n",
    "tensor_1 @ tensor_2\n",
    "# OR\n",
    "torch.matmul(tensor_1, tensor_2)"
   ]
  },
  {
   "cell_type": "code",
   "execution_count": null,
   "id": "2bdbd151-dc08-418f-bcbd-b235d828c1b2",
   "metadata": {},
   "outputs": [],
   "source": []
  }
 ],
 "metadata": {
  "kernelspec": {
   "display_name": "Python 3 (ipykernel)",
   "language": "python",
   "name": "python3"
  },
  "language_info": {
   "codemirror_mode": {
    "name": "ipython",
    "version": 3
   },
   "file_extension": ".py",
   "mimetype": "text/x-python",
   "name": "python",
   "nbconvert_exporter": "python",
   "pygments_lexer": "ipython3",
   "version": "3.10.7"
  }
 },
 "nbformat": 4,
 "nbformat_minor": 5
}
