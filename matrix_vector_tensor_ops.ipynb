{
 "cells": [
  {
   "cell_type": "markdown",
   "id": "3cb26ff3-7b0f-46df-b387-83344afb3132",
   "metadata": {},
   "source": [
    "# Special Vector/Matrix/Tensor Operations, Attributes and Built-in Methods"
   ]
  },
  {
   "cell_type": "code",
   "execution_count": 1,
   "id": "a87a540e-fd96-449a-97ca-f26147cca716",
   "metadata": {},
   "outputs": [],
   "source": [
    "import numpy as np\n",
    "import scipy\n",
    "import sympy\n",
    "import tensorflow as tf\n",
    "import torch\n",
    "import random\n",
    "import jax\n",
    "import jax.numpy as jnp\n",
    "\n",
    "\n",
    "from jax import jit, grad, vmap, jacobian\n",
    "from scipy import linalg\n",
    "from sympy.vector import CoordSys3D\n",
    "from sympy.vector import Vector\n",
    "from sympy.interactive.printing import init_printing\n",
    "from sympy.matrices import Matrix, eye, zeros, ones, diag, GramSchmidt\n",
    "from sympy import Array"
   ]
  },
  {
   "cell_type": "markdown",
   "id": "fd337796-b506-45c3-b2b3-5a83571eb467",
   "metadata": {},
   "source": [
    "# Vector Operations"
   ]
  },
  {
   "cell_type": "markdown",
   "id": "13c47cdf-917e-4d0f-b6b3-2e3d293e1877",
   "metadata": {},
   "source": [
    "## Numpy"
   ]
  },
  {
   "cell_type": "code",
   "execution_count": 2,
   "id": "cb299aa1-75c6-462c-b6d0-205f82f59056",
   "metadata": {},
   "outputs": [],
   "source": [
    "v1 = np.array([5, 4, 2, 2])\n",
    "v2 = np.array([1, 1, 3, 3])\n",
    "v3 = np.array([[np.random.randint(0, 100) for _ in range(3)]]) \n",
    "v4 = np.array([[np.random.randint(-50, 0) for _ in range(3)]]) # vertical vector"
   ]
  },
  {
   "cell_type": "code",
   "execution_count": 3,
   "id": "13de84af-e2a2-4a28-86e8-736b0a3636cf",
   "metadata": {},
   "outputs": [
    {
     "name": "stdout",
     "output_type": "stream",
     "text": [
      "Dot product v1 and v2 = 21\n"
     ]
    }
   ],
   "source": [
    "# Dot Product of vectors\n",
    "print(f\"Dot product v1 and v2 = {v1.dot(v2)}\")"
   ]
  },
  {
   "cell_type": "code",
   "execution_count": 4,
   "id": "e0837dd0-ee1e-45ec-b04e-e37d4056c994",
   "metadata": {},
   "outputs": [
    {
     "name": "stdout",
     "output_type": "stream",
     "text": [
      "Cross Product v3-v4: [[-1520  1519   905]]\n"
     ]
    }
   ],
   "source": [
    "#Cross Product\n",
    "print(f\"Cross Product v3-v4: {np.cross(v3, v4)}\")"
   ]
  },
  {
   "cell_type": "code",
   "execution_count": 5,
   "id": "c301f6ef-f01c-48f9-bd50-d429a2169cec",
   "metadata": {},
   "outputs": [
    {
     "name": "stdout",
     "output_type": "stream",
     "text": [
      "Magnitude of the vector v4: 55.57877292636101\n"
     ]
    }
   ],
   "source": [
    "#Magnitude/Length of the vector\n",
    "print(f\"Magnitude of the vector v4: {np.linalg.norm(v4)}\")"
   ]
  },
  {
   "cell_type": "code",
   "execution_count": null,
   "id": "0c98ecd9-cef2-4454-bf07-e1b130a92a5f",
   "metadata": {},
   "outputs": [],
   "source": []
  },
  {
   "cell_type": "markdown",
   "id": "a9256d63-943d-44b3-8e5f-0de6766f8ae4",
   "metadata": {},
   "source": [
    "## Sympy"
   ]
  },
  {
   "cell_type": "code",
   "execution_count": 6,
   "id": "ab1f6806-59b5-43f9-bfe7-ecc64a43ed5d",
   "metadata": {},
   "outputs": [],
   "source": [
    "N = CoordSys3D('N')"
   ]
  },
  {
   "cell_type": "code",
   "execution_count": 7,
   "id": "3855d42a-d1af-46cb-922a-58ea90609c9d",
   "metadata": {},
   "outputs": [],
   "source": [
    "# Define a vector with basevectors\n",
    "v1 = 2 * N.i + 5 * N.j\n",
    "v2 = -3 * N.i - 2 * N.j\n",
    "\n",
    "w1 = 4 * N.i + 2 * N.j - 3 * N.k\n",
    "w2 = -5 * N.i - 2 * N.j + 9 * N.k"
   ]
  },
  {
   "cell_type": "code",
   "execution_count": 8,
   "id": "f9395c26-8c49-4f40-a870-136209ba2d46",
   "metadata": {},
   "outputs": [
    {
     "name": "stdout",
     "output_type": "stream",
     "text": [
      "Dot Product v1 and v2: -16\n"
     ]
    }
   ],
   "source": [
    "# Dot Product of vectors\n",
    "print(f\"Dot Product v1 and v2: {v1.dot(v2)}\")"
   ]
  },
  {
   "cell_type": "code",
   "execution_count": 9,
   "id": "64c62e81-d2c7-490c-9ada-bfd7b87bab45",
   "metadata": {},
   "outputs": [
    {
     "name": "stdout",
     "output_type": "stream",
     "text": [
      "Cross Product of w1 and w2: 12*N.i + (-21)*N.j + 2*N.k\n"
     ]
    }
   ],
   "source": [
    "# Cross Product of vectors\n",
    "print(f\"Cross Product of w1 and w2: {w1.cross(w2)}\")"
   ]
  },
  {
   "cell_type": "code",
   "execution_count": 10,
   "id": "6994ab24-4fdd-441c-a21d-500b96efb0a1",
   "metadata": {},
   "outputs": [
    {
     "name": "stdout",
     "output_type": "stream",
     "text": [
      "Magnitude/Length of a vector: sqrt(29)\n",
      "Normalization: (2*sqrt(29)/29)*N.i + (5*sqrt(29)/29)*N.j\n"
     ]
    }
   ],
   "source": [
    "# Magnitude and normalization to have a 1 magnitude\n",
    "print(f\"Magnitude/Length of a vector: {v1.magnitude()}\")\n",
    "print(f\"Normalization: {v1.normalize()}\")"
   ]
  },
  {
   "cell_type": "code",
   "execution_count": null,
   "id": "1c8c5304-74cb-4b98-a535-98f2a82b76b9",
   "metadata": {},
   "outputs": [],
   "source": []
  },
  {
   "cell_type": "markdown",
   "id": "ffa88885-d5ca-4297-a6e8-b6cd14ac6754",
   "metadata": {},
   "source": [
    "## JAX"
   ]
  },
  {
   "cell_type": "code",
   "execution_count": 11,
   "id": "69c618ec-c07c-4448-b9a5-0bf5dd4150d5",
   "metadata": {},
   "outputs": [],
   "source": [
    "key = jax.random.PRNGKey(42)"
   ]
  },
  {
   "cell_type": "code",
   "execution_count": 12,
   "id": "8c951b68-e4db-404b-82e7-fc5bae1d191a",
   "metadata": {},
   "outputs": [],
   "source": [
    "v1 = jnp.array([5, 4, 2, 2])\n",
    "v2 = jnp.array([1, 1, 3, 3])\n",
    "v3 = jax.random.randint(key, shape=(2, 3), minval=5, maxval=50)\n",
    "v4 = jax.random.randint(key, shape=(2, 3), minval=2, maxval=25)"
   ]
  },
  {
   "cell_type": "code",
   "execution_count": 13,
   "id": "d1ac17b5-96e2-4444-8778-d06500ee4fcf",
   "metadata": {},
   "outputs": [
    {
     "name": "stdout",
     "output_type": "stream",
     "text": [
      "Dot product v1 and v2 = 21\n"
     ]
    }
   ],
   "source": [
    "# Dot Product of vectors\n",
    "print(f\"Dot product v1 and v2 = {v1.dot(v2)}\")"
   ]
  },
  {
   "cell_type": "code",
   "execution_count": 14,
   "id": "b290b9d1-f302-4584-90e2-e253d6e324e7",
   "metadata": {},
   "outputs": [
    {
     "name": "stdout",
     "output_type": "stream",
     "text": [
      "Cross Product v3-v4: \n",
      "[[ -47 -189  234]\n",
      " [ 318 -479  379]]\n"
     ]
    }
   ],
   "source": [
    "#Cross Product\n",
    "print(f\"Cross Product v3-v4: \\n{jnp.cross(v3, v4)}\")"
   ]
  },
  {
   "cell_type": "code",
   "execution_count": 15,
   "id": "dcbd5c17-0237-4a80-994f-3225bf7fac96",
   "metadata": {},
   "outputs": [
    {
     "name": "stdout",
     "output_type": "stream",
     "text": [
      "Magnitude of the vector v1: 7.0\n"
     ]
    }
   ],
   "source": [
    "#Magnitude/Length of the vector\n",
    "print(f\"Magnitude of the vector v1: {jnp.linalg.norm(v1)}\")"
   ]
  },
  {
   "cell_type": "markdown",
   "id": "f9aaad8c-5948-4ad7-b723-e3ddef3f28ab",
   "metadata": {},
   "source": [
    "###  Just-in-time compilation"
   ]
  },
  {
   "cell_type": "code",
   "execution_count": 16,
   "id": "ec9014fc-e4de-4c40-ad63-7b3f1994f2cb",
   "metadata": {},
   "outputs": [],
   "source": [
    "def vector_refactor(x, alpha=1.25):  \n",
    "    return jnp.sqrt(2.5 * jnp.where(x < 5, x, x ** 2 - alpha))"
   ]
  },
  {
   "cell_type": "code",
   "execution_count": 17,
   "id": "0ed7043d-480d-4902-bcd4-6173e440cf98",
   "metadata": {},
   "outputs": [],
   "source": [
    "key = jax.random.PRNGKey(42)"
   ]
  },
  {
   "cell_type": "code",
   "execution_count": 18,
   "id": "3fc496a0-bc9f-465b-a572-b76426de6bda",
   "metadata": {},
   "outputs": [
    {
     "name": "stdout",
     "output_type": "stream",
     "text": [
      "6.08 ms ± 434 µs per loop (mean ± std. dev. of 7 runs, 100 loops each)\n"
     ]
    }
   ],
   "source": [
    "x = jax.random.normal(key, (1_000_000,))\n",
    "%timeit vector_refactor(x).block_until_ready()"
   ]
  },
  {
   "cell_type": "code",
   "execution_count": 19,
   "id": "59056bd7-7edb-4492-b4bc-bc162ec891da",
   "metadata": {},
   "outputs": [
    {
     "name": "stdout",
     "output_type": "stream",
     "text": [
      "6.13 ms ± 439 µs per loop (mean ± std. dev. of 7 runs, 100 loops each)\n"
     ]
    }
   ],
   "source": [
    "vector_refactor_jit = jit(vector_refactor)\n",
    "_ = vector_refactor(x)\n",
    "%timeit vector_refactor(x).block_until_ready()"
   ]
  },
  {
   "cell_type": "code",
   "execution_count": 20,
   "id": "7ffbc450-b078-4711-9c43-9db0e2cb20aa",
   "metadata": {},
   "outputs": [
    {
     "data": {
      "text/plain": [
       "{CpuDevice(id=0)}"
      ]
     },
     "execution_count": 20,
     "metadata": {},
     "output_type": "execute_result"
    }
   ],
   "source": [
    "x.devices()"
   ]
  },
  {
   "cell_type": "markdown",
   "id": "f1fd60c9-0520-42ee-8537-8929772ca776",
   "metadata": {},
   "source": [
    "### Taking derivatives"
   ]
  },
  {
   "cell_type": "code",
   "execution_count": 21,
   "id": "8202c9fa-6bcd-49b3-a116-4d71b0e81afa",
   "metadata": {},
   "outputs": [],
   "source": [
    "def sum_sigmoid_values(x):\n",
    "  return jnp.sum(jax.nn.sigmoid(x) ** 3)"
   ]
  },
  {
   "cell_type": "code",
   "execution_count": 22,
   "id": "4d0abccc-eaa0-438b-8cc6-c6c218c9f2dc",
   "metadata": {},
   "outputs": [],
   "source": [
    "x = jnp.array([1.0, 2.0, 3.0])"
   ]
  },
  {
   "cell_type": "code",
   "execution_count": 23,
   "id": "c4090a7b-03b4-445e-9d4a-1da6b5458241",
   "metadata": {},
   "outputs": [
    {
     "data": {
      "text/plain": [
       "Array(1.9384005, dtype=float32)"
      ]
     },
     "execution_count": 23,
     "metadata": {},
     "output_type": "execute_result"
    }
   ],
   "source": [
    "sum_sigmoid_values(x)"
   ]
  },
  {
   "cell_type": "code",
   "execution_count": 24,
   "id": "9502f1c2-f762-48af-9b3d-0fee82bb46d7",
   "metadata": {},
   "outputs": [
    {
     "name": "stdout",
     "output_type": "stream",
     "text": [
      "[0.31523573 0.24436323 0.12297955]\n"
     ]
    }
   ],
   "source": [
    "derivative_fn = grad(sum_sigmoid_values)\n",
    "print(derivative_fn(x))"
   ]
  },
  {
   "cell_type": "code",
   "execution_count": 25,
   "id": "0acdcc04-75e1-43d8-b20d-2b5fb638dfc4",
   "metadata": {},
   "outputs": [
    {
     "name": "stdout",
     "output_type": "stream",
     "text": [
      "[0.31523573 0.24436323 0.12297955]\n"
     ]
    }
   ],
   "source": [
    "jac_sum_sigmoid = jacobian(sum_sigmoid_values)\n",
    "print(jac_sum_sigmoid(x))"
   ]
  },
  {
   "cell_type": "code",
   "execution_count": 26,
   "id": "4c8b1310-6804-40e1-80ad-e4100fa0df0c",
   "metadata": {},
   "outputs": [
    {
     "name": "stdout",
     "output_type": "stream",
     "text": [
      "[0.31523573 0.24436323 0.12297955]\n"
     ]
    }
   ],
   "source": [
    "# JIT can be used as well\n",
    "jit_jac_sum_sigmoid = jit(jacobian(sum_sigmoid_values))\n",
    "print(jit_jac_sum_sigmoid(x))"
   ]
  },
  {
   "cell_type": "code",
   "execution_count": null,
   "id": "1fd25e90-53f2-42de-a5d6-9699fc75f6a6",
   "metadata": {},
   "outputs": [],
   "source": []
  },
  {
   "cell_type": "code",
   "execution_count": null,
   "id": "31d23498-6457-496d-8198-fa37cbf0fc35",
   "metadata": {},
   "outputs": [],
   "source": []
  },
  {
   "cell_type": "markdown",
   "id": "691d204b-5d1c-4f39-900d-3dda67e7342b",
   "metadata": {},
   "source": [
    "# Matrix Operations"
   ]
  },
  {
   "cell_type": "markdown",
   "id": "1b384b52-abb3-46d8-bcfb-630cc5752c15",
   "metadata": {},
   "source": [
    "## Numpy"
   ]
  },
  {
   "cell_type": "code",
   "execution_count": 27,
   "id": "a67c88f0-f48c-4a13-9979-7991d92ab6ab",
   "metadata": {},
   "outputs": [],
   "source": [
    "A_array = np.random.randint(5, 30, size=(3, 3))\n",
    "A_matrix = np.matrix([[2, 5, 6], [5, 7, 8], [12, 15, 22]], dtype=\"int\")\n",
    "B = np.random.randint(5, 30, size=(2, 3))\n",
    "C = np.random.randint(5, 30, size=(2, 3))\n",
    "D = np.random.randint(5, 30, size=(3, 2))"
   ]
  },
  {
   "cell_type": "code",
   "execution_count": 28,
   "id": "257f4d73-f481-4c2b-8df9-cddc546e6326",
   "metadata": {},
   "outputs": [
    {
     "name": "stdout",
     "output_type": "stream",
     "text": [
      "Matrix multiplication element-wise at same shape matrices: B * C = \n",
      "[[390 812 189]\n",
      " [513 120 224]]\n"
     ]
    }
   ],
   "source": [
    "# Matrix multiplication element-wise at same shape\n",
    "print(f\"Matrix multiplication element-wise at same shape matrices: B * C = \\n{B * C}\")"
   ]
  },
  {
   "cell_type": "code",
   "execution_count": 29,
   "id": "40fe5d92-e981-4153-9c3f-99fbc6daef42",
   "metadata": {},
   "outputs": [
    {
     "data": {
      "text/plain": [
       "array([[ 884, 1297],\n",
       "       [ 616,  933]])"
      ]
     },
     "execution_count": 29,
     "metadata": {},
     "output_type": "execute_result"
    }
   ],
   "source": [
    "# Matrix multiplication\n",
    "C @ D\n",
    "#or\n",
    "np.matmul(C, D)"
   ]
  },
  {
   "cell_type": "code",
   "execution_count": 30,
   "id": "07c720c4-d1d5-4e65-904e-324418da71f7",
   "metadata": {},
   "outputs": [
    {
     "data": {
      "text/plain": [
       "array([[26, 19],\n",
       "       [29,  6],\n",
       "       [ 9, 16]])"
      ]
     },
     "execution_count": 30,
     "metadata": {},
     "output_type": "execute_result"
    }
   ],
   "source": [
    "# Transpose of a Matrix\n",
    "C.T"
   ]
  },
  {
   "cell_type": "code",
   "execution_count": 31,
   "id": "efde440a-ff44-415f-8238-747e2ce2ef74",
   "metadata": {},
   "outputs": [
    {
     "name": "stdout",
     "output_type": "stream",
     "text": [
      "Numpy Array doesn't have inverse attribute\n",
      "Trying Linalg\n",
      "\n",
      "[[-0.60714286  0.35714286  0.03571429]\n",
      " [ 0.25        0.5        -0.25      ]\n",
      " [ 0.16071429 -0.53571429  0.19642857]]\n"
     ]
    }
   ],
   "source": [
    "# Inverse of a Matrix\n",
    "try:\n",
    "    A_array.I\n",
    "except:\n",
    "    print(\"Numpy Array doesn't have inverse attribute\")\n",
    "    print(\"Trying Linalg\\n\")\n",
    "    print(linalg.inv(A_matrix))"
   ]
  },
  {
   "cell_type": "code",
   "execution_count": 32,
   "id": "2ca8ab6d-402f-4353-8540-4a64afc112ab",
   "metadata": {},
   "outputs": [
    {
     "data": {
      "text/plain": [
       "matrix([[-0.60714286,  0.35714286,  0.03571429],\n",
       "        [ 0.25      ,  0.5       , -0.25      ],\n",
       "        [ 0.16071429, -0.53571429,  0.19642857]])"
      ]
     },
     "execution_count": 32,
     "metadata": {},
     "output_type": "execute_result"
    }
   ],
   "source": [
    "# Inverse of a Matrix (method 2)\n",
    "A_matrix.I"
   ]
  },
  {
   "cell_type": "code",
   "execution_count": 33,
   "id": "35ab5a1b-a8a8-4576-a333-057e4668c959",
   "metadata": {},
   "outputs": [
    {
     "name": "stdout",
     "output_type": "stream",
     "text": [
      "Calculating Determinant of matrix A: -56.0\n"
     ]
    }
   ],
   "source": [
    "# Calculate Determinant of a Matrix \n",
    "print(f\"Calculating Determinant of matrix A: {linalg.det(A_matrix)}\")"
   ]
  },
  {
   "cell_type": "code",
   "execution_count": 34,
   "id": "b373ba2a-3eb1-497b-b3e1-a88db3ef62c1",
   "metadata": {},
   "outputs": [],
   "source": [
    "# Eigenvalues and eigenvectors\n",
    "eigenvalues, eigenvectors = linalg.eig(A_matrix)"
   ]
  },
  {
   "cell_type": "code",
   "execution_count": 35,
   "id": "b05c182b-7bac-472d-8694-466af7df3757",
   "metadata": {},
   "outputs": [
    {
     "data": {
      "text/plain": [
       "array([31.10286906+0.j, -1.3942385 +0.j,  1.29136944+0.j])"
      ]
     },
     "execution_count": 35,
     "metadata": {},
     "output_type": "execute_result"
    }
   ],
   "source": [
    "eigenvalues"
   ]
  },
  {
   "cell_type": "code",
   "execution_count": 36,
   "id": "30b41302-cb4b-45f1-83c2-9023f86b9528",
   "metadata": {},
   "outputs": [
    {
     "data": {
      "text/plain": [
       "array([[-0.24653765, -0.91712674, -0.17621159],\n",
       "       [-0.35097351,  0.25182041, -0.74586549],\n",
       "       [-0.90334754,  0.30897414,  0.64236606]])"
      ]
     },
     "execution_count": 36,
     "metadata": {},
     "output_type": "execute_result"
    }
   ],
   "source": [
    "eigenvectors"
   ]
  },
  {
   "cell_type": "markdown",
   "id": "d93ef58d-7f6e-44c7-8dd8-0e62abe7ff10",
   "metadata": {},
   "source": [
    "### Useful built-in methods in Numpy"
   ]
  },
  {
   "cell_type": "code",
   "execution_count": 37,
   "id": "bbd7002b-0dc4-43c8-96bd-e8238c3b0489",
   "metadata": {},
   "outputs": [
    {
     "data": {
      "text/plain": [
       "array([[26, 29,  9],\n",
       "       [19,  6, 16]])"
      ]
     },
     "execution_count": 37,
     "metadata": {},
     "output_type": "execute_result"
    }
   ],
   "source": [
    "C"
   ]
  },
  {
   "cell_type": "code",
   "execution_count": 38,
   "id": "bd849d24-783e-4a39-b1bf-c878575053b2",
   "metadata": {},
   "outputs": [
    {
     "data": {
      "text/plain": [
       "1"
      ]
     },
     "execution_count": 38,
     "metadata": {},
     "output_type": "execute_result"
    }
   ],
   "source": [
    "# Returning max value index in a given axis\n",
    "C.argmax(axis=None) #axis=0 col-wise, axis=1 row-wise"
   ]
  },
  {
   "cell_type": "code",
   "execution_count": 39,
   "id": "4c072493-9dc8-4a65-8174-a88d1a947216",
   "metadata": {},
   "outputs": [
    {
     "data": {
      "text/plain": [
       "29"
      ]
     },
     "execution_count": 39,
     "metadata": {},
     "output_type": "execute_result"
    }
   ],
   "source": [
    "# Returning max value based on argmax index\n",
    "C.flatten()[C.argmax()]"
   ]
  },
  {
   "cell_type": "code",
   "execution_count": 40,
   "id": "547d0be6-ebef-469c-a688-4db8364404e4",
   "metadata": {},
   "outputs": [
    {
     "data": {
      "text/plain": [
       "array([4, 2, 5, 3, 0, 1], dtype=int64)"
      ]
     },
     "execution_count": 40,
     "metadata": {},
     "output_type": "execute_result"
    }
   ],
   "source": [
    "# Returns the indices that would sort this array\n",
    "C.argsort(axis=None) #axis=0 col-wise, axis=1 row-wise"
   ]
  },
  {
   "cell_type": "code",
   "execution_count": 41,
   "id": "ec52a5d5-83c7-4aad-89ef-dd66884ce90d",
   "metadata": {},
   "outputs": [
    {
     "data": {
      "text/plain": [
       "array([19, 29, 16])"
      ]
     },
     "execution_count": 41,
     "metadata": {},
     "output_type": "execute_result"
    }
   ],
   "source": [
    "# Return selected slices of this array along given axis\n",
    "np.choose([1, 0, 1], C)"
   ]
  },
  {
   "cell_type": "code",
   "execution_count": 42,
   "id": "8451ee08-aa53-4d9a-8504-dda113795fb6",
   "metadata": {},
   "outputs": [
    {
     "name": "stdout",
     "output_type": "stream",
     "text": [
      "26\n",
      "29\n",
      "9\n",
      "19\n",
      "6\n",
      "16\n"
     ]
    }
   ],
   "source": [
    "# Useful 1D iterator on flattened matrix\n",
    "for i in C.flat: \n",
    "    print(i)"
   ]
  },
  {
   "cell_type": "code",
   "execution_count": 43,
   "id": "7349eb4a-3410-4ee1-ab12-9e1fc24178fb",
   "metadata": {},
   "outputs": [
    {
     "data": {
      "text/plain": [
       "array([[26, 29, 22],\n",
       "       [22, 22, 22]])"
      ]
     },
     "execution_count": 43,
     "metadata": {},
     "output_type": "execute_result"
    }
   ],
   "source": [
    "# Return an array whose values are limited to given min-max\n",
    "C.clip(22, 30)"
   ]
  },
  {
   "cell_type": "code",
   "execution_count": 44,
   "id": "beaae241-0a2b-461c-a08b-1ee34bd196b5",
   "metadata": {},
   "outputs": [
    {
     "name": "stdout",
     "output_type": "stream",
     "text": [
      "C matrix max: 29\n",
      "C matrix mean: 17.5\n",
      "C matrix min: 6\n",
      "C matrix sum: 105\n",
      "C matrix std: 8.301606270274847\n"
     ]
    }
   ],
   "source": [
    "# Returning Max, Mean, Min, Sum \n",
    "print(f\"C matrix max: {C.max(axis=None)}\")\n",
    "print(f\"C matrix mean: {C.mean(axis=None)}\")\n",
    "print(f\"C matrix min: {C.min(axis=None)}\")\n",
    "print(f\"C matrix sum: {C.sum(axis=None)}\")\n",
    "print(f\"C matrix std: {C.std(axis=None)}\")"
   ]
  },
  {
   "cell_type": "code",
   "execution_count": 45,
   "id": "13736c10-abb5-4925-92be-6218296d1651",
   "metadata": {},
   "outputs": [
    {
     "data": {
      "text/plain": [
       "array([ 26,  55,  64,  83,  89, 105])"
      ]
     },
     "execution_count": 45,
     "metadata": {},
     "output_type": "execute_result"
    }
   ],
   "source": [
    "C.cumsum(axis=None) # cum sum along axis 1"
   ]
  },
  {
   "cell_type": "code",
   "execution_count": 46,
   "id": "33bfb0b1-8e89-47c0-b436-ac369586811e",
   "metadata": {},
   "outputs": [
    {
     "data": {
      "text/plain": [
       "(2, 3)"
      ]
     },
     "execution_count": 46,
     "metadata": {},
     "output_type": "execute_result"
    }
   ],
   "source": [
    "# Return shape of matrix\n",
    "C.shape"
   ]
  },
  {
   "cell_type": "code",
   "execution_count": 47,
   "id": "d776d5f8-9ce2-462b-99aa-f24b8ff9b391",
   "metadata": {},
   "outputs": [],
   "source": [
    "# Resize array in place\n",
    "C.resize(1, 6)"
   ]
  },
  {
   "cell_type": "code",
   "execution_count": 48,
   "id": "22a25721-0a97-4591-bb8f-c55ae7ed384c",
   "metadata": {},
   "outputs": [
    {
     "data": {
      "text/plain": [
       "[[26, 29, 9, 19, 6, 16]]"
      ]
     },
     "execution_count": 48,
     "metadata": {},
     "output_type": "execute_result"
    }
   ],
   "source": [
    "# Return the matrix as a (possibly nested) list\n",
    "C.tolist()"
   ]
  },
  {
   "cell_type": "code",
   "execution_count": 49,
   "id": "21aba835-047f-4a08-ad18-bff6085f19c8",
   "metadata": {},
   "outputs": [
    {
     "data": {
      "text/plain": [
       "matrix([[ 2,  7, 22]])"
      ]
     },
     "execution_count": 49,
     "metadata": {},
     "output_type": "execute_result"
    }
   ],
   "source": [
    "# Return diagonal of a matrix (easier to visualise at a square matrix)\n",
    "A_matrix.diagonal()"
   ]
  },
  {
   "cell_type": "code",
   "execution_count": null,
   "id": "a4622482-5cb7-464f-9997-f7a2983a26ab",
   "metadata": {},
   "outputs": [],
   "source": []
  },
  {
   "cell_type": "markdown",
   "id": "4e46ee31-fe85-47fe-94ec-67ec4572d003",
   "metadata": {},
   "source": [
    "## Sympy"
   ]
  },
  {
   "cell_type": "code",
   "execution_count": 50,
   "id": "e97bd83b-94ea-4889-b9c0-1418a4cff9fb",
   "metadata": {},
   "outputs": [],
   "source": [
    "# Define Matrices\n",
    "A = Matrix([[12, 25, 3], [24, 100, 1]])\n",
    "B =  Matrix(3, 3, np.random.randint(0, 15, 9))\n",
    "C = Matrix(4, 4, lambda i,j: 2 + (i-j))\n",
    "D = Matrix(3, 3, np.random.randint(15, 50, 9))"
   ]
  },
  {
   "cell_type": "code",
   "execution_count": 51,
   "id": "e7b4f308-6434-4dda-84c3-50572bfe91ce",
   "metadata": {},
   "outputs": [
    {
     "data": {
      "text/latex": [
       "$\\displaystyle \\left[\\begin{matrix}506 & 425 & 96\\\\1672 & 1525 & 132\\end{matrix}\\right]$"
      ],
      "text/plain": [
       "Matrix([\n",
       "[ 506,  425,  96],\n",
       "[1672, 1525, 132]])"
      ]
     },
     "execution_count": 51,
     "metadata": {},
     "output_type": "execute_result"
    }
   ],
   "source": [
    "# Matrix Multiplication (no element-wise at Sympy)\n",
    "A @ B\n",
    "# or A * B"
   ]
  },
  {
   "cell_type": "code",
   "execution_count": 52,
   "id": "4f8e0009-2ead-4a07-90b6-ab1c4c88ed8a",
   "metadata": {},
   "outputs": [
    {
     "data": {
      "text/latex": [
       "$\\displaystyle \\left[\\begin{matrix}12 & 24\\\\25 & 100\\\\3 & 1\\end{matrix}\\right]$"
      ],
      "text/plain": [
       "Matrix([\n",
       "[12,  24],\n",
       "[25, 100],\n",
       "[ 3,   1]])"
      ]
     },
     "execution_count": 52,
     "metadata": {},
     "output_type": "execute_result"
    }
   ],
   "source": [
    "# Take transpose of a matrix\n",
    "A.T"
   ]
  },
  {
   "cell_type": "code",
   "execution_count": 53,
   "id": "1ee78811-dc22-49bb-b9f0-30ada3c72856",
   "metadata": {},
   "outputs": [
    {
     "data": {
      "text/latex": [
       "$\\displaystyle 29394$"
      ],
      "text/plain": [
       "29394"
      ]
     },
     "execution_count": 53,
     "metadata": {},
     "output_type": "execute_result"
    }
   ],
   "source": [
    "# Compute determinant of a matrix\n",
    "D.det()"
   ]
  },
  {
   "cell_type": "code",
   "execution_count": 54,
   "id": "767f1a7e-efb2-4eb8-9ac2-902e92fc2e5a",
   "metadata": {},
   "outputs": [
    {
     "data": {
      "text/latex": [
       "$\\displaystyle \\left[\\begin{matrix}- \\frac{2}{69} & \\frac{7}{207} & - \\frac{1}{207}\\\\- \\frac{137}{9798} & - \\frac{383}{29394} & \\frac{604}{14697}\\\\\\frac{251}{4899} & - \\frac{85}{14697} & - \\frac{461}{14697}\\end{matrix}\\right]$"
      ],
      "text/plain": [
       "Matrix([\n",
       "[    -2/69,      7/207,     -1/207],\n",
       "[-137/9798, -383/29394,  604/14697],\n",
       "[ 251/4899,  -85/14697, -461/14697]])"
      ]
     },
     "execution_count": 54,
     "metadata": {},
     "output_type": "execute_result"
    }
   ],
   "source": [
    "D.inv()"
   ]
  },
  {
   "cell_type": "code",
   "execution_count": 55,
   "id": "a4ab0bef-8986-4dec-8657-ae9f2ee90547",
   "metadata": {},
   "outputs": [
    {
     "data": {
      "text/plain": [
       "{4 - 2*I: 1, 4 + 2*I: 1, 0: 2}"
      ]
     },
     "execution_count": 55,
     "metadata": {},
     "output_type": "execute_result"
    }
   ],
   "source": [
    "# Eigenvalues of a matrix with algebraic-multiplicity\n",
    "C.eigenvals()"
   ]
  },
  {
   "cell_type": "code",
   "execution_count": 56,
   "id": "ab545795-7f7d-4a90-a86d-a60b006a3050",
   "metadata": {},
   "outputs": [
    {
     "data": {
      "text/plain": [
       "[(0,\n",
       "  2,\n",
       "  [Matrix([\n",
       "   [ 1],\n",
       "   [-2],\n",
       "   [ 1],\n",
       "   [ 0]]),\n",
       "   Matrix([\n",
       "   [ 2],\n",
       "   [-3],\n",
       "   [ 0],\n",
       "   [ 1]])]),\n",
       " (4 - 2*I,\n",
       "  1,\n",
       "  [Matrix([\n",
       "   [-2/13 - 3*I/13],\n",
       "   [ 3/13 - 2*I/13],\n",
       "   [   8/13 - I/13],\n",
       "   [             1]])]),\n",
       " (4 + 2*I,\n",
       "  1,\n",
       "  [Matrix([\n",
       "   [-2/13 + 3*I/13],\n",
       "   [ 3/13 + 2*I/13],\n",
       "   [   8/13 + I/13],\n",
       "   [             1]])])]"
      ]
     },
     "execution_count": 56,
     "metadata": {},
     "output_type": "execute_result"
    }
   ],
   "source": [
    "# Eigenvectors of a matrix\n",
    "C.eigenvects()"
   ]
  },
  {
   "cell_type": "markdown",
   "id": "b2f0066d-1340-4f0e-8e45-7d54accaaf71",
   "metadata": {},
   "source": [
    "### Basic Operations"
   ]
  },
  {
   "cell_type": "code",
   "execution_count": 57,
   "id": "8409e026-79c5-43e3-b258-472003ae6d7d",
   "metadata": {},
   "outputs": [
    {
     "data": {
      "text/latex": [
       "$\\displaystyle \\left[\\begin{matrix}19 & 32 & 39\\\\49 & 34 & 37\\\\22 & 46 & 25\\end{matrix}\\right]$"
      ],
      "text/plain": [
       "Matrix([\n",
       "[19, 32, 39],\n",
       "[49, 34, 37],\n",
       "[22, 46, 25]])"
      ]
     },
     "execution_count": 57,
     "metadata": {},
     "output_type": "execute_result"
    }
   ],
   "source": [
    "D"
   ]
  },
  {
   "cell_type": "code",
   "execution_count": 58,
   "id": "e0120697-1994-48bc-bf36-ef778c437830",
   "metadata": {},
   "outputs": [
    {
     "data": {
      "text/plain": [
       "(3, 3)"
      ]
     },
     "execution_count": 58,
     "metadata": {},
     "output_type": "execute_result"
    }
   ],
   "source": [
    "# Printing out matrix shape\n",
    "D.shape"
   ]
  },
  {
   "cell_type": "code",
   "execution_count": 59,
   "id": "1dd4cc8f-a214-4f84-88a2-3f358954b56b",
   "metadata": {},
   "outputs": [
    {
     "data": {
      "text/latex": [
       "$\\displaystyle \\left[\\begin{matrix}19\\\\49\\\\22\\end{matrix}\\right]$"
      ],
      "text/plain": [
       "Matrix([\n",
       "[19],\n",
       "[49],\n",
       "[22]])"
      ]
     },
     "execution_count": 59,
     "metadata": {},
     "output_type": "execute_result"
    }
   ],
   "source": [
    "# Accessing first column\n",
    "D.col(0)"
   ]
  },
  {
   "cell_type": "code",
   "execution_count": 60,
   "id": "d2c62e5d-42f9-4424-a67a-cfb02be88cad",
   "metadata": {},
   "outputs": [
    {
     "data": {
      "text/latex": [
       "$\\displaystyle \\left[\\begin{matrix}22 & 46 & 25\\end{matrix}\\right]$"
      ],
      "text/plain": [
       "Matrix([[22, 46, 25]])"
      ]
     },
     "execution_count": 60,
     "metadata": {},
     "output_type": "execute_result"
    }
   ],
   "source": [
    "# Accessing Last row\n",
    "D.row(-1)"
   ]
  },
  {
   "cell_type": "code",
   "execution_count": 61,
   "id": "4e223194-e72b-4517-9b4d-0fb1bbbc9508",
   "metadata": {},
   "outputs": [],
   "source": [
    "# Deleting row/column\n",
    "D.col_del(0)\n",
    "D.row_del(-1)"
   ]
  },
  {
   "cell_type": "code",
   "execution_count": 62,
   "id": "a53c07c7-3704-4c33-a724-37d003fac955",
   "metadata": {},
   "outputs": [
    {
     "data": {
      "text/latex": [
       "$\\displaystyle \\left[\\begin{matrix}32 & 39\\\\34 & 37\\end{matrix}\\right]$"
      ],
      "text/plain": [
       "Matrix([\n",
       "[32, 39],\n",
       "[34, 37]])"
      ]
     },
     "execution_count": 62,
     "metadata": {},
     "output_type": "execute_result"
    }
   ],
   "source": [
    "D"
   ]
  },
  {
   "cell_type": "code",
   "execution_count": null,
   "id": "f0fbdca7-557f-4b0b-82b2-60240d478f70",
   "metadata": {},
   "outputs": [],
   "source": []
  },
  {
   "cell_type": "markdown",
   "id": "5cbb7c71-19bd-4237-a95b-7fe463e77a36",
   "metadata": {},
   "source": [
    "## JAX"
   ]
  },
  {
   "cell_type": "code",
   "execution_count": 63,
   "id": "2fc947cf-5e6e-4d20-9e7d-00e582d9418a",
   "metadata": {},
   "outputs": [],
   "source": [
    "# Define Matrices\n",
    "A = jnp.array([[12, 25, 3], [24, 100, 1]])\n",
    "B =  jnp.array([[12, 25, 3], [24, 100, 1], [56, 120, 9]])\n",
    "C = jnp.array([[3.5, 2.21, 1.12], [1.2, 2, 3.3]])"
   ]
  },
  {
   "cell_type": "code",
   "execution_count": 64,
   "id": "3cf98a89-02be-44ca-a137-c1236ece6469",
   "metadata": {},
   "outputs": [
    {
     "data": {
      "text/plain": [
       "Array([[ 42.       ,  55.25     ,   3.3600001],\n",
       "       [ 28.800001 , 200.       ,   3.3      ]], dtype=float32)"
      ]
     },
     "execution_count": 64,
     "metadata": {},
     "output_type": "execute_result"
    }
   ],
   "source": [
    "# Matrix Element-wise multiplication\n",
    "A * C"
   ]
  },
  {
   "cell_type": "code",
   "execution_count": 65,
   "id": "120dc5d7-2690-4ece-ba80-a300d11df635",
   "metadata": {},
   "outputs": [
    {
     "data": {
      "text/plain": [
       "Array([[  912,  3160,    88],\n",
       "       [ 2744, 10720,   181]], dtype=int32)"
      ]
     },
     "execution_count": 65,
     "metadata": {},
     "output_type": "execute_result"
    }
   ],
   "source": [
    "# Matrix Multiplication\n",
    "A @ B"
   ]
  },
  {
   "cell_type": "code",
   "execution_count": 66,
   "id": "cde06652-1fe4-4e2d-9a37-8c4ed08eb5fc",
   "metadata": {},
   "outputs": [
    {
     "data": {
      "text/plain": [
       "Array([[ 12,  24],\n",
       "       [ 25, 100],\n",
       "       [  3,   1]], dtype=int32)"
      ]
     },
     "execution_count": 66,
     "metadata": {},
     "output_type": "execute_result"
    }
   ],
   "source": [
    "# Transpose\n",
    "A.T"
   ]
  },
  {
   "cell_type": "code",
   "execution_count": 67,
   "id": "9210e3b6-6cbb-4756-969b-57d260727cca",
   "metadata": {},
   "outputs": [
    {
     "data": {
      "text/plain": [
       "Array(-2800., dtype=float32)"
      ]
     },
     "execution_count": 67,
     "metadata": {},
     "output_type": "execute_result"
    }
   ],
   "source": [
    "# Determinant\n",
    "jnp.linalg.det(B)"
   ]
  },
  {
   "cell_type": "code",
   "execution_count": 68,
   "id": "10ff1214-2297-489b-b993-57e518dca268",
   "metadata": {},
   "outputs": [
    {
     "name": "stdout",
     "output_type": "stream",
     "text": [
      "Eigenvalues:\n",
      " [108.608894 +0.j  -1.8147824+0.j  14.2058525+0.j]\n",
      "Eigenvectors:\n",
      " [[-0.17464584+0.j -0.32766196+0.j  0.28130454+0.j]\n",
      " [-0.579357  +0.j  0.06798168+0.j -0.0898279 +0.j]\n",
      " [-0.7961434 +0.j  0.9423461 +0.j  0.955405  +0.j]]\n"
     ]
    }
   ],
   "source": [
    "# Eigenvalues and Eigenvectors\n",
    "eigvals, eigvecs = jnp.linalg.eig(B)\n",
    "print(\"Eigenvalues:\\n\", eigvals)\n",
    "print(\"Eigenvectors:\\n\", eigvecs)"
   ]
  },
  {
   "cell_type": "code",
   "execution_count": 69,
   "id": "531e58b4-8a11-44ff-8ce3-34b7317ca42a",
   "metadata": {},
   "outputs": [
    {
     "data": {
      "text/plain": [
       "Array([[  912.,  3160.,    88.],\n",
       "       [ 2744., 10720.,   181.],\n",
       "       [ 4056., 14480.,   369.]], dtype=float32)"
      ]
     },
     "execution_count": 69,
     "metadata": {},
     "output_type": "execute_result"
    }
   ],
   "source": [
    "# Matrix Power\n",
    "jnp.linalg.matrix_power(B, 2)"
   ]
  },
  {
   "cell_type": "markdown",
   "id": "8d11910e-6184-4ce7-b10b-6878ef5cf43a",
   "metadata": {},
   "source": [
    "###  Just-in-time compilation works as well"
   ]
  },
  {
   "cell_type": "markdown",
   "id": "c6dde6e3-b5dd-4c29-a189-a39193460597",
   "metadata": {},
   "source": [
    "### Taking Jacobian"
   ]
  },
  {
   "cell_type": "code",
   "execution_count": 70,
   "id": "e25165d0-f680-48da-932d-cfc5b6589c3c",
   "metadata": {},
   "outputs": [],
   "source": [
    "D = jax.random.uniform(key, shape=(3, 3))"
   ]
  },
  {
   "cell_type": "code",
   "execution_count": 71,
   "id": "554a5c21-8cde-4b6b-9a9a-2ef92f4bd7d7",
   "metadata": {},
   "outputs": [],
   "source": [
    "def sum_rows_times_sigmoid_values(x):\n",
    "    x = jnp.atleast_2d(x)\n",
    "    \n",
    "    sigmoid_x = jax.nn.sigmoid(x)\n",
    "    row_sums = jnp.sum(x, axis=1, keepdims=True)\n",
    "    result = sigmoid_x * row_sums\n",
    "    \n",
    "    return result"
   ]
  },
  {
   "cell_type": "code",
   "execution_count": 72,
   "id": "7ae620b2-c22c-4b80-9470-b89a04303d8c",
   "metadata": {},
   "outputs": [
    {
     "data": {
      "text/plain": [
       "Array([[0.7605113 , 0.67269653, 0.6359098 ],\n",
       "       [1.2769414 , 1.2147048 , 0.9878393 ],\n",
       "       [0.71974444, 0.6918695 , 0.80271053]], dtype=float32)"
      ]
     },
     "execution_count": 72,
     "metadata": {},
     "output_type": "execute_result"
    }
   ],
   "source": [
    "sum_rows_times_sigmoid_values(D)"
   ]
  },
  {
   "cell_type": "code",
   "execution_count": 73,
   "id": "a2104902-c6ce-42be-94b8-043a1b923e45",
   "metadata": {},
   "outputs": [
    {
     "name": "stdout",
     "output_type": "stream",
     "text": [
      "[[[1.9107301  0.7310586  0.7310586 ]\n",
      "  [0.880797   1.5107588  0.880797  ]\n",
      "  [0.95257413 0.95257413 1.223634  ]]]\n"
     ]
    }
   ],
   "source": [
    "jac_sum_sigmoid = jacobian(sum_rows_times_sigmoid_values)\n",
    "print(jac_sum_sigmoid(x))"
   ]
  },
  {
   "cell_type": "code",
   "execution_count": null,
   "id": "12e83aa2-2b49-4565-9734-9623faaf1fac",
   "metadata": {},
   "outputs": [],
   "source": []
  },
  {
   "cell_type": "code",
   "execution_count": null,
   "id": "574363e9-577c-4bc5-844a-43e3bb2ffe40",
   "metadata": {},
   "outputs": [],
   "source": []
  },
  {
   "cell_type": "markdown",
   "id": "f1c4b50b-f953-498c-aa55-a288fff90daf",
   "metadata": {},
   "source": [
    "# Tensor Operations"
   ]
  },
  {
   "cell_type": "markdown",
   "id": "2ce0fb01-24e1-4aa7-954a-a3d1e7831c21",
   "metadata": {},
   "source": [
    "## TensorFlow"
   ]
  },
  {
   "cell_type": "code",
   "execution_count": 74,
   "id": "a18f88a5-b8bd-4f32-b980-f50000560b37",
   "metadata": {},
   "outputs": [],
   "source": [
    "# Define Tensor\n",
    "tensor_1 = tf.constant([\n",
    "  [[0, 1, 2],\n",
    "   [5, 6, 7]],\n",
    "    \n",
    "  [[10, 11, 12],\n",
    "   [15, 16, 17]],\n",
    "    \n",
    "  [[20, 21, 22],\n",
    "   [25, 26, 27]],])\n",
    "\n",
    "tensor_2 = tf.random.uniform([3, 2, 3])"
   ]
  },
  {
   "cell_type": "code",
   "execution_count": 75,
   "id": "250b33e0-b0e7-4b7b-a6f1-7ac6d16cf45c",
   "metadata": {},
   "outputs": [
    {
     "data": {
      "text/plain": [
       "<tf.Tensor: shape=(3, 2, 3), dtype=float32, numpy=\n",
       "array([[[0.90020275, 0.06798148, 0.6896994 ],\n",
       "        [0.51883876, 0.8579979 , 0.48854697]],\n",
       "\n",
       "       [[0.920483  , 0.87047386, 0.08240378],\n",
       "        [0.16821802, 0.63025284, 0.7074007 ]],\n",
       "\n",
       "       [[0.25317442, 0.8379487 , 0.09093046],\n",
       "        [0.94929206, 0.6417327 , 0.9382738 ]]], dtype=float32)>"
      ]
     },
     "execution_count": 75,
     "metadata": {},
     "output_type": "execute_result"
    }
   ],
   "source": [
    "tensor_2"
   ]
  },
  {
   "cell_type": "code",
   "execution_count": 76,
   "id": "a52f3857-dd74-4c43-aa13-4fa2c403297b",
   "metadata": {},
   "outputs": [
    {
     "name": "stdout",
     "output_type": "stream",
     "text": [
      "Shape: (3, 2, 3)\n"
     ]
    }
   ],
   "source": [
    "print(\"Shape:\", tensor_2.shape)"
   ]
  },
  {
   "cell_type": "code",
   "execution_count": 77,
   "id": "02dec084-0abf-49a3-9268-0e13da6f0dd7",
   "metadata": {},
   "outputs": [
    {
     "name": "stdout",
     "output_type": "stream",
     "text": [
      "Transpose:\n",
      " tf.Tensor(\n",
      "[[[0.90020275 0.920483   0.25317442]\n",
      "  [0.51883876 0.16821802 0.94929206]]\n",
      "\n",
      " [[0.06798148 0.87047386 0.8379487 ]\n",
      "  [0.8579979  0.63025284 0.6417327 ]]\n",
      "\n",
      " [[0.6896994  0.08240378 0.09093046]\n",
      "  [0.48854697 0.7074007  0.9382738 ]]], shape=(3, 2, 3), dtype=float32)\n"
     ]
    }
   ],
   "source": [
    "# Transpose of a Tensor\n",
    "print(\"Transpose:\\n\", tf.transpose(tensor_2))"
   ]
  },
  {
   "cell_type": "code",
   "execution_count": 78,
   "id": "96ff8d20-241e-4ace-9d20-b4fc2ecee821",
   "metadata": {},
   "outputs": [
    {
     "name": "stdout",
     "output_type": "stream",
     "text": [
      "Sum: tf.Tensor(10.613851, shape=(), dtype=float32)\n",
      "\n",
      "Min: tf.Tensor(\n",
      "[[[0.51883876 0.06798148 0.48854697]]\n",
      "\n",
      " [[0.16821802 0.63025284 0.08240378]]\n",
      "\n",
      " [[0.25317442 0.6417327  0.09093046]]], shape=(3, 1, 3), dtype=float32)\n",
      "\n",
      "Max: tf.Tensor(\n",
      "[[0.920483   0.87047386 0.6896994 ]\n",
      " [0.94929206 0.8579979  0.9382738 ]], shape=(2, 3), dtype=float32)\n",
      "\n",
      "Mean: tf.Tensor(0.5896584, shape=(), dtype=float32)\n"
     ]
    }
   ],
   "source": [
    "# Sum, Min, Max, Mean\n",
    "print(\"Sum:\", tf.reduce_sum(tensor_2, axis=None, keepdims=False))\n",
    "print()\n",
    "print(\"Min:\", tf.reduce_min(tensor_2, axis=1, keepdims=True))\n",
    "print()\n",
    "print(\"Max:\", tf.reduce_max(tensor_2, axis=0, keepdims=False))\n",
    "print()\n",
    "print(\"Mean:\", tf.reduce_mean(tensor_2))"
   ]
  },
  {
   "cell_type": "markdown",
   "id": "8e3f643c-bce9-4ab6-aa4b-a61642542248",
   "metadata": {},
   "source": [
    "## PyTorch"
   ]
  },
  {
   "cell_type": "code",
   "execution_count": 79,
   "id": "df245599-47eb-45ce-bf1c-e11934f57e69",
   "metadata": {},
   "outputs": [],
   "source": [
    "tensor_1 = torch.tensor([[[1, 2], [3, 4]], [[5, 6], [7, 8]]])\n",
    "tensor_2 = torch.tensor([[[25, 2], [62, 13]], [[24, 42], [4, 1]]])\n",
    "tensor_random = torch.rand([2, 5, 6])"
   ]
  },
  {
   "cell_type": "code",
   "execution_count": 80,
   "id": "d19580ce-f764-4ccc-bc38-dec0ddc4f56a",
   "metadata": {},
   "outputs": [
    {
     "data": {
      "text/plain": [
       "tensor([[[1, 2],\n",
       "         [3, 4]],\n",
       "\n",
       "        [[5, 6],\n",
       "         [7, 8]]])"
      ]
     },
     "execution_count": 80,
     "metadata": {},
     "output_type": "execute_result"
    }
   ],
   "source": [
    "tensor_1"
   ]
  },
  {
   "cell_type": "code",
   "execution_count": 81,
   "id": "3b39ce7f-520d-4da7-81fb-77cec5db8383",
   "metadata": {},
   "outputs": [
    {
     "data": {
      "text/plain": [
       "torch.Size([2, 2, 2])"
      ]
     },
     "execution_count": 81,
     "metadata": {},
     "output_type": "execute_result"
    }
   ],
   "source": [
    "tensor_1.shape"
   ]
  },
  {
   "cell_type": "code",
   "execution_count": 82,
   "id": "0016348e-3bca-44e2-9288-891326390edc",
   "metadata": {},
   "outputs": [
    {
     "name": "stdout",
     "output_type": "stream",
     "text": [
      "Transpose:\n",
      " tf.Tensor(\n",
      "[[[25 24]\n",
      "  [62  4]]\n",
      "\n",
      " [[ 2 42]\n",
      "  [13  1]]], shape=(2, 2, 2), dtype=int64)\n"
     ]
    }
   ],
   "source": [
    "# Transpose of a Tensor\n",
    "print(\"Transpose:\\n\", tf.transpose(tensor_2))"
   ]
  },
  {
   "cell_type": "code",
   "execution_count": 83,
   "id": "e2815943-866c-40c5-8741-189d4d4475de",
   "metadata": {},
   "outputs": [
    {
     "data": {
      "text/plain": [
       "tensor([[[25,  2],\n",
       "         [62, 13]],\n",
       "\n",
       "        [[24, 42],\n",
       "         [ 4,  1]]])"
      ]
     },
     "execution_count": 83,
     "metadata": {},
     "output_type": "execute_result"
    }
   ],
   "source": [
    "tensor_2"
   ]
  },
  {
   "cell_type": "code",
   "execution_count": 84,
   "id": "a43c3dd2-5cc9-4f1e-b737-812fbdc70efb",
   "metadata": {},
   "outputs": [
    {
     "name": "stdout",
     "output_type": "stream",
     "text": [
      "Sum: tensor(173)\n",
      "\n",
      "Min: tensor([[[25,  2]],\n",
      "\n",
      "        [[ 4,  1]]])\n",
      "\n",
      "Max: torch.return_types.max(\n",
      "values=tensor([[25, 42],\n",
      "        [62, 13]]),\n",
      "indices=tensor([[0, 1],\n",
      "        [0, 0]]))\n",
      "\n",
      "Mean: tensor(21.6250)\n"
     ]
    }
   ],
   "source": [
    "# Sum, Min, Max, Mean\n",
    "print(\"Sum:\", torch.sum(tensor_2, axis=None, keepdims=False))\n",
    "print()\n",
    "print(\"Min:\", torch.min(tensor_2, axis=1, keepdims=True).values) #if only values\n",
    "print()\n",
    "print(\"Max:\", torch.max(tensor_2, axis=0, keepdims=False)) #return max values and indexes where the value(s) were found\n",
    "print()\n",
    "print(\"Mean:\", torch.mean(tensor_2, dtype=torch.float)) #cast to float before mean, since float result!"
   ]
  },
  {
   "cell_type": "code",
   "execution_count": 85,
   "id": "ac9185ab-1284-4ca8-ae97-6f7ea41ffa06",
   "metadata": {},
   "outputs": [
    {
     "data": {
      "text/plain": [
       "tensor([[[149,  28],\n",
       "         [323,  58]],\n",
       "\n",
       "        [[144, 216],\n",
       "         [200, 302]]])"
      ]
     },
     "execution_count": 85,
     "metadata": {},
     "output_type": "execute_result"
    }
   ],
   "source": [
    "# Matrix Multiplication\n",
    "tensor_1 @ tensor_2\n",
    "# OR\n",
    "torch.matmul(tensor_1, tensor_2)"
   ]
  },
  {
   "cell_type": "code",
   "execution_count": null,
   "id": "98991c4b-3369-4774-94eb-7d0912832585",
   "metadata": {},
   "outputs": [],
   "source": []
  },
  {
   "cell_type": "markdown",
   "id": "d7dfd687-c632-433c-8569-1ecb2f613744",
   "metadata": {},
   "source": [
    "## JAX"
   ]
  },
  {
   "cell_type": "code",
   "execution_count": 86,
   "id": "c4d626ef-ebbd-4a87-a048-08e2b76fd922",
   "metadata": {},
   "outputs": [],
   "source": [
    "key = jax.random.PRNGKey(42)"
   ]
  },
  {
   "cell_type": "code",
   "execution_count": 87,
   "id": "2bdbd151-dc08-418f-bcbd-b235d828c1b2",
   "metadata": {},
   "outputs": [],
   "source": [
    "# Define Tensor\n",
    "tensor_1 = jnp.array([[[25, 12, 23], [3, 4, 5]], [[6, 7, 8], [213, 1, 2]]])\n",
    "tensor_2 = jnp.array([[[1, 2], [3, 4]], [[5, 6], [7, 8]]])\n",
    "tensor_3 = jax.random.randint(key, shape=(2, 2, 3), minval=0, maxval=15)"
   ]
  },
  {
   "cell_type": "code",
   "execution_count": 88,
   "id": "c03f89bf-f586-4848-87dc-7169742005d3",
   "metadata": {},
   "outputs": [
    {
     "data": {
      "text/plain": [
       "(2, 2, 3)"
      ]
     },
     "execution_count": 88,
     "metadata": {},
     "output_type": "execute_result"
    }
   ],
   "source": [
    "tensor_1.shape"
   ]
  },
  {
   "cell_type": "code",
   "execution_count": 89,
   "id": "4b969c1c-5eae-4e59-8b90-0f189baff944",
   "metadata": {},
   "outputs": [
    {
     "data": {
      "text/plain": [
       "Array([[ 25,  12,  23,   3,   4,   5],\n",
       "       [  6,   7,   8, 213,   1,   2]], dtype=int32)"
      ]
     },
     "execution_count": 89,
     "metadata": {},
     "output_type": "execute_result"
    }
   ],
   "source": [
    "jnp.reshape(tensor_1, (2, 6))"
   ]
  },
  {
   "cell_type": "code",
   "execution_count": 90,
   "id": "b8e64949-b44f-48a0-9e1f-ab11fd4cbccd",
   "metadata": {},
   "outputs": [
    {
     "data": {
      "text/plain": [
       "Array([[[ 25,  12,  23],\n",
       "        [  3,   4,   5]],\n",
       "\n",
       "       [[  6,   7,   8],\n",
       "        [213,   1,   2]],\n",
       "\n",
       "       [[ 12,   8,   9],\n",
       "        [  7,   1,   5]],\n",
       "\n",
       "       [[ 11,  10,   4],\n",
       "        [  9,   1,   2]]], dtype=int32)"
      ]
     },
     "execution_count": 90,
     "metadata": {},
     "output_type": "execute_result"
    }
   ],
   "source": [
    "# Concatenate Tensors along an axis\n",
    "jnp.concatenate((tensor_1, tensor_3), axis=0)"
   ]
  },
  {
   "cell_type": "code",
   "execution_count": 91,
   "id": "6a95f05b-edbf-4a9f-af03-fc7c5d71bc0c",
   "metadata": {},
   "outputs": [
    {
     "data": {
      "text/plain": [
       "Array([[ 25,   9],\n",
       "       [  3,   5],\n",
       "       [  6,   4],\n",
       "       [213,   2]], dtype=int32)"
      ]
     },
     "execution_count": 91,
     "metadata": {},
     "output_type": "execute_result"
    }
   ],
   "source": [
    "# Stacking tensor_1 first col and tensor_3 third col\n",
    "jnp.stack((tensor_1[:, :, 0].flatten(), tensor_3[:, :, 2].flatten()), axis=1)"
   ]
  },
  {
   "cell_type": "code",
   "execution_count": 92,
   "id": "4f429132-6d2a-44c9-91e8-ddb5ffff46fa",
   "metadata": {},
   "outputs": [
    {
     "data": {
      "text/plain": [
       "[Array([[[ 25],\n",
       "         [  3]],\n",
       " \n",
       "        [[  6],\n",
       "         [213]]], dtype=int32),\n",
       " Array([[[12],\n",
       "         [ 4]],\n",
       " \n",
       "        [[ 7],\n",
       "         [ 1]]], dtype=int32),\n",
       " Array([[[23],\n",
       "         [ 5]],\n",
       " \n",
       "        [[ 8],\n",
       "         [ 2]]], dtype=int32)]"
      ]
     },
     "execution_count": 92,
     "metadata": {},
     "output_type": "execute_result"
    }
   ],
   "source": [
    "# Splitting along an axis into sub-tensors\n",
    "jnp.split(tensor_1, 3, axis=2)"
   ]
  },
  {
   "cell_type": "code",
   "execution_count": 93,
   "id": "50d5f22e-803b-47e3-ad59-c30722bbe2dd",
   "metadata": {},
   "outputs": [
    {
     "data": {
      "text/plain": [
       "Array([[[ 25,   6],\n",
       "        [  3, 213]],\n",
       "\n",
       "       [[ 12,   7],\n",
       "        [  4,   1]],\n",
       "\n",
       "       [[ 23,   8],\n",
       "        [  5,   2]]], dtype=int32)"
      ]
     },
     "execution_count": 93,
     "metadata": {},
     "output_type": "execute_result"
    }
   ],
   "source": [
    "# Transpose Tensor\n",
    "jnp.transpose(tensor_1)"
   ]
  },
  {
   "cell_type": "code",
   "execution_count": 94,
   "id": "92fd7be3-38c9-485c-b53d-69cceee4fe96",
   "metadata": {},
   "outputs": [
    {
     "data": {
      "text/plain": [
       "Array([[[ 25,  12,  23],\n",
       "        [  3,   4,   5]],\n",
       "\n",
       "       [[  6,   7,   8],\n",
       "        [213,   1,   2]]], dtype=int32)"
      ]
     },
     "execution_count": 94,
     "metadata": {},
     "output_type": "execute_result"
    }
   ],
   "source": [
    "tensor_1"
   ]
  },
  {
   "cell_type": "code",
   "execution_count": 95,
   "id": "ca2afa5a-9b72-4664-9dfe-c1ef11f64ac4",
   "metadata": {},
   "outputs": [
    {
     "name": "stdout",
     "output_type": "stream",
     "text": [
      "[[ 28  16  28]\n",
      " [219   8  10]]\n",
      "\n",
      "[[6 7 8]\n",
      " [3 1 2]]\n",
      "\n",
      "[[ 25   5]\n",
      " [  8 213]]\n",
      "\n",
      "[[ 14.    8.   14. ]\n",
      " [109.5   4.    5. ]]\n"
     ]
    }
   ],
   "source": [
    "# Sum, Min, Max, Mean\n",
    "print(jnp.sum(tensor_1, axis=1))\n",
    "print()\n",
    "print(jnp.min(tensor_1, axis=0))\n",
    "print()\n",
    "print(jnp.max(tensor_1, axis=2))\n",
    "print()\n",
    "print(jnp.mean(tensor_1, axis=1))"
   ]
  },
  {
   "cell_type": "markdown",
   "id": "32e6659a-8f7b-4ace-9317-6859b3c56444",
   "metadata": {},
   "source": [
    "###  Just-in-time compilation works as well"
   ]
  },
  {
   "cell_type": "markdown",
   "id": "71c3c5e3-7a07-4865-9888-be27f941310a",
   "metadata": {},
   "source": [
    "### Taking Jacobian"
   ]
  },
  {
   "cell_type": "code",
   "execution_count": 96,
   "id": "1eaae7c5-4c15-4f67-a8c9-f2feff9e2ad4",
   "metadata": {},
   "outputs": [],
   "source": [
    "D = jax.random.uniform(key, shape=(2, 3, 3))"
   ]
  },
  {
   "cell_type": "code",
   "execution_count": 97,
   "id": "4029a997-7256-416c-af6b-83eff97f7be7",
   "metadata": {},
   "outputs": [],
   "source": [
    "def sum_rows_times_sigmoid_values(x):\n",
    "    x = jnp.atleast_2d(x)\n",
    "    \n",
    "    sigmoid_x = jax.nn.sigmoid(x)\n",
    "    row_sums = jnp.sum(x, axis=0, keepdims=True)\n",
    "    result = sigmoid_x * row_sums\n",
    "    \n",
    "    return result"
   ]
  },
  {
   "cell_type": "code",
   "execution_count": 98,
   "id": "c7855aae-fb85-4c51-93a7-2681f4f57580",
   "metadata": {},
   "outputs": [
    {
     "data": {
      "text/plain": [
       "Array([[[0.47287682, 0.3414411 , 0.6920294 ],\n",
       "        [0.74847937, 0.4612311 , 0.9051011 ],\n",
       "        [0.42102578, 1.143624  , 0.3751168 ]],\n",
       "\n",
       "       [[0.53499585, 0.4087908 , 0.74047166],\n",
       "        [0.8687725 , 0.6095541 , 1.0656195 ],\n",
       "        [0.38845807, 1.0286559 , 0.4915805 ]]], dtype=float32)"
      ]
     },
     "execution_count": 98,
     "metadata": {},
     "output_type": "execute_result"
    }
   ],
   "source": [
    "sum_rows_times_sigmoid_values(D)"
   ]
  },
  {
   "cell_type": "code",
   "execution_count": 99,
   "id": "231f88d5-6b4a-43f8-b10c-ce19aa50a6dd",
   "metadata": {},
   "outputs": [
    {
     "name": "stdout",
     "output_type": "stream",
     "text": [
      "[[[0.92767054 0.         0.        ]\n",
      "  [0.         1.0907843  0.        ]\n",
      "  [0.         0.         1.0881041 ]]]\n"
     ]
    }
   ],
   "source": [
    "jac_sum_sigmoid = jacobian(sum_rows_times_sigmoid_values)\n",
    "print(jac_sum_sigmoid(x))"
   ]
  },
  {
   "cell_type": "code",
   "execution_count": null,
   "id": "59ff6db9-49f2-4590-be8a-9f63b0a155e8",
   "metadata": {},
   "outputs": [],
   "source": []
  }
 ],
 "metadata": {
  "kernelspec": {
   "display_name": "Python 3 (ipykernel)",
   "language": "python",
   "name": "python3"
  },
  "language_info": {
   "codemirror_mode": {
    "name": "ipython",
    "version": 3
   },
   "file_extension": ".py",
   "mimetype": "text/x-python",
   "name": "python",
   "nbconvert_exporter": "python",
   "pygments_lexer": "ipython3",
   "version": "3.10.7"
  }
 },
 "nbformat": 4,
 "nbformat_minor": 5
}
