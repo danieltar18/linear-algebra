{
 "cells": [
  {
   "cell_type": "code",
   "execution_count": 1,
   "id": "9d9c8a52-87c1-4af5-91e5-89c2bc898681",
   "metadata": {},
   "outputs": [],
   "source": [
    "import scipy\n",
    "import numpy as np\n",
    "import matplotlib.pyplot as plt\n",
    "from sklearn.decomposition import PCA\n",
    "from sympy import Matrix, MatrixBase"
   ]
  },
  {
   "cell_type": "markdown",
   "id": "869e450b-7a88-4d38-b04e-f8d649844823",
   "metadata": {},
   "source": [
    "# Lower–Upper Decomposition (LU)\n",
    "\n",
    "\\begin{equation}\n",
    "A = L * U\n",
    "\\end{equation}"
   ]
  },
  {
   "cell_type": "markdown",
   "id": "d0d1a9ab-aa60-48a5-b5c0-ad2cf92693d8",
   "metadata": {},
   "source": [
    "## Scipy (Numpy Linalg doesn't have LU decomposition!)"
   ]
  },
  {
   "cell_type": "markdown",
   "id": "189b022a-d069-4593-85bb-4d6815a8b717",
   "metadata": {},
   "source": [
    "### NxN Matrix"
   ]
  },
  {
   "cell_type": "markdown",
   "id": "c7b75fc7-bd67-47ce-a5e6-6740f6a31a89",
   "metadata": {},
   "source": [
    "### Perform Permutation P @ L"
   ]
  },
  {
   "cell_type": "code",
   "execution_count": 2,
   "id": "cc85ecef-e0b0-4aeb-9457-c6a3ee84243b",
   "metadata": {},
   "outputs": [],
   "source": [
    "A = np.matrix([[2, 1, 1], [6, 6, 4], [10, 11, 11]])"
   ]
  },
  {
   "cell_type": "code",
   "execution_count": 3,
   "id": "c41fc7ed-30fe-4ad4-8ab1-e2b18278f8e1",
   "metadata": {},
   "outputs": [],
   "source": [
    "L, U = scipy.linalg.lu(A, permute_l=True)"
   ]
  },
  {
   "cell_type": "code",
   "execution_count": 4,
   "id": "17ec9262-7e1c-41c8-b003-5be41c790102",
   "metadata": {},
   "outputs": [
    {
     "data": {
      "text/plain": [
       "True"
      ]
     },
     "execution_count": 4,
     "metadata": {},
     "output_type": "execute_result"
    }
   ],
   "source": [
    "np.allclose(A, L @ U)"
   ]
  },
  {
   "cell_type": "code",
   "execution_count": 5,
   "id": "caa3712b-3605-48ed-8eef-4b94fb4b24f9",
   "metadata": {},
   "outputs": [
    {
     "data": {
      "text/plain": [
       "array([[ 2.,  1.,  1.],\n",
       "       [ 6.,  6.,  4.],\n",
       "       [10., 11., 11.]])"
      ]
     },
     "execution_count": 5,
     "metadata": {},
     "output_type": "execute_result"
    }
   ],
   "source": [
    "L @ U"
   ]
  },
  {
   "cell_type": "markdown",
   "id": "d8b2943e-fef2-4e95-b5eb-6c778f9112d2",
   "metadata": {},
   "source": [
    "### Saving Permutation Matrix"
   ]
  },
  {
   "cell_type": "code",
   "execution_count": 6,
   "id": "9dc76dc3-7908-443c-a869-5bfd1ed3c648",
   "metadata": {},
   "outputs": [],
   "source": [
    "B = np.matrix([[0, 0, 7], [12, 3, 4], [4, 5, 7]])"
   ]
  },
  {
   "cell_type": "code",
   "execution_count": 7,
   "id": "d77eef59-abc7-46a4-a920-6e1d6e69aeeb",
   "metadata": {},
   "outputs": [],
   "source": [
    "P, L, U = scipy.linalg.lu(B)"
   ]
  },
  {
   "cell_type": "code",
   "execution_count": 8,
   "id": "ee2a997e-2e0d-4a4c-94cc-742e0b70ef0d",
   "metadata": {},
   "outputs": [
    {
     "data": {
      "text/plain": [
       "True"
      ]
     },
     "execution_count": 8,
     "metadata": {},
     "output_type": "execute_result"
    }
   ],
   "source": [
    "np.allclose(B, P @ L @ U)"
   ]
  },
  {
   "cell_type": "code",
   "execution_count": 9,
   "id": "acb9c7ad-3244-4653-ac4b-12c366273366",
   "metadata": {},
   "outputs": [
    {
     "data": {
      "text/plain": [
       "matrix([[ True,  True,  True],\n",
       "        [ True,  True,  True],\n",
       "        [ True,  True,  True]])"
      ]
     },
     "execution_count": 9,
     "metadata": {},
     "output_type": "execute_result"
    }
   ],
   "source": [
    "B == P @ L @ U "
   ]
  },
  {
   "cell_type": "markdown",
   "id": "34f09362-7507-4bcc-bc2e-342c90aeeccd",
   "metadata": {},
   "source": [
    "### NxM Matrix"
   ]
  },
  {
   "cell_type": "code",
   "execution_count": 10,
   "id": "92778f3b-69bb-4cb8-8a0f-af35f7416417",
   "metadata": {},
   "outputs": [],
   "source": [
    "A = np.matrix([[1, 2, 3, 4], [1, 4, 9, 16], [1, 8, 27, 64]])"
   ]
  },
  {
   "cell_type": "code",
   "execution_count": 11,
   "id": "48ace552-5b87-48ab-898b-f040f25858c5",
   "metadata": {},
   "outputs": [
    {
     "data": {
      "text/plain": [
       "matrix([[ 1,  2,  3,  4],\n",
       "        [ 1,  4,  9, 16],\n",
       "        [ 1,  8, 27, 64]])"
      ]
     },
     "execution_count": 11,
     "metadata": {},
     "output_type": "execute_result"
    }
   ],
   "source": [
    "A"
   ]
  },
  {
   "cell_type": "code",
   "execution_count": 12,
   "id": "4126f1ec-d2f8-4393-8b5d-3f1aa680131c",
   "metadata": {},
   "outputs": [],
   "source": [
    "P, L, U = scipy.linalg.lu(A)"
   ]
  },
  {
   "cell_type": "code",
   "execution_count": 13,
   "id": "caca8ab1-0fdd-4094-8edb-dfbe0c32ac09",
   "metadata": {},
   "outputs": [
    {
     "data": {
      "text/plain": [
       "matrix([[ True,  True,  True,  True],\n",
       "        [ True,  True,  True,  True],\n",
       "        [ True,  True,  True,  True]])"
      ]
     },
     "execution_count": 13,
     "metadata": {},
     "output_type": "execute_result"
    }
   ],
   "source": [
    "A == P @ L @ U"
   ]
  },
  {
   "cell_type": "markdown",
   "id": "1827a6f1-770f-4b11-aa65-f5e007c585be",
   "metadata": {},
   "source": [
    "## Sympy"
   ]
  },
  {
   "cell_type": "markdown",
   "id": "e1ec2679-118e-42d2-a54a-196c18bb43dd",
   "metadata": {},
   "source": [
    "### NxN Matrix"
   ]
  },
  {
   "cell_type": "code",
   "execution_count": 14,
   "id": "46482ba2-c048-4694-b615-746ca351e3c6",
   "metadata": {},
   "outputs": [],
   "source": [
    "C = Matrix([[2, 1, 1], [6, 6, 4], [10, 11, 11]])\n",
    "D = Matrix([[0, 0, 7], [12, 3, 4], [4, 5, 7]])"
   ]
  },
  {
   "cell_type": "code",
   "execution_count": 15,
   "id": "1f2554a6-94fb-43d5-b5db-a9019e1b16fb",
   "metadata": {},
   "outputs": [
    {
     "data": {
      "text/latex": [
       "$\\displaystyle \\left[\\begin{matrix}2 & 1 & 1\\\\6 & 6 & 4\\\\10 & 11 & 11\\end{matrix}\\right]$"
      ],
      "text/plain": [
       "Matrix([\n",
       "[ 2,  1,  1],\n",
       "[ 6,  6,  4],\n",
       "[10, 11, 11]])"
      ]
     },
     "execution_count": 15,
     "metadata": {},
     "output_type": "execute_result"
    }
   ],
   "source": [
    "C"
   ]
  },
  {
   "cell_type": "code",
   "execution_count": 16,
   "id": "6509fd4e-8007-4b35-9668-96041cf7e817",
   "metadata": {},
   "outputs": [],
   "source": [
    "lu_matrices_c = C.LUdecomposition()"
   ]
  },
  {
   "cell_type": "code",
   "execution_count": 17,
   "id": "4a2f427a-584b-4810-9909-04f0dedd9d4d",
   "metadata": {},
   "outputs": [],
   "source": [
    "L, U = lu_matrices_c[0], lu_matrices_c[1]"
   ]
  },
  {
   "cell_type": "code",
   "execution_count": 18,
   "id": "15151b92-400a-403e-9185-c0f50aa8d738",
   "metadata": {},
   "outputs": [
    {
     "data": {
      "text/plain": [
       "True"
      ]
     },
     "execution_count": 18,
     "metadata": {},
     "output_type": "execute_result"
    }
   ],
   "source": [
    "C.equals(L @ U)"
   ]
  },
  {
   "cell_type": "code",
   "execution_count": 19,
   "id": "19f23b78-0079-4f32-9c94-bb1e0d8d780b",
   "metadata": {},
   "outputs": [
    {
     "data": {
      "text/latex": [
       "$\\displaystyle \\left[\\begin{matrix}2 & 1 & 1\\\\6 & 6 & 4\\\\10 & 11 & 11\\end{matrix}\\right]$"
      ],
      "text/plain": [
       "Matrix([\n",
       "[ 2,  1,  1],\n",
       "[ 6,  6,  4],\n",
       "[10, 11, 11]])"
      ]
     },
     "execution_count": 19,
     "metadata": {},
     "output_type": "execute_result"
    }
   ],
   "source": [
    "L @ U "
   ]
  },
  {
   "cell_type": "code",
   "execution_count": 20,
   "id": "a57efa38-f568-43bc-b7bf-7855441393be",
   "metadata": {},
   "outputs": [],
   "source": [
    "lu_matrices_d = D.LUdecomposition()"
   ]
  },
  {
   "cell_type": "code",
   "execution_count": 21,
   "id": "db89ea49-3cd5-442b-8bb1-cbcb4170e4d8",
   "metadata": {},
   "outputs": [],
   "source": [
    "L, U, perm = lu_matrices_d"
   ]
  },
  {
   "cell_type": "code",
   "execution_count": 22,
   "id": "ace4ec91-f73a-4d2b-92d6-8b978a7a85b3",
   "metadata": {},
   "outputs": [
    {
     "data": {
      "text/latex": [
       "$\\displaystyle \\left[\\begin{matrix}0 & 0 & 7\\\\12 & 3 & 4\\\\4 & 5 & 7\\end{matrix}\\right]$"
      ],
      "text/plain": [
       "Matrix([\n",
       "[ 0, 0, 7],\n",
       "[12, 3, 4],\n",
       "[ 4, 5, 7]])"
      ]
     },
     "execution_count": 22,
     "metadata": {},
     "output_type": "execute_result"
    }
   ],
   "source": [
    "(L*U).permuteBkwd(perm)"
   ]
  },
  {
   "cell_type": "markdown",
   "id": "ccffeeed-a7e8-4675-9f36-440dba6e2892",
   "metadata": {},
   "source": [
    "### NxM Matrix"
   ]
  },
  {
   "cell_type": "code",
   "execution_count": 23,
   "id": "7cb016fc-4afc-4fb7-8a0a-e66e882a3048",
   "metadata": {},
   "outputs": [],
   "source": [
    "C = Matrix([[1, 2, 3, 4], [1, 4, 9, 16], [1, 8, 27, 64]])"
   ]
  },
  {
   "cell_type": "code",
   "execution_count": 24,
   "id": "1075ee9a-d552-42ad-947d-6e86fd78dd1f",
   "metadata": {},
   "outputs": [
    {
     "data": {
      "text/latex": [
       "$\\displaystyle \\left[\\begin{matrix}1 & 2 & 3 & 4\\\\1 & 4 & 9 & 16\\\\1 & 8 & 27 & 64\\end{matrix}\\right]$"
      ],
      "text/plain": [
       "Matrix([\n",
       "[1, 2,  3,  4],\n",
       "[1, 4,  9, 16],\n",
       "[1, 8, 27, 64]])"
      ]
     },
     "execution_count": 24,
     "metadata": {},
     "output_type": "execute_result"
    }
   ],
   "source": [
    "C"
   ]
  },
  {
   "cell_type": "code",
   "execution_count": 25,
   "id": "4c7ecc63-2469-4d5c-8fc2-39ec91605359",
   "metadata": {},
   "outputs": [],
   "source": [
    "L, U, perm  = C.LUdecomposition()"
   ]
  },
  {
   "cell_type": "code",
   "execution_count": 26,
   "id": "dfaa2cfe-65b4-407f-962b-914ef62f836f",
   "metadata": {},
   "outputs": [
    {
     "data": {
      "text/plain": [
       "True"
      ]
     },
     "execution_count": 26,
     "metadata": {},
     "output_type": "execute_result"
    }
   ],
   "source": [
    "C.equals(L @ U)"
   ]
  },
  {
   "cell_type": "markdown",
   "id": "81c9e5fe-067b-4ca5-aaf4-71987b584913",
   "metadata": {},
   "source": [
    "---"
   ]
  },
  {
   "cell_type": "markdown",
   "id": "0c169f7f-ba42-497d-865d-82d50bdca64f",
   "metadata": {},
   "source": [
    "# QR Decomposition\n",
    "\\begin{equation}\n",
    "A = Q * R\n",
    "\\end{equation}"
   ]
  },
  {
   "cell_type": "markdown",
   "id": "0c462336-c7f1-4cd7-9951-8417e045d912",
   "metadata": {},
   "source": [
    "## Numpy"
   ]
  },
  {
   "cell_type": "code",
   "execution_count": 27,
   "id": "5d2afc85-eb93-40b2-a4a9-e3e22344fccb",
   "metadata": {},
   "outputs": [],
   "source": [
    "A = np.matrix([[3, -6, -1], [4, 2, 2], [12, 16, 5]])"
   ]
  },
  {
   "cell_type": "code",
   "execution_count": 28,
   "id": "31efc227-0e28-4fcd-8cb7-2a55283782e6",
   "metadata": {},
   "outputs": [
    {
     "data": {
      "text/plain": [
       "matrix([[ 3, -6, -1],\n",
       "        [ 4,  2,  2],\n",
       "        [12, 16,  5]])"
      ]
     },
     "execution_count": 28,
     "metadata": {},
     "output_type": "execute_result"
    }
   ],
   "source": [
    "A"
   ]
  },
  {
   "cell_type": "code",
   "execution_count": 29,
   "id": "8b683904-9337-4abd-a88f-4d88e4a91566",
   "metadata": {},
   "outputs": [],
   "source": [
    "Q, R = np.linalg.qr(A)"
   ]
  },
  {
   "cell_type": "code",
   "execution_count": 30,
   "id": "6bbc7253-4d33-4c10-a914-d2489b6e417f",
   "metadata": {},
   "outputs": [
    {
     "data": {
      "text/plain": [
       "True"
      ]
     },
     "execution_count": 30,
     "metadata": {},
     "output_type": "execute_result"
    }
   ],
   "source": [
    "np.allclose(A, np.matmul(Q, R))"
   ]
  },
  {
   "cell_type": "markdown",
   "id": "c9e28388-abf4-4e57-97a1-bd0f6d44359d",
   "metadata": {},
   "source": [
    "## Sympy"
   ]
  },
  {
   "cell_type": "code",
   "execution_count": 31,
   "id": "271c4040-a519-4391-b644-d704f4417867",
   "metadata": {},
   "outputs": [],
   "source": [
    "C = Matrix([[3, -6, -1], [4, 2, 2], [12, 16, 5]])"
   ]
  },
  {
   "cell_type": "code",
   "execution_count": 32,
   "id": "2d201ccd-40b6-4e41-b17e-35f14acc7344",
   "metadata": {},
   "outputs": [],
   "source": [
    "Q, R = C.QRdecomposition()"
   ]
  },
  {
   "cell_type": "code",
   "execution_count": 33,
   "id": "40b73ac8-ed24-4293-9d26-1a9f9142f987",
   "metadata": {},
   "outputs": [
    {
     "data": {
      "text/latex": [
       "$\\displaystyle \\left[\\begin{matrix}3 & -6 & -1\\\\4 & 2 & 2\\\\12 & 16 & 5\\end{matrix}\\right]$"
      ],
      "text/plain": [
       "Matrix([\n",
       "[ 3, -6, -1],\n",
       "[ 4,  2,  2],\n",
       "[12, 16,  5]])"
      ]
     },
     "execution_count": 33,
     "metadata": {},
     "output_type": "execute_result"
    }
   ],
   "source": [
    "Q @ R"
   ]
  },
  {
   "cell_type": "markdown",
   "id": "29b85b19-d2cf-4835-a823-92b4e67880c8",
   "metadata": {},
   "source": [
    "---"
   ]
  },
  {
   "cell_type": "markdown",
   "id": "c15fd559-d29d-4dd4-8dcd-01beb93cf20d",
   "metadata": {},
   "source": [
    "# Singular Value Decomposition (SVD)\n",
    "\n",
    "\\begin{equation}\n",
    "A=U∗E∗V^T\n",
    "\\end{equation}"
   ]
  },
  {
   "cell_type": "markdown",
   "id": "8e65829b-b98b-47dc-8dfd-597a0fd8abda",
   "metadata": {},
   "source": [
    "## Numpy"
   ]
  },
  {
   "cell_type": "code",
   "execution_count": 34,
   "id": "cebc7dc9-6091-43f0-a725-dcc2f95bdd21",
   "metadata": {},
   "outputs": [],
   "source": [
    "A = np.matrix([[3, -6, 2], [4, 1, 2], [12, 16, 5]])"
   ]
  },
  {
   "cell_type": "code",
   "execution_count": 35,
   "id": "d754735f-da93-4c3f-9159-27599e97e77b",
   "metadata": {},
   "outputs": [],
   "source": [
    "U, Sigma, VT = np.linalg.svd(A)"
   ]
  },
  {
   "cell_type": "code",
   "execution_count": 36,
   "id": "6e9d291e-aa93-4d09-a855-789b4d6dac08",
   "metadata": {},
   "outputs": [
    {
     "data": {
      "text/plain": [
       "matrix([[ 0.11963437, -0.91311004, -0.38976618],\n",
       "        [-0.16839933, -0.40556009,  0.89842233],\n",
       "        [-0.97843205, -0.04184582, -0.20228605]])"
      ]
     },
     "execution_count": 36,
     "metadata": {},
     "output_type": "execute_result"
    }
   ],
   "source": [
    "U"
   ]
  },
  {
   "cell_type": "code",
   "execution_count": 37,
   "id": "d29084d2-dda6-4948-a925-bee48df27cfc",
   "metadata": {},
   "outputs": [
    {
     "data": {
      "text/plain": [
       "array([2.10677436e+01, 7.15193224e+00, 6.63679776e-03])"
      ]
     },
     "execution_count": 37,
     "metadata": {},
     "output_type": "execute_result"
    }
   ],
   "source": [
    "# Singular Values\n",
    "Sigma "
   ]
  },
  {
   "cell_type": "code",
   "execution_count": 38,
   "id": "e022dbb1-b78f-4bd6-9cbd-9ef51bc3ba9e",
   "metadata": {},
   "outputs": [
    {
     "data": {
      "text/plain": [
       "matrix([[-0.57224348, -0.78513953, -0.23684028],\n",
       "        [-0.68005683,  0.6157171 , -0.39801403],\n",
       "        [-0.45832316,  0.06669609,  0.88627959]])"
      ]
     },
     "execution_count": 38,
     "metadata": {},
     "output_type": "execute_result"
    }
   ],
   "source": [
    "VT"
   ]
  },
  {
   "cell_type": "code",
   "execution_count": 39,
   "id": "10e87b95-953e-4c67-9b77-cda5d0876314",
   "metadata": {},
   "outputs": [],
   "source": [
    "# Constructing E (diagonal matrix with singular values)\n",
    "E = np.zeros((A.shape[0], A.shape[1]))\n",
    "np.fill_diagonal(E, Sigma)"
   ]
  },
  {
   "cell_type": "code",
   "execution_count": 40,
   "id": "dbedc309-105b-445e-9a84-3152505df0dd",
   "metadata": {},
   "outputs": [
    {
     "data": {
      "text/plain": [
       "True"
      ]
     },
     "execution_count": 40,
     "metadata": {},
     "output_type": "execute_result"
    }
   ],
   "source": [
    "np.allclose(A, np.dot(U, (E*VT)))"
   ]
  },
  {
   "cell_type": "code",
   "execution_count": 41,
   "id": "aa42d740-bd9d-43ad-ba78-ba491a998634",
   "metadata": {},
   "outputs": [
    {
     "data": {
      "text/plain": [
       "matrix([[ 3., -6.,  2.],\n",
       "        [ 4.,  1.,  2.],\n",
       "        [12., 16.,  5.]])"
      ]
     },
     "execution_count": 41,
     "metadata": {},
     "output_type": "execute_result"
    }
   ],
   "source": [
    "np.dot(U, (E*VT))"
   ]
  },
  {
   "cell_type": "markdown",
   "id": "e5e1051f-5ab5-4540-a034-9b723ab43d4c",
   "metadata": {},
   "source": [
    "## Sympy"
   ]
  },
  {
   "cell_type": "code",
   "execution_count": 42,
   "id": "88feed4b-3f09-44c0-b111-831e4043bcaa",
   "metadata": {},
   "outputs": [],
   "source": [
    "A = Matrix([[4, 0], [3, -5]])"
   ]
  },
  {
   "cell_type": "code",
   "execution_count": 43,
   "id": "01eb85c8-3554-408e-ae7e-ebc6260a92b9",
   "metadata": {},
   "outputs": [
    {
     "data": {
      "text/latex": [
       "$\\displaystyle \\left[\\begin{matrix}4 & 0\\\\3 & -5\\end{matrix}\\right]$"
      ],
      "text/plain": [
       "Matrix([\n",
       "[4,  0],\n",
       "[3, -5]])"
      ]
     },
     "execution_count": 43,
     "metadata": {},
     "output_type": "execute_result"
    }
   ],
   "source": [
    "A"
   ]
  },
  {
   "cell_type": "code",
   "execution_count": 44,
   "id": "8eb0a6e0-1b1e-42b9-a9c0-700e0839f0c0",
   "metadata": {},
   "outputs": [],
   "source": [
    "U, S, V = A.singular_value_decomposition()"
   ]
  },
  {
   "cell_type": "code",
   "execution_count": 45,
   "id": "8aca994b-d302-4c37-921e-2cd20ad25e41",
   "metadata": {},
   "outputs": [
    {
     "data": {
      "text/plain": [
       "True"
      ]
     },
     "execution_count": 45,
     "metadata": {},
     "output_type": "execute_result"
    }
   ],
   "source": [
    "A == U * S * V.T"
   ]
  },
  {
   "cell_type": "code",
   "execution_count": 46,
   "id": "18352f2e-826e-4443-9e11-31adc88fb6d2",
   "metadata": {},
   "outputs": [
    {
     "data": {
      "text/latex": [
       "$\\displaystyle \\left[\\begin{matrix}4 & 0\\\\3 & -5\\end{matrix}\\right]$"
      ],
      "text/plain": [
       "Matrix([\n",
       "[4,  0],\n",
       "[3, -5]])"
      ]
     },
     "execution_count": 46,
     "metadata": {},
     "output_type": "execute_result"
    }
   ],
   "source": [
    "U * S * V.T"
   ]
  },
  {
   "cell_type": "markdown",
   "id": "4fb955ae-a134-4ec1-9f6a-33814f0b566a",
   "metadata": {},
   "source": [
    "---"
   ]
  },
  {
   "cell_type": "markdown",
   "id": "2be3eab7",
   "metadata": {},
   "source": [
    "# Principle Component Analysis - PCA"
   ]
  },
  {
   "cell_type": "code",
   "execution_count": 47,
   "id": "131d8a56",
   "metadata": {
    "ExecuteTime": {
     "end_time": "2024-04-28T16:56:09.373790Z",
     "start_time": "2024-04-28T16:56:09.358589Z"
    }
   },
   "outputs": [],
   "source": [
    "matrix = np.random.rand(250, 80)"
   ]
  },
  {
   "cell_type": "code",
   "execution_count": 48,
   "id": "8bd2e25a",
   "metadata": {
    "ExecuteTime": {
     "end_time": "2024-04-28T16:56:09.529978Z",
     "start_time": "2024-04-28T16:56:09.514356Z"
    }
   },
   "outputs": [
    {
     "data": {
      "text/plain": [
       "(250, 80)"
      ]
     },
     "execution_count": 48,
     "metadata": {},
     "output_type": "execute_result"
    }
   ],
   "source": [
    "matrix.shape"
   ]
  },
  {
   "cell_type": "code",
   "execution_count": 49,
   "id": "5c72f9b7",
   "metadata": {},
   "outputs": [],
   "source": [
    "mean_of_features = np.mean(matrix, axis=0)\n",
    "std_of_features = np.std(matrix, axis=0)"
   ]
  },
  {
   "cell_type": "code",
   "execution_count": 50,
   "id": "b35f4327",
   "metadata": {},
   "outputs": [],
   "source": [
    "standardised_matrix = (matrix - mean_of_features)/std_of_features"
   ]
  },
  {
   "cell_type": "code",
   "execution_count": 51,
   "id": "1ce74e9d",
   "metadata": {},
   "outputs": [
    {
     "data": {
      "text/plain": [
       "array([[ 0.22755986, -1.72664113, -0.6182929 , ..., -1.00452978,\n",
       "         1.37801232, -0.58196513],\n",
       "       [ 0.50473156,  1.63603863, -1.43503703, ..., -0.15111865,\n",
       "        -1.44796654,  0.54425096],\n",
       "       [ 1.20487904, -0.89050144, -1.16963954, ...,  0.4294078 ,\n",
       "        -0.02223275, -1.18834588],\n",
       "       ...,\n",
       "       [ 0.22843172,  0.25282783, -1.29520022, ..., -1.3291559 ,\n",
       "        -0.93883843, -1.17718297],\n",
       "       [-0.07711195, -0.77766946,  1.24329919, ..., -0.17901842,\n",
       "         0.3263095 , -1.3265689 ],\n",
       "       [-0.14758569,  0.32454194, -0.63373847, ...,  1.0943347 ,\n",
       "         0.59550219, -0.95707316]])"
      ]
     },
     "execution_count": 51,
     "metadata": {},
     "output_type": "execute_result"
    }
   ],
   "source": [
    "standardised_matrix"
   ]
  },
  {
   "cell_type": "code",
   "execution_count": 52,
   "id": "b3655220",
   "metadata": {
    "ExecuteTime": {
     "end_time": "2024-04-28T16:56:09.686211Z",
     "start_time": "2024-04-28T16:56:09.671014Z"
    }
   },
   "outputs": [],
   "source": [
    "pca = PCA(n_components=30)"
   ]
  },
  {
   "cell_type": "code",
   "execution_count": 53,
   "id": "d4eb1f15",
   "metadata": {
    "ExecuteTime": {
     "end_time": "2024-04-28T16:56:29.342039Z",
     "start_time": "2024-04-28T16:56:29.311255Z"
    }
   },
   "outputs": [],
   "source": [
    "pca_matrix = pca.fit_transform(standardised_matrix)"
   ]
  },
  {
   "cell_type": "code",
   "execution_count": 54,
   "id": "0b7de5d2",
   "metadata": {
    "ExecuteTime": {
     "end_time": "2024-04-28T16:56:31.216987Z",
     "start_time": "2024-04-28T16:56:31.200986Z"
    }
   },
   "outputs": [
    {
     "name": "stdout",
     "output_type": "stream",
     "text": [
      "[0.02771456 0.02717916 0.02617702 0.02563321 0.02514003 0.02475338\n",
      " 0.02416018 0.02368862 0.02278521 0.02226362 0.0219928  0.02113594\n",
      " 0.02079172 0.0204305  0.01961094 0.01939172 0.0191888  0.01899539\n",
      " 0.01832262 0.01799773 0.01750669 0.01735735 0.01689761 0.01616418\n",
      " 0.01591856 0.01589174 0.01516589 0.01486616 0.01439296 0.01423757]\n"
     ]
    }
   ],
   "source": [
    "print(pca.explained_variance_ratio_)"
   ]
  },
  {
   "cell_type": "code",
   "execution_count": 55,
   "id": "9b56e050",
   "metadata": {
    "ExecuteTime": {
     "end_time": "2024-04-28T16:56:31.319404Z",
     "start_time": "2024-04-28T16:56:31.288188Z"
    }
   },
   "outputs": [
    {
     "data": {
      "text/plain": [
       "0.6057518465822933"
      ]
     },
     "execution_count": 55,
     "metadata": {},
     "output_type": "execute_result"
    }
   ],
   "source": [
    "np.sum(pca.explained_variance_ratio_) ## 60 percent explained (variation)"
   ]
  },
  {
   "cell_type": "code",
   "execution_count": 56,
   "id": "4302b93d",
   "metadata": {
    "ExecuteTime": {
     "end_time": "2024-04-28T16:56:33.134464Z",
     "start_time": "2024-04-28T16:56:33.118828Z"
    }
   },
   "outputs": [
    {
     "name": "stdout",
     "output_type": "stream",
     "text": [
      "[23.54339042 23.31487008 22.88100599 22.64209095 22.42321632 22.25011645\n",
      " 21.98189257 21.76631154 21.34723156 21.10147808 20.9727441  20.56012748\n",
      " 20.39201893 20.21410483 19.8045122  19.69351093 19.59020151 19.49122415\n",
      " 19.14294673 18.97247019 18.71185993 18.63187896 18.38347549 17.98008652\n",
      " 17.84295752 17.82792088 17.41601901 17.24306173 16.96641586 16.87457618]\n"
     ]
    }
   ],
   "source": [
    "print(pca.singular_values_)"
   ]
  },
  {
   "cell_type": "code",
   "execution_count": 57,
   "id": "0cbf4975",
   "metadata": {
    "ExecuteTime": {
     "end_time": "2024-04-28T16:57:07.599614Z",
     "start_time": "2024-04-28T16:57:07.584434Z"
    }
   },
   "outputs": [
    {
     "data": {
      "text/plain": [
       "array([[ 0.30554438, -0.27971739, -0.50386714, ...,  0.0524881 ,\n",
       "        -0.21135596, -0.39247151],\n",
       "       [ 0.97497836,  0.54787743, -0.21078481, ...,  0.65168918,\n",
       "         1.46420204, -0.48374135],\n",
       "       [-0.43860251,  1.00970079, -0.16956427, ...,  0.01611313,\n",
       "        -0.81512576, -0.14236861],\n",
       "       ...,\n",
       "       [ 1.37230131,  1.60979946, -2.45254219, ...,  1.16572107,\n",
       "         1.03379113, -0.63998961],\n",
       "       [ 2.30004532, -3.52730526,  1.94337889, ..., -0.48868393,\n",
       "        -0.92059504,  0.2760724 ],\n",
       "       [-0.01073332,  0.13379947,  1.43629843, ..., -1.17745815,\n",
       "         1.29124963,  0.03556223]])"
      ]
     },
     "execution_count": 57,
     "metadata": {},
     "output_type": "execute_result"
    }
   ],
   "source": [
    "pca_matrix"
   ]
  },
  {
   "cell_type": "code",
   "execution_count": 58,
   "id": "b3613e0a",
   "metadata": {
    "ExecuteTime": {
     "end_time": "2024-04-28T17:32:33.251662Z",
     "start_time": "2024-04-28T17:32:33.236040Z"
    }
   },
   "outputs": [
    {
     "data": {
      "text/plain": [
       "array([ 0.30554438, -0.27971739, -0.50386714, -0.08828095, -1.63250548,\n",
       "        0.06434486,  1.57850027,  1.70624214, -3.42266971,  1.38259878,\n",
       "        0.53227019, -0.10162379,  0.1529697 ,  0.73003752, -1.38161035,\n",
       "       -1.26368634,  0.2389818 , -1.10811347, -1.85447864,  0.0291801 ,\n",
       "        1.77063018, -0.64690311,  1.12909392,  0.44652524, -0.58111313,\n",
       "        0.04110096, -0.94360731,  0.0524881 , -0.21135596, -0.39247151])"
      ]
     },
     "execution_count": 58,
     "metadata": {},
     "output_type": "execute_result"
    }
   ],
   "source": [
    "pca_matrix[0]"
   ]
  },
  {
   "cell_type": "code",
   "execution_count": 59,
   "id": "713e5743",
   "metadata": {
    "ExecuteTime": {
     "end_time": "2024-04-28T16:56:44.216436Z",
     "start_time": "2024-04-28T16:56:44.200817Z"
    }
   },
   "outputs": [
    {
     "data": {
      "text/plain": [
       "(250, 30)"
      ]
     },
     "execution_count": 59,
     "metadata": {},
     "output_type": "execute_result"
    }
   ],
   "source": [
    "pca_matrix.shape"
   ]
  },
  {
   "cell_type": "markdown",
   "id": "1540839a",
   "metadata": {
    "ExecuteTime": {
     "end_time": "2024-04-28T16:55:41.057520Z",
     "start_time": "2024-04-28T16:55:41.026733Z"
    }
   },
   "source": [
    "## Calculate manually with Numpy"
   ]
  },
  {
   "cell_type": "markdown",
   "id": "2a62d8d3",
   "metadata": {},
   "source": [
    "### 1. Standardise to 0 - already done"
   ]
  },
  {
   "cell_type": "code",
   "execution_count": 60,
   "id": "ffcb2560",
   "metadata": {
    "ExecuteTime": {
     "end_time": "2024-04-28T17:04:43.198282Z",
     "start_time": "2024-04-28T17:04:43.183108Z"
    }
   },
   "outputs": [
    {
     "data": {
      "text/plain": [
       "(250, 80)"
      ]
     },
     "execution_count": 60,
     "metadata": {},
     "output_type": "execute_result"
    }
   ],
   "source": [
    "standardised_matrix.shape"
   ]
  },
  {
   "cell_type": "code",
   "execution_count": 61,
   "id": "6bb6f643",
   "metadata": {
    "ExecuteTime": {
     "end_time": "2024-04-28T17:19:50.662674Z",
     "start_time": "2024-04-28T17:19:50.326141Z"
    }
   },
   "outputs": [
    {
     "data": {
      "image/png": "[encoded data removed]",
      "text/plain": [
       "<Figure size 1500x500 with 2 Axes>"
      ]
     },
     "metadata": {},
     "output_type": "display_data"
    }
   ],
   "source": [
    "fig, ax = plt.subplots(ncols=2, nrows=1, figsize=(15, 5))\n",
    "\n",
    "ax[0].plot(matrix[0])\n",
    "ax[0].axhline(np.min(matrix[0]), color=\"r\")\n",
    "ax[0].axhline(np.max(matrix[0]), color=\"r\")\n",
    "\n",
    "ax[1].plot(standardised_matrix[0])\n",
    "ax[1].axhline(np.min(standardised_matrix[0]), color=\"r\")\n",
    "ax[1].axhline(0, color=\"r\")\n",
    "ax[1].axhline(np.max(standardised_matrix[0]), color=\"r\")\n",
    "\n",
    "ax[0].set_title(\"Normal Matrix\")\n",
    "ax[1].set_title(\"Standardised Matrix\")\n",
    "plt.show()\n",
    "\n",
    "## CENTRALIZE MATRIX TO 0"
   ]
  },
  {
   "cell_type": "markdown",
   "id": "572e423d",
   "metadata": {},
   "source": [
    "### 2. Calculate the covariance matrix for the whole dataset"
   ]
  },
  {
   "cell_type": "code",
   "execution_count": 62,
   "id": "131191ee",
   "metadata": {
    "ExecuteTime": {
     "end_time": "2024-04-28T17:16:30.043099Z",
     "start_time": "2024-04-28T17:16:30.027481Z"
    }
   },
   "outputs": [],
   "source": [
    "covariance_matrix = np.cov(standardised_matrix, rowvar=False) ## rowvar=False, sicne columns are the variables in this example"
   ]
  },
  {
   "cell_type": "code",
   "execution_count": 63,
   "id": "9b19ae83",
   "metadata": {
    "ExecuteTime": {
     "end_time": "2024-04-28T17:16:30.480531Z",
     "start_time": "2024-04-28T17:16:30.464884Z"
    }
   },
   "outputs": [
    {
     "data": {
      "text/plain": [
       "(80, 80)"
      ]
     },
     "execution_count": 63,
     "metadata": {},
     "output_type": "execute_result"
    }
   ],
   "source": [
    "covariance_matrix.shape"
   ]
  },
  {
   "cell_type": "code",
   "execution_count": 64,
   "id": "c855f298",
   "metadata": {
    "ExecuteTime": {
     "end_time": "2024-04-28T17:17:19.374701Z",
     "start_time": "2024-04-28T17:17:19.343901Z"
    }
   },
   "outputs": [
    {
     "data": {
      "text/plain": [
       "array([[ 1.00401606, -0.08001247,  0.13220015, ...,  0.01854646,\n",
       "        -0.04331627, -0.14657787],\n",
       "       [-0.08001247,  1.00401606,  0.10236857, ...,  0.14671479,\n",
       "         0.03349075,  0.13291776],\n",
       "       [ 0.13220015,  0.10236857,  1.00401606, ..., -0.07673747,\n",
       "         0.0037704 , -0.04893073],\n",
       "       ...,\n",
       "       [ 0.01854646,  0.14671479, -0.07673747, ...,  1.00401606,\n",
       "         0.09738132,  0.07962754],\n",
       "       [-0.04331627,  0.03349075,  0.0037704 , ...,  0.09738132,\n",
       "         1.00401606,  0.0868045 ],\n",
       "       [-0.14657787,  0.13291776, -0.04893073, ...,  0.07962754,\n",
       "         0.0868045 ,  1.00401606]])"
      ]
     },
     "execution_count": 64,
     "metadata": {},
     "output_type": "execute_result"
    }
   ],
   "source": [
    "covariance_matrix"
   ]
  },
  {
   "cell_type": "markdown",
   "id": "3ea9afc7",
   "metadata": {},
   "source": [
    "### 3. Calculate eigenvalues and eigen vectors.\n",
    "- det(A-λI) = 0"
   ]
  },
  {
   "cell_type": "code",
   "execution_count": 65,
   "id": "43d36207",
   "metadata": {
    "ExecuteTime": {
     "end_time": "2024-04-28T17:30:32.673322Z",
     "start_time": "2024-04-28T17:30:32.657705Z"
    }
   },
   "outputs": [],
   "source": [
    "eigenvalues, eigenvectors = np.linalg.eig(covariance_matrix)"
   ]
  },
  {
   "cell_type": "code",
   "execution_count": 66,
   "id": "49408a2c",
   "metadata": {
    "ExecuteTime": {
     "end_time": "2024-04-28T17:30:35.516401Z",
     "start_time": "2024-04-28T17:30:35.500806Z"
    }
   },
   "outputs": [
    {
     "data": {
      "text/plain": [
       "array([2.22606921, 2.18306493, 2.10257203, 2.0588927 , 2.01927964,\n",
       "       1.98822362, 1.94057671, 1.90270007, 1.83013773, 1.78824248,\n",
       "       1.76648994, 1.69766603, 1.67001782, 1.64100415, 1.57517552,\n",
       "       1.55756776, 1.52573421, 1.54126906, 1.47169642, 1.4456009 ,\n",
       "       1.40615945, 1.39416431, 0.20619112, 1.35723763, 0.22468721,\n",
       "       0.23845929, 0.2564228 , 1.29832735, 1.27859893, 1.27644483,\n",
       "       0.27354892, 1.21814345, 1.19406899, 0.29413251, 0.30935156,\n",
       "       0.33372563, 0.34087986, 1.15606131, 0.36371054, 1.1435796 ,\n",
       "       1.13757757, 1.09638219, 0.36867296, 0.39151122, 0.40306365,\n",
       "       1.0626451 , 0.4148491 , 1.0733013 , 0.43453332, 1.0184491 ,\n",
       "       1.00936515, 0.44857132, 0.48659594, 0.47313815, 0.47024033,\n",
       "       0.96750822, 0.51259714, 0.91369401, 0.93061082, 0.8833353 ,\n",
       "       0.86275626, 0.993469  , 0.54991293, 0.82924517, 0.5840384 ,\n",
       "       0.56955237, 0.69104786, 0.78694326, 0.71987734, 0.60451711,\n",
       "       0.6607175 , 0.64022405, 0.76132798, 0.7517034 , 0.65222839,\n",
       "       0.94234847, 0.7464872 , 0.56025005, 0.61303672, 0.80908357])"
      ]
     },
     "execution_count": 66,
     "metadata": {},
     "output_type": "execute_result"
    }
   ],
   "source": [
    "eigenvalues"
   ]
  },
  {
   "cell_type": "code",
   "execution_count": 67,
   "id": "f4957942",
   "metadata": {},
   "outputs": [
    {
     "data": {
      "text/plain": [
       "array([[-0.14386483,  0.04856929, -0.18068585, ...,  0.01572071,\n",
       "        -0.00406299,  0.00215781],\n",
       "       [ 0.15061405, -0.16274114, -0.06985928, ...,  0.17274021,\n",
       "         0.09520972,  0.04634287],\n",
       "       [-0.09982039, -0.19960779, -0.11486757, ..., -0.05993573,\n",
       "         0.23333349, -0.01649947],\n",
       "       ...,\n",
       "       [ 0.14964196, -0.14833617, -0.18475433, ..., -0.22261343,\n",
       "         0.09603231,  0.15413505],\n",
       "       [ 0.15613542, -0.07206568,  0.01946134, ..., -0.09668031,\n",
       "         0.02446478, -0.09316864],\n",
       "       [ 0.10643075,  0.03672593,  0.02306239, ..., -0.02450084,\n",
       "        -0.06573381,  0.19413287]])"
      ]
     },
     "execution_count": 67,
     "metadata": {},
     "output_type": "execute_result"
    }
   ],
   "source": [
    "eigenvectors"
   ]
  },
  {
   "cell_type": "code",
   "execution_count": 68,
   "id": "b8fe1a3e",
   "metadata": {
    "ExecuteTime": {
     "end_time": "2024-04-28T17:29:22.448915Z",
     "start_time": "2024-04-28T17:29:22.418046Z"
    }
   },
   "outputs": [],
   "source": [
    "descending_sort = np.argsort(eigenvalues)[::-1]\n",
    "eigenvalues = eigenvalues[descending_sort] ##sorting = descending\n",
    "eigenvectors = eigenvectors[:, descending_sort] "
   ]
  },
  {
   "cell_type": "markdown",
   "id": "908e808d",
   "metadata": {},
   "source": [
    "### 4. Pick Top 30 EigenVector"
   ]
  },
  {
   "cell_type": "code",
   "execution_count": 69,
   "id": "02237f8a",
   "metadata": {},
   "outputs": [],
   "source": [
    "top_eigen_vectors = eigenvectors[:, :30]"
   ]
  },
  {
   "cell_type": "code",
   "execution_count": 70,
   "id": "18fe90bf",
   "metadata": {},
   "outputs": [
    {
     "data": {
      "text/plain": [
       "(80, 30)"
      ]
     },
     "execution_count": 70,
     "metadata": {},
     "output_type": "execute_result"
    }
   ],
   "source": [
    "top_eigen_vectors.shape"
   ]
  },
  {
   "cell_type": "markdown",
   "id": "9da0d148",
   "metadata": {},
   "source": [
    "### 5. Transform the standardised matrix.\n",
    "Standardised matrix * top k eigenvectors = PCA Transformed Data"
   ]
  },
  {
   "cell_type": "code",
   "execution_count": 71,
   "id": "e6b9ff29",
   "metadata": {},
   "outputs": [
    {
     "data": {
      "text/plain": [
       "array([ 0.30554438, -0.27971739, -0.50386714, -0.08828095, -1.63250548,\n",
       "        0.06434486,  1.57850027,  1.70624214, -3.42266971,  1.38259878,\n",
       "        0.53227019, -0.10162379,  0.1529697 ,  0.73003752, -1.38161035,\n",
       "       -1.26368634,  0.2389818 , -1.10811347, -1.85447864,  0.0291801 ,\n",
       "        1.77063018, -0.64690311,  1.12909392,  0.44652524, -0.58111313,\n",
       "        0.04110096, -0.94360731,  0.0524881 , -0.21135596, -0.39247151])"
      ]
     },
     "execution_count": 71,
     "metadata": {},
     "output_type": "execute_result"
    }
   ],
   "source": [
    "pca_matrix[0]"
   ]
  },
  {
   "cell_type": "code",
   "execution_count": 72,
   "id": "477430d2",
   "metadata": {},
   "outputs": [
    {
     "data": {
      "text/plain": [
       "array([-0.30554438, -0.27971739,  0.50386714,  0.08828095, -1.63250548,\n",
       "       -0.06434486, -1.57850027, -1.70624214, -3.42266971,  1.38259878,\n",
       "        0.53227019,  0.10162379, -0.1529697 , -0.73003752,  1.38161035,\n",
       "        1.26368634, -0.2389818 , -1.10811347,  1.85447864, -0.0291801 ,\n",
       "       -1.77063018,  0.64690311,  1.12909392, -0.44652524, -0.58111313,\n",
       "       -0.04110096,  0.94360731,  0.0524881 ,  0.21135596, -0.39247151])"
      ]
     },
     "execution_count": 72,
     "metadata": {},
     "output_type": "execute_result"
    }
   ],
   "source": [
    "(standardised_matrix @ top_eigen_vectors)[0]"
   ]
  }
 ],
 "metadata": {
  "kernelspec": {
   "display_name": "Python 3 (ipykernel)",
   "language": "python",
   "name": "python3"
  },
  "language_info": {
   "codemirror_mode": {
    "name": "ipython",
    "version": 3
   },
   "file_extension": ".py",
   "mimetype": "text/x-python",
   "name": "python",
   "nbconvert_exporter": "python",
   "pygments_lexer": "ipython3",
   "version": "3.10.7"
  }
 },
 "nbformat": 4,
 "nbformat_minor": 5
}
