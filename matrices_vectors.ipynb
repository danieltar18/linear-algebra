{
 "cells": [
  {
   "cell_type": "code",
   "execution_count": 34,
   "id": "b6771aac",
   "metadata": {},
   "outputs": [],
   "source": [
    "import numpy as np\n",
    "import scipy\n",
    "from scipy import linalg"
   ]
  },
  {
   "cell_type": "markdown",
   "id": "dc882776",
   "metadata": {},
   "source": [
    "# Creating Matrices"
   ]
  },
  {
   "cell_type": "code",
   "execution_count": 13,
   "id": "dc90da9b",
   "metadata": {},
   "outputs": [
    {
     "data": {
      "text/plain": [
       "matrix([[ 2,  5,  6],\n",
       "        [ 5,  7,  8],\n",
       "        [12, 15, 22]])"
      ]
     },
     "execution_count": 13,
     "metadata": {},
     "output_type": "execute_result"
    }
   ],
   "source": [
    "## Creating custom int\n",
    "np.matrix([[2, 5, 6], [5, 7, 8], [12, 15, 22]], dtype=\"int\")"
   ]
  },
  {
   "cell_type": "code",
   "execution_count": 19,
   "id": "32da0865",
   "metadata": {},
   "outputs": [
    {
     "data": {
      "text/plain": [
       "matrix([[ 2.,  5.,  6.],\n",
       "        [ 5.,  7.,  8.],\n",
       "        [12., 15., 22.]])"
      ]
     },
     "execution_count": 19,
     "metadata": {},
     "output_type": "execute_result"
    }
   ],
   "source": [
    "## Creating custom float\n",
    "np.matrix([[2, 5, 6], [5, 7, 8], [12, 15, 22]], dtype=\"float\")"
   ]
  },
  {
   "cell_type": "code",
   "execution_count": 32,
   "id": "47311625",
   "metadata": {},
   "outputs": [
    {
     "data": {
      "text/plain": [
       "array([[ 9,  1,  6],\n",
       "       [11,  3,  6],\n",
       "       [ 8, 12,  9]])"
      ]
     },
     "execution_count": 32,
     "metadata": {},
     "output_type": "execute_result"
    }
   ],
   "source": [
    "## Creating random matrix/array int\n",
    "np.random.randint(1, 15, size=(3, 3))"
   ]
  },
  {
   "cell_type": "code",
   "execution_count": 33,
   "id": "d961bb01",
   "metadata": {},
   "outputs": [
    {
     "data": {
      "text/plain": [
       "array([[0.78579075, 0.05446871, 0.13084778],\n",
       "       [0.50594009, 0.41181573, 0.72842499],\n",
       "       [0.20469154, 0.40016182, 0.03698282]])"
      ]
     },
     "execution_count": 33,
     "metadata": {},
     "output_type": "execute_result"
    }
   ],
   "source": [
    "## Creating random matrix/array flaot\n",
    "np.random.rand(3, 3)"
   ]
  },
  {
   "cell_type": "code",
   "execution_count": null,
   "id": "908bc407",
   "metadata": {},
   "outputs": [],
   "source": []
  },
  {
   "cell_type": "markdown",
   "id": "32d6f537",
   "metadata": {},
   "source": [
    "# Matrix Operations"
   ]
  },
  {
   "cell_type": "code",
   "execution_count": 75,
   "id": "d0ee44a4",
   "metadata": {},
   "outputs": [],
   "source": [
    "A = np.matrix([[12, 25, 3], [24, 100, 1]])\n",
    "B =  np.matrix([[12, 25, 3], [24, 100, 1], [56, 120, 9]])"
   ]
  },
  {
   "cell_type": "code",
   "execution_count": 76,
   "id": "6c611bcf",
   "metadata": {},
   "outputs": [
    {
     "data": {
      "text/plain": [
       "matrix([[ 12,  25,   3],\n",
       "        [ 24, 100,   1]])"
      ]
     },
     "execution_count": 76,
     "metadata": {},
     "output_type": "execute_result"
    }
   ],
   "source": [
    "A"
   ]
  },
  {
   "cell_type": "code",
   "execution_count": 77,
   "id": "bd4cafbe",
   "metadata": {},
   "outputs": [
    {
     "data": {
      "text/plain": [
       "matrix([[ 12,  24],\n",
       "        [ 25, 100],\n",
       "        [  3,   1]])"
      ]
     },
     "execution_count": 77,
     "metadata": {},
     "output_type": "execute_result"
    }
   ],
   "source": [
    "# Transpose\n",
    "A.T"
   ]
  },
  {
   "cell_type": "code",
   "execution_count": 78,
   "id": "1d936c04",
   "metadata": {},
   "outputs": [
    {
     "data": {
      "text/plain": [
       "matrix([[ 0.13646764, -0.03374125],\n",
       "        [-0.03341112,  0.01827082],\n",
       "        [ 0.06588878, -0.01729182]])"
      ]
     },
     "execution_count": 78,
     "metadata": {},
     "output_type": "execute_result"
    }
   ],
   "source": [
    "# Inverse\n",
    "A.I"
   ]
  },
  {
   "cell_type": "code",
   "execution_count": 79,
   "id": "cf768d97",
   "metadata": {},
   "outputs": [
    {
     "data": {
      "text/plain": [
       "matrix([[ 24,  50,   6],\n",
       "        [ 48, 200,   2]])"
      ]
     },
     "execution_count": 79,
     "metadata": {},
     "output_type": "execute_result"
    }
   ],
   "source": [
    "# Scaler multiplication\n",
    "2 * A"
   ]
  },
  {
   "cell_type": "code",
   "execution_count": 81,
   "id": "34d04ca4",
   "metadata": {},
   "outputs": [
    {
     "data": {
      "text/plain": [
       "matrix([[  912,  3160,    88],\n",
       "        [ 2744, 10720,   181]])"
      ]
     },
     "execution_count": 81,
     "metadata": {},
     "output_type": "execute_result"
    }
   ],
   "source": [
    "# Matrix multiplication\n",
    "A*B"
   ]
  },
  {
   "cell_type": "code",
   "execution_count": 87,
   "id": "883a03b8",
   "metadata": {},
   "outputs": [
    {
     "name": "stdout",
     "output_type": "stream",
     "text": [
      "12\n",
      "25\n",
      "3\n",
      "24\n",
      "100\n",
      "1\n"
     ]
    }
   ],
   "source": [
    "# Useful 1D iterator on flattened matrix\n",
    "for i in A.flat: \n",
    "    print(i)"
   ]
  },
  {
   "cell_type": "code",
   "execution_count": null,
   "id": "ada0fb47",
   "metadata": {},
   "outputs": [],
   "source": []
  },
  {
   "cell_type": "markdown",
   "id": "02bb1feb",
   "metadata": {},
   "source": [
    "### *But what if I try to run these operations on a 2d random NP array*"
   ]
  },
  {
   "cell_type": "code",
   "execution_count": 103,
   "id": "b2b2ca8d",
   "metadata": {},
   "outputs": [],
   "source": [
    "C = np.random.randint(5, 150, size=(4, 4))\n",
    "D = np.random.randint(5, 150, size=(4, 5))"
   ]
  },
  {
   "cell_type": "code",
   "execution_count": 104,
   "id": "84736e93",
   "metadata": {},
   "outputs": [
    {
     "data": {
      "text/plain": [
       "array([[ 33,  46,  55, 105],\n",
       "       [ 55, 126, 114,  34],\n",
       "       [ 44, 135, 121,  77],\n",
       "       [ 21,  50,  32, 142]])"
      ]
     },
     "execution_count": 104,
     "metadata": {},
     "output_type": "execute_result"
    }
   ],
   "source": [
    "C"
   ]
  },
  {
   "cell_type": "code",
   "execution_count": 105,
   "id": "c475d6fa",
   "metadata": {},
   "outputs": [
    {
     "data": {
      "text/plain": [
       "array([[ 33,  55,  44,  21],\n",
       "       [ 46, 126, 135,  50],\n",
       "       [ 55, 114, 121,  32],\n",
       "       [105,  34,  77, 142]])"
      ]
     },
     "execution_count": 105,
     "metadata": {},
     "output_type": "execute_result"
    }
   ],
   "source": [
    "C.T"
   ]
  },
  {
   "cell_type": "code",
   "execution_count": 115,
   "id": "60886d39",
   "metadata": {},
   "outputs": [
    {
     "name": "stdout",
     "output_type": "stream",
     "text": [
      "Array doesn't have I\n",
      "Trying Linalg\n",
      "\n",
      "[[ 0.00805002  0.05684885 -0.06075828  0.01338221]\n",
      " [-0.03979069  0.01834111 -0.00678639  0.02871111]\n",
      " [ 0.0388853  -0.03697872  0.03582954 -0.03932784]\n",
      " [ 0.00405743 -0.00653213  0.00330069  0.00381626]]\n"
     ]
    }
   ],
   "source": [
    "# Array doesn't have I\n",
    "try:\n",
    "    C.I\n",
    "except:\n",
    "    print(\"Array doesn't have I\")\n",
    "    print(\"Trying Linalg\\n\")\n",
    "    print(linalg.inv(C))"
   ]
  },
  {
   "cell_type": "code",
   "execution_count": 120,
   "id": "ed78d361",
   "metadata": {},
   "outputs": [
    {
     "name": "stdout",
     "output_type": "stream",
     "text": [
      "Matrix multiplication doesn't work at arrays!\n",
      "Trying Linalg\n",
      "\n",
      "[[16242 20311 12780 21398 15681]\n",
      " [25809 15308 20354 30779 28875]\n",
      " [27842 21911 23692 35284 31352]\n",
      " [16191 24176 13862 23523 14807]]\n"
     ]
    }
   ],
   "source": [
    "# Array doesn't have I\n",
    "try:\n",
    "    C * D\n",
    "except:\n",
    "    print(\"Matrix multiplication doesn't work at arrays!\")\n",
    "    print(\"Trying Linalg\\n\")\n",
    "    print(C.dot(D))"
   ]
  },
  {
   "cell_type": "code",
   "execution_count": 123,
   "id": "15ed3a5d",
   "metadata": {},
   "outputs": [
    {
     "data": {
      "text/plain": [
       "6107809.999999999"
      ]
     },
     "execution_count": 123,
     "metadata": {},
     "output_type": "execute_result"
    }
   ],
   "source": [
    "# Calculate Determinant\n",
    "linalg.det(C)"
   ]
  },
  {
   "cell_type": "code",
   "execution_count": 132,
   "id": "beabd680",
   "metadata": {},
   "outputs": [],
   "source": [
    "# Eigenvalues and eigenvectors\n",
    "eigenvalues, eigenvectors = linalg.eig(C)"
   ]
  },
  {
   "cell_type": "code",
   "execution_count": null,
   "id": "f15c5ad5",
   "metadata": {},
   "outputs": [],
   "source": []
  },
  {
   "cell_type": "markdown",
   "id": "30b1e9b5",
   "metadata": {},
   "source": [
    "# Matrix methods numpy-scipy"
   ]
  },
  {
   "cell_type": "code",
   "execution_count": 165,
   "id": "64023c65",
   "metadata": {},
   "outputs": [
    {
     "data": {
      "text/plain": [
       "array([[ 33,  46,  55, 105],\n",
       "       [ 55, 126, 114,  34],\n",
       "       [ 44, 135, 121,  77],\n",
       "       [ 21,  50,  32, 142]])"
      ]
     },
     "execution_count": 165,
     "metadata": {},
     "output_type": "execute_result"
    }
   ],
   "source": [
    "C"
   ]
  },
  {
   "cell_type": "code",
   "execution_count": 166,
   "id": "b7a8d6bb",
   "metadata": {},
   "outputs": [
    {
     "data": {
      "text/plain": [
       "15"
      ]
     },
     "execution_count": 166,
     "metadata": {},
     "output_type": "execute_result"
    }
   ],
   "source": [
    "C.argmax() ## max value index"
   ]
  },
  {
   "cell_type": "code",
   "execution_count": 167,
   "id": "fd279ad4",
   "metadata": {},
   "outputs": [
    {
     "data": {
      "text/plain": [
       "142"
      ]
     },
     "execution_count": 167,
     "metadata": {},
     "output_type": "execute_result"
    }
   ],
   "source": [
    "C.flatten()[C.argmax()]"
   ]
  },
  {
   "cell_type": "code",
   "execution_count": 213,
   "id": "d46c3ee3",
   "metadata": {},
   "outputs": [
    {
     "data": {
      "text/plain": [
       "array([ 33,  46,  55, 105])"
      ]
     },
     "execution_count": 213,
     "metadata": {},
     "output_type": "execute_result"
    }
   ],
   "source": [
    "np.choose([0, 0, 0, 0], C) #index array to construct a new array"
   ]
  },
  {
   "cell_type": "code",
   "execution_count": 223,
   "id": "482a0eff",
   "metadata": {},
   "outputs": [
    {
     "data": {
      "text/plain": [
       "[[33, 46, 55, 105], [55, 126, 114, 34], [44, 135, 121, 77], [21, 50, 32, 142]]"
      ]
     },
     "execution_count": 223,
     "metadata": {},
     "output_type": "execute_result"
    }
   ],
   "source": [
    "C.tolist()"
   ]
  },
  {
   "cell_type": "code",
   "execution_count": 224,
   "id": "f0b65e67",
   "metadata": {},
   "outputs": [
    {
     "data": {
      "text/plain": [
       "1190"
      ]
     },
     "execution_count": 224,
     "metadata": {},
     "output_type": "execute_result"
    }
   ],
   "source": [
    "C.sum()"
   ]
  },
  {
   "cell_type": "code",
   "execution_count": 225,
   "id": "18203619",
   "metadata": {},
   "outputs": [
    {
     "data": {
      "text/plain": [
       "74.375"
      ]
     },
     "execution_count": 225,
     "metadata": {},
     "output_type": "execute_result"
    }
   ],
   "source": [
    "C.mean()"
   ]
  },
  {
   "cell_type": "code",
   "execution_count": 226,
   "id": "069ab04c",
   "metadata": {},
   "outputs": [
    {
     "data": {
      "text/plain": [
       "array([[ 33,  79, 134, 239],\n",
       "       [ 55, 181, 295, 329],\n",
       "       [ 44, 179, 300, 377],\n",
       "       [ 21,  71, 103, 245]])"
      ]
     },
     "execution_count": 226,
     "metadata": {},
     "output_type": "execute_result"
    }
   ],
   "source": [
    "C.cumsum(axis=1) # cum sum along axis 1"
   ]
  },
  {
   "cell_type": "code",
   "execution_count": 222,
   "id": "c13a61f2",
   "metadata": {},
   "outputs": [
    {
     "data": {
      "text/plain": [
       "(5, 4)"
      ]
     },
     "execution_count": 222,
     "metadata": {},
     "output_type": "execute_result"
    }
   ],
   "source": [
    "D.reshape(5, -1).shape"
   ]
  },
  {
   "cell_type": "code",
   "execution_count": null,
   "id": "ebef8b69",
   "metadata": {},
   "outputs": [],
   "source": []
  },
  {
   "cell_type": "markdown",
   "id": "80bea727",
   "metadata": {},
   "source": [
    "# Special Matricies"
   ]
  },
  {
   "cell_type": "markdown",
   "id": "588982cb",
   "metadata": {},
   "source": [
    "## Vectors"
   ]
  },
  {
   "cell_type": "code",
   "execution_count": 228,
   "id": "b42ddfec",
   "metadata": {},
   "outputs": [],
   "source": [
    "v = np.array([5, 4, 2, 2])\n",
    "w = np.array([1, 1, 3, 3])"
   ]
  },
  {
   "cell_type": "code",
   "execution_count": 229,
   "id": "d5e206df",
   "metadata": {},
   "outputs": [
    {
     "data": {
      "text/plain": [
       "array([15, 12,  6,  6])"
      ]
     },
     "execution_count": 229,
     "metadata": {},
     "output_type": "execute_result"
    }
   ],
   "source": [
    "3 * v"
   ]
  },
  {
   "cell_type": "code",
   "execution_count": 230,
   "id": "349701b1",
   "metadata": {},
   "outputs": [
    {
     "data": {
      "text/plain": [
       "array([ 5,  5, 15, 15])"
      ]
     },
     "execution_count": 230,
     "metadata": {},
     "output_type": "execute_result"
    }
   ],
   "source": [
    "5 * w"
   ]
  },
  {
   "cell_type": "code",
   "execution_count": 237,
   "id": "9882d43f",
   "metadata": {},
   "outputs": [
    {
     "data": {
      "text/plain": [
       "array([6, 5, 5, 5])"
      ]
     },
     "execution_count": 237,
     "metadata": {},
     "output_type": "execute_result"
    }
   ],
   "source": [
    "v+w"
   ]
  },
  {
   "cell_type": "code",
   "execution_count": 239,
   "id": "8bcdfa9f",
   "metadata": {},
   "outputs": [
    {
     "data": {
      "text/plain": [
       "21"
      ]
     },
     "execution_count": 239,
     "metadata": {},
     "output_type": "execute_result"
    }
   ],
   "source": [
    "# Dot Product of vectors\n",
    "v.dot(w)"
   ]
  },
  {
   "cell_type": "code",
   "execution_count": 245,
   "id": "94281184",
   "metadata": {},
   "outputs": [
    {
     "data": {
      "text/plain": [
       "array([[  5,   1, -14]])"
      ]
     },
     "execution_count": 245,
     "metadata": {},
     "output_type": "execute_result"
    }
   ],
   "source": [
    "# Cross product\n",
    "np.cross(np.array([[2, 4, 1]]), np.array([[5, 3, 2]]))"
   ]
  },
  {
   "cell_type": "code",
   "execution_count": null,
   "id": "8f4fcb88",
   "metadata": {},
   "outputs": [],
   "source": []
  },
  {
   "cell_type": "markdown",
   "id": "d56334ac",
   "metadata": {},
   "source": [
    "## Quadratic Matrix"
   ]
  },
  {
   "cell_type": "code",
   "execution_count": 283,
   "id": "54011c1a",
   "metadata": {},
   "outputs": [
    {
     "data": {
      "text/plain": [
       "array([[322, 224, 330],\n",
       "       [329, 473, 405],\n",
       "       [479, 233, 270]])"
      ]
     },
     "execution_count": 283,
     "metadata": {},
     "output_type": "execute_result"
    }
   ],
   "source": [
    "np.random.randint(200, 500, size=(3, 3))"
   ]
  },
  {
   "cell_type": "code",
   "execution_count": null,
   "id": "e7c6087e",
   "metadata": {},
   "outputs": [],
   "source": []
  },
  {
   "cell_type": "markdown",
   "id": "0f4dff81",
   "metadata": {},
   "source": [
    "## Diagonal Matrix"
   ]
  },
  {
   "cell_type": "code",
   "execution_count": 277,
   "id": "2c6b766d",
   "metadata": {},
   "outputs": [],
   "source": [
    "import random"
   ]
  },
  {
   "cell_type": "code",
   "execution_count": 281,
   "id": "876a65f1",
   "metadata": {},
   "outputs": [
    {
     "data": {
      "text/plain": [
       "array([[21,  0,  0,  0,  0,  0,  0,  0,  0,  0],\n",
       "       [ 0, 30,  0,  0,  0,  0,  0,  0,  0,  0],\n",
       "       [ 0,  0, 20,  0,  0,  0,  0,  0,  0,  0],\n",
       "       [ 0,  0,  0,  7,  0,  0,  0,  0,  0,  0],\n",
       "       [ 0,  0,  0,  0, 24,  0,  0,  0,  0,  0],\n",
       "       [ 0,  0,  0,  0,  0, 31,  0,  0,  0,  0],\n",
       "       [ 0,  0,  0,  0,  0,  0, 44,  0,  0,  0],\n",
       "       [ 0,  0,  0,  0,  0,  0,  0,  3,  0,  0],\n",
       "       [ 0,  0,  0,  0,  0,  0,  0,  0,  5,  0],\n",
       "       [ 0,  0,  0,  0,  0,  0,  0,  0,  0, 35]])"
      ]
     },
     "execution_count": 281,
     "metadata": {},
     "output_type": "execute_result"
    }
   ],
   "source": [
    "np.diag(random.sample(range(1, 50), 10))"
   ]
  },
  {
   "cell_type": "code",
   "execution_count": null,
   "id": "dca03919",
   "metadata": {},
   "outputs": [],
   "source": []
  },
  {
   "cell_type": "markdown",
   "id": "04d9e2b6",
   "metadata": {},
   "source": [
    "## Identity Matrix"
   ]
  },
  {
   "cell_type": "code",
   "execution_count": 282,
   "id": "48f533ac",
   "metadata": {},
   "outputs": [
    {
     "data": {
      "text/plain": [
       "array([[1., 0., 0., 0., 0., 0., 0., 0.],\n",
       "       [0., 1., 0., 0., 0., 0., 0., 0.],\n",
       "       [0., 0., 1., 0., 0., 0., 0., 0.],\n",
       "       [0., 0., 0., 1., 0., 0., 0., 0.],\n",
       "       [0., 0., 0., 0., 1., 0., 0., 0.],\n",
       "       [0., 0., 0., 0., 0., 1., 0., 0.],\n",
       "       [0., 0., 0., 0., 0., 0., 1., 0.],\n",
       "       [0., 0., 0., 0., 0., 0., 0., 1.]])"
      ]
     },
     "execution_count": 282,
     "metadata": {},
     "output_type": "execute_result"
    }
   ],
   "source": [
    "np.identity(8)"
   ]
  },
  {
   "cell_type": "code",
   "execution_count": null,
   "id": "7427d8f9",
   "metadata": {},
   "outputs": [],
   "source": []
  },
  {
   "cell_type": "code",
   "execution_count": null,
   "id": "d1281b08",
   "metadata": {},
   "outputs": [],
   "source": []
  },
  {
   "cell_type": "code",
   "execution_count": null,
   "id": "443addec",
   "metadata": {},
   "outputs": [],
   "source": []
  }
 ],
 "metadata": {
  "kernelspec": {
   "display_name": "Python 3 (ipykernel)",
   "language": "python",
   "name": "python3"
  },
  "language_info": {
   "codemirror_mode": {
    "name": "ipython",
    "version": 3
   },
   "file_extension": ".py",
   "mimetype": "text/x-python",
   "name": "python",
   "nbconvert_exporter": "python",
   "pygments_lexer": "ipython3",
   "version": "3.10.7"
  }
 },
 "nbformat": 4,
 "nbformat_minor": 5
}
